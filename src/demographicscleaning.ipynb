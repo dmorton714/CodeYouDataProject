{
 "cells": [
  {
   "cell_type": "markdown",
   "id": "c2e09cc1",
   "metadata": {
    "vscode": {
     "languageId": "plaintext"
    }
   },
   "source": [
    "# Cleaning and Exploring the Demographics and Programs data"
   ]
  },
  {
   "cell_type": "code",
   "execution_count": 1,
   "id": "9b3e31c5",
   "metadata": {},
   "outputs": [],
   "source": [
    "import pandas as pd\n",
    "import numpy as np\n",
    "import openpyxl"
   ]
  },
  {
   "cell_type": "code",
   "execution_count": 5,
   "id": "a7d06e21",
   "metadata": {},
   "outputs": [],
   "source": [
    "df = pd.read_excel('All demographics and programs.xlsx')"
   ]
  },
  {
   "cell_type": "code",
   "execution_count": null,
   "id": "3acfed45",
   "metadata": {},
   "outputs": [],
   "source": [
    "\n",
    "def data_cleaning(demographics_clean):\n",
    "    \"\"\"\n",
    "    This function drops the first name and last name columns since they don't have any names, \n",
    "    drops Single Parent column because only 1 row has 'No' and rest are null,\n",
    "    drops Ethnicity Hispanic/Latino column because it is all null,\n",
    "    drops Ex-Offender because only 1 row has No and the rest are null,\n",
    "    combines values for Transgender M to F and F to M to the category 'Transgender' because there were only 16 that identifed M to F or F to M\n",
    "    Splits the 'Race' column into 4 because it has 1st, 2nd, 3rd, and 4th levels of selection separated by ;,\n",
    "    finally duplicate rows were dropped which also, conveniently, eliminated and duplicates for Auto ID\n",
    "    \"\"\"\n",
    "    demographics_clean = df.drop(columns=['First Name','Last Name','Ethnicity Hispanic/Latino','Single Parent','Ex-Offender','Program: Program Name','Outcome'])\n",
    "    demographics_clean['Gender'].str.replace('Transgender female to male','Transgender')\n",
    "    demographics_clean['Gender'].str.replace('Transgender male to female','Transgender')\n",
    "    splitting = demographics_clean['Race'].str.split(';', expand=True)\n",
    "    splitting.columns = [f'Race_{i+1}' for i in range(splitting.shape[1])]\n",
    "    demographics_clean = pd.concat([demographics_clean, splitting], axis=1)\n",
    "    demographics_clean = demographics_clean.drop(columns=['Race'])\n",
    "    demographics_clean = demographics_clean.drop_duplicates()\n",
    "    return(demographics_clean)\n",
    "\n",
    "demographics_clean = data_cleaning(df)"
   ]
  },
  {
   "cell_type": "code",
   "execution_count": 10,
   "id": "833ff998",
   "metadata": {},
   "outputs": [
    {
     "data": {
      "text/html": [
       "<div>\n",
       "<style scoped>\n",
       "    .dataframe tbody tr th:only-of-type {\n",
       "        vertical-align: middle;\n",
       "    }\n",
       "\n",
       "    .dataframe tbody tr th {\n",
       "        vertical-align: top;\n",
       "    }\n",
       "\n",
       "    .dataframe thead th {\n",
       "        text-align: right;\n",
       "    }\n",
       "</style>\n",
       "<table border=\"1\" class=\"dataframe\">\n",
       "  <thead>\n",
       "    <tr style=\"text-align: right;\">\n",
       "      <th></th>\n",
       "      <th>Auto Id</th>\n",
       "      <th>Gender</th>\n",
       "      <th>Veteran</th>\n",
       "      <th>Justice Involved</th>\n",
       "      <th>Race_1</th>\n",
       "      <th>Race_2</th>\n",
       "      <th>Race_3</th>\n",
       "      <th>Race_4</th>\n",
       "    </tr>\n",
       "  </thead>\n",
       "  <tbody>\n",
       "    <tr>\n",
       "      <th>0</th>\n",
       "      <td>202107-1206</td>\n",
       "      <td>Male</td>\n",
       "      <td>No</td>\n",
       "      <td>NaN</td>\n",
       "      <td>Black or African American</td>\n",
       "      <td>None</td>\n",
       "      <td>None</td>\n",
       "      <td>None</td>\n",
       "    </tr>\n",
       "    <tr>\n",
       "      <th>3</th>\n",
       "      <td>202108-5167</td>\n",
       "      <td>Male</td>\n",
       "      <td>No</td>\n",
       "      <td>No</td>\n",
       "      <td>Asian</td>\n",
       "      <td>None</td>\n",
       "      <td>None</td>\n",
       "      <td>None</td>\n",
       "    </tr>\n",
       "    <tr>\n",
       "      <th>4</th>\n",
       "      <td>202108-5171</td>\n",
       "      <td>Male</td>\n",
       "      <td>NaN</td>\n",
       "      <td>NaN</td>\n",
       "      <td>Black or African American</td>\n",
       "      <td>None</td>\n",
       "      <td>None</td>\n",
       "      <td>None</td>\n",
       "    </tr>\n",
       "    <tr>\n",
       "      <th>5</th>\n",
       "      <td>202108-5172</td>\n",
       "      <td>Female</td>\n",
       "      <td>NaN</td>\n",
       "      <td>NaN</td>\n",
       "      <td>White</td>\n",
       "      <td>None</td>\n",
       "      <td>None</td>\n",
       "      <td>None</td>\n",
       "    </tr>\n",
       "    <tr>\n",
       "      <th>6</th>\n",
       "      <td>202107-1208</td>\n",
       "      <td>Female</td>\n",
       "      <td>NaN</td>\n",
       "      <td>NaN</td>\n",
       "      <td>Black or African American</td>\n",
       "      <td>None</td>\n",
       "      <td>None</td>\n",
       "      <td>None</td>\n",
       "    </tr>\n",
       "  </tbody>\n",
       "</table>\n",
       "</div>"
      ],
      "text/plain": [
       "       Auto Id  Gender Veteran Justice Involved                     Race_1  \\\n",
       "0  202107-1206    Male      No              NaN  Black or African American   \n",
       "3  202108-5167    Male      No               No                      Asian   \n",
       "4  202108-5171    Male     NaN              NaN  Black or African American   \n",
       "5  202108-5172  Female     NaN              NaN                      White   \n",
       "6  202107-1208  Female     NaN              NaN  Black or African American   \n",
       "\n",
       "  Race_2 Race_3 Race_4  \n",
       "0   None   None   None  \n",
       "3   None   None   None  \n",
       "4   None   None   None  \n",
       "5   None   None   None  \n",
       "6   None   None   None  "
      ]
     },
     "execution_count": 10,
     "metadata": {},
     "output_type": "execute_result"
    }
   ],
   "source": [
    "demographics_clean.head()"
   ]
  },
  {
   "cell_type": "code",
   "execution_count": null,
   "id": "37a2aa6e",
   "metadata": {},
   "outputs": [],
   "source": [
    "# 2 remaining questions:\n",
    "# what does 'not applicable' mean for 'Veteran' column\n",
    "# what does 'Justice Involved' column mean?"
   ]
  }
 ],
 "metadata": {
  "kernelspec": {
   "display_name": ".venv",
   "language": "python",
   "name": "python3"
  },
  "language_info": {
   "codemirror_mode": {
    "name": "ipython",
    "version": 3
   },
   "file_extension": ".py",
   "mimetype": "text/x-python",
   "name": "python",
   "nbconvert_exporter": "python",
   "pygments_lexer": "ipython3",
   "version": "3.13.0"
  }
 },
 "nbformat": 4,
 "nbformat_minor": 5
}
