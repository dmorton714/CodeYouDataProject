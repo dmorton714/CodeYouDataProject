{
 "cells": [
  {
   "cell_type": "markdown",
   "id": "d8abf034",
   "metadata": {},
   "source": [
    "# Welcome to the new working notebook! \n",
    "\n",
    "### **Table of Contents**\n",
    "* [new imports](#new-imports)\n",
    "* [Read in the data](#read-in-the-data)\n",
    "* [Correct they datatypes here](#correct-they-datatypes-here)\n",
    "* [Data Cleaning](#data-cleaning)\n",
    "* [Explore Here!](#explore-here!)\n",
    "* [Your Cool Plots!](#your-cool-plots!)"
   ]
  },
  {
   "cell_type": "markdown",
   "id": "be23cab0",
   "metadata": {},
   "source": [
    "# new imports"
   ]
  },
  {
   "cell_type": "code",
   "execution_count": 7,
   "id": "05baf9e9",
   "metadata": {},
   "outputs": [],
   "source": [
    "import pandas as pd\n",
    "import openpyxl\n",
    "import sys\n",
    "import os\n",
    "\n",
    "# Add the parent directory of the notebook to sys.path\n",
    "sys.path.append(os.path.abspath(os.path.join(os.getcwd(), '..')))\n",
    "\n",
    "from cleaning import DemographicsCleaning"
   ]
  },
  {
   "cell_type": "markdown",
   "id": "b7fdb47d",
   "metadata": {},
   "source": [
    "# Read in the data "
   ]
  },
  {
   "cell_type": "code",
   "execution_count": 9,
   "id": "3e89bbd7",
   "metadata": {},
   "outputs": [],
   "source": [
    "df = pd.read_excel('../../data/All demographics and programs.xlsx')"
   ]
  },
  {
   "cell_type": "markdown",
   "id": "7e59616e",
   "metadata": {},
   "source": [
    "# Correct they datatypes here\n",
    "\n",
    "- Almost everything is an object\n",
    "- Bonus points if you only import in the columns that we need. \n",
    "\n",
    "[Link to more info](https://github.com/dmorton714/CY_post_grad_data/blob/main/data_projects/4_speed/2_data.ipynb)"
   ]
  },
  {
   "cell_type": "code",
   "execution_count": 11,
   "id": "9dd8f3eb",
   "metadata": {},
   "outputs": [
    {
     "name": "stdout",
     "output_type": "stream",
     "text": [
      "<class 'pandas.core.frame.DataFrame'>\n",
      "RangeIndex: 32230 entries, 0 to 32229\n",
      "Data columns (total 12 columns):\n",
      " #   Column                     Non-Null Count  Dtype  \n",
      "---  ------                     --------------  -----  \n",
      " 0   Auto Id                    32230 non-null  object \n",
      " 1   First Name                 32230 non-null  object \n",
      " 2   Last Name                  32230 non-null  object \n",
      " 3   Gender                     31621 non-null  object \n",
      " 4   Race                       31121 non-null  object \n",
      " 5   Ethnicity Hispanic/Latino  0 non-null      float64\n",
      " 6   Outcome                    15852 non-null  object \n",
      " 7   Veteran                    19955 non-null  object \n",
      " 8   Ex-Offender                1 non-null      object \n",
      " 9   Justice Involved           10235 non-null  object \n",
      " 10  Single Parent              1 non-null      object \n",
      " 11  Program: Program Name      32230 non-null  object \n",
      "dtypes: float64(1), object(11)\n",
      "memory usage: 3.0+ MB\n"
     ]
    }
   ],
   "source": [
    "df.info()"
   ]
  },
  {
   "cell_type": "markdown",
   "id": "f7c215ac",
   "metadata": {},
   "source": [
    "# Data Cleaning"
   ]
  },
  {
   "cell_type": "code",
   "execution_count": 10,
   "id": "95ef67fc",
   "metadata": {},
   "outputs": [
    {
     "data": {
      "text/html": [
       "<div>\n",
       "<style scoped>\n",
       "    .dataframe tbody tr th:only-of-type {\n",
       "        vertical-align: middle;\n",
       "    }\n",
       "\n",
       "    .dataframe tbody tr th {\n",
       "        vertical-align: top;\n",
       "    }\n",
       "\n",
       "    .dataframe thead th {\n",
       "        text-align: right;\n",
       "    }\n",
       "</style>\n",
       "<table border=\"1\" class=\"dataframe\">\n",
       "  <thead>\n",
       "    <tr style=\"text-align: right;\">\n",
       "      <th></th>\n",
       "      <th>Auto Id</th>\n",
       "      <th>Gender</th>\n",
       "      <th>Veteran</th>\n",
       "      <th>Justice Involved</th>\n",
       "      <th>Race_1</th>\n",
       "      <th>Race_2</th>\n",
       "      <th>Race_3</th>\n",
       "      <th>Race_4</th>\n",
       "    </tr>\n",
       "  </thead>\n",
       "  <tbody>\n",
       "    <tr>\n",
       "      <th>0</th>\n",
       "      <td>202107-1206</td>\n",
       "      <td>Male</td>\n",
       "      <td>No</td>\n",
       "      <td>NaN</td>\n",
       "      <td>Black or African American</td>\n",
       "      <td>None</td>\n",
       "      <td>None</td>\n",
       "      <td>None</td>\n",
       "    </tr>\n",
       "    <tr>\n",
       "      <th>3</th>\n",
       "      <td>202108-5167</td>\n",
       "      <td>Male</td>\n",
       "      <td>No</td>\n",
       "      <td>No</td>\n",
       "      <td>Asian</td>\n",
       "      <td>None</td>\n",
       "      <td>None</td>\n",
       "      <td>None</td>\n",
       "    </tr>\n",
       "    <tr>\n",
       "      <th>4</th>\n",
       "      <td>202108-5171</td>\n",
       "      <td>Male</td>\n",
       "      <td>NaN</td>\n",
       "      <td>NaN</td>\n",
       "      <td>Black or African American</td>\n",
       "      <td>None</td>\n",
       "      <td>None</td>\n",
       "      <td>None</td>\n",
       "    </tr>\n",
       "    <tr>\n",
       "      <th>5</th>\n",
       "      <td>202108-5172</td>\n",
       "      <td>Female</td>\n",
       "      <td>NaN</td>\n",
       "      <td>NaN</td>\n",
       "      <td>White</td>\n",
       "      <td>None</td>\n",
       "      <td>None</td>\n",
       "      <td>None</td>\n",
       "    </tr>\n",
       "    <tr>\n",
       "      <th>6</th>\n",
       "      <td>202107-1208</td>\n",
       "      <td>Female</td>\n",
       "      <td>NaN</td>\n",
       "      <td>NaN</td>\n",
       "      <td>Black or African American</td>\n",
       "      <td>None</td>\n",
       "      <td>None</td>\n",
       "      <td>None</td>\n",
       "    </tr>\n",
       "  </tbody>\n",
       "</table>\n",
       "</div>"
      ],
      "text/plain": [
       "       Auto Id  Gender Veteran Justice Involved                     Race_1  \\\n",
       "0  202107-1206    Male      No              NaN  Black or African American   \n",
       "3  202108-5167    Male      No               No                      Asian   \n",
       "4  202108-5171    Male     NaN              NaN  Black or African American   \n",
       "5  202108-5172  Female     NaN              NaN                      White   \n",
       "6  202107-1208  Female     NaN              NaN  Black or African American   \n",
       "\n",
       "  Race_2 Race_3 Race_4  \n",
       "0   None   None   None  \n",
       "3   None   None   None  \n",
       "4   None   None   None  \n",
       "5   None   None   None  \n",
       "6   None   None   None  "
      ]
     },
     "execution_count": 10,
     "metadata": {},
     "output_type": "execute_result"
    }
   ],
   "source": [
    "demographics_clean = DemographicsCleaning.clean(df)\n",
    "demographics_clean.head()"
   ]
  },
  {
   "cell_type": "markdown",
   "id": "d6ed55c0",
   "metadata": {},
   "source": [
    "# Explore Here! "
   ]
  },
  {
   "cell_type": "code",
   "execution_count": null,
   "id": "c63da90c",
   "metadata": {},
   "outputs": [],
   "source": []
  },
  {
   "cell_type": "markdown",
   "id": "01196841",
   "metadata": {},
   "source": [
    "# Your Cool Plots! "
   ]
  },
  {
   "cell_type": "markdown",
   "id": "23dce660",
   "metadata": {},
   "source": []
  },
  {
   "cell_type": "code",
   "execution_count": 12,
   "id": "c493ed94",
   "metadata": {},
   "outputs": [
    {
     "name": "stdout",
     "output_type": "stream",
     "text": [
      "\n",
      "--- ✅ Copy the Markdown below and paste it into a new markdown cell ---\n",
      "\n",
      "### **Table of Contents**\n",
      "* [new imports](#new-imports)\n",
      "* [Read in the data](#read-in-the-data)\n",
      "* [Correct they datatypes here](#correct-they-datatypes-here)\n",
      "* [Data Cleaning](#data-cleaning)\n",
      "* [Explore Here!](#explore-here!)\n",
      "* [Your Cool Plots!](#your-cool-plots!)\n",
      "\n"
     ]
    }
   ],
   "source": [
    "from toc import generate_toc_from_notebook\n",
    "\n",
    "notebook_path = 'cleaning.ipynb'\n",
    "generate_toc_from_notebook(notebook_path)"
   ]
  }
 ],
 "metadata": {
  "kernelspec": {
   "display_name": "venv",
   "language": "python",
   "name": "python3"
  },
  "language_info": {
   "codemirror_mode": {
    "name": "ipython",
    "version": 3
   },
   "file_extension": ".py",
   "mimetype": "text/x-python",
   "name": "python",
   "nbconvert_exporter": "python",
   "pygments_lexer": "ipython3",
   "version": "3.12.2"
  }
 },
 "nbformat": 4,
 "nbformat_minor": 5
}
