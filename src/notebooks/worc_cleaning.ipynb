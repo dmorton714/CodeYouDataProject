{
 "cells": [
  {
   "cell_type": "markdown",
   "metadata": {},
   "source": [
    "#### Best Practice\n",
    "\n",
    "Be sure to set up a virtual environment as there were lots of imports in this project\n",
    "| Command | Linux/Mac | GitBash |\n",
    "| ------- | --------- | ------- |\n",
    "| Create  | python3 -m venv venv | python -m venv venv |\n",
    "| Activate | source venv/bin/activate | source venv/Scripts/activate |\n",
    "| Install | pip install -r requirements.txt or pip install packages | pip install -r requirements.txt or pip install packages|\n",
    "| Deactivate | deactivate | deactivate |"
   ]
  },
  {
   "cell_type": "markdown",
   "metadata": {},
   "source": [
    "## WORC Employment\n",
    "\n",
    "1. Import libraries\n",
    "2. Read in the data"
   ]
  },
  {
   "cell_type": "code",
   "execution_count": 6,
   "metadata": {},
   "outputs": [],
   "source": [
    "import pandas as pd\n",
    "\n"
   ]
  },
  {
   "cell_type": "code",
   "execution_count": 7,
   "metadata": {},
   "outputs": [],
   "source": [
    "import os"
   ]
  },
  {
   "cell_type": "code",
   "execution_count": 11,
   "metadata": {},
   "outputs": [],
   "source": [
    "# Read in file\n",
    "\n",
    "file_path = \"../../data/WORC_Employment.xlsx\"\n",
    "\n"
   ]
  },
  {
   "cell_type": "code",
   "execution_count": 13,
   "metadata": {},
   "outputs": [],
   "source": [
    "# read in file\n",
    "worc = pd.read_excel(file_path)"
   ]
  },
  {
   "cell_type": "code",
   "execution_count": 14,
   "metadata": {},
   "outputs": [
    {
     "data": {
      "text/html": [
       "<div>\n",
       "<style scoped>\n",
       "    .dataframe tbody tr th:only-of-type {\n",
       "        vertical-align: middle;\n",
       "    }\n",
       "\n",
       "    .dataframe tbody tr th {\n",
       "        vertical-align: top;\n",
       "    }\n",
       "\n",
       "    .dataframe thead th {\n",
       "        text-align: right;\n",
       "    }\n",
       "</style>\n",
       "<table border=\"1\" class=\"dataframe\">\n",
       "  <thead>\n",
       "    <tr style=\"text-align: right;\">\n",
       "      <th></th>\n",
       "      <th>Auto Id</th>\n",
       "      <th>Full Name</th>\n",
       "      <th>Email</th>\n",
       "      <th>EnrollmentId</th>\n",
       "      <th>Employment History Name</th>\n",
       "      <th>Company Name</th>\n",
       "      <th>Job Title</th>\n",
       "      <th>Start Date</th>\n",
       "      <th>Program: Program Name</th>\n",
       "      <th>Mailing City</th>\n",
       "      <th>Mailing Zip/Postal Code</th>\n",
       "      <th>ATP Placement Type</th>\n",
       "      <th>Salary</th>\n",
       "      <th>Gender</th>\n",
       "      <th>Race</th>\n",
       "      <th>KY Region</th>\n",
       "    </tr>\n",
       "  </thead>\n",
       "  <tbody>\n",
       "    <tr>\n",
       "      <th>0</th>\n",
       "      <td>202203-7853</td>\n",
       "      <td>name name</td>\n",
       "      <td>name@gmail.com</td>\n",
       "      <td>Enrollment-6442</td>\n",
       "      <td>EH-001676</td>\n",
       "      <td>Appalachian Regional Healthcare</td>\n",
       "      <td>Network Coordinator</td>\n",
       "      <td>2023-10-09</td>\n",
       "      <td>Code Kentucky 22-23</td>\n",
       "      <td>Lost Creek</td>\n",
       "      <td>41348</td>\n",
       "      <td>First ATP Placement - New to Tech</td>\n",
       "      <td>16.00</td>\n",
       "      <td>Male</td>\n",
       "      <td>White</td>\n",
       "      <td>SOAR</td>\n",
       "    </tr>\n",
       "    <tr>\n",
       "      <th>1</th>\n",
       "      <td>202207-8826</td>\n",
       "      <td>name name</td>\n",
       "      <td>name@gmail.com</td>\n",
       "      <td>Enrollment-6188</td>\n",
       "      <td>EH-001824</td>\n",
       "      <td>MCHC - Mountain Comprehensive Health Corporation</td>\n",
       "      <td>Junior IT systems administrator</td>\n",
       "      <td>2024-02-12</td>\n",
       "      <td>Code Kentucky 22-23</td>\n",
       "      <td>Greys Knob</td>\n",
       "      <td>40808</td>\n",
       "      <td>First ATP Placement - New to Tech</td>\n",
       "      <td>18.00</td>\n",
       "      <td>Female</td>\n",
       "      <td>White</td>\n",
       "      <td>SOAR</td>\n",
       "    </tr>\n",
       "    <tr>\n",
       "      <th>2</th>\n",
       "      <td>202306-12150</td>\n",
       "      <td>name name</td>\n",
       "      <td>name@gmail.com</td>\n",
       "      <td>Enrollment-7740</td>\n",
       "      <td>EH-002555</td>\n",
       "      <td>University of Kentucky</td>\n",
       "      <td>Technical Support Specialist II</td>\n",
       "      <td>2024-04-01</td>\n",
       "      <td>Code Kentucky 23-24</td>\n",
       "      <td>Richmond</td>\n",
       "      <td>40475</td>\n",
       "      <td>First ATP Placement - Promotion</td>\n",
       "      <td>25.00</td>\n",
       "      <td>Male</td>\n",
       "      <td>White</td>\n",
       "      <td>SOAR</td>\n",
       "    </tr>\n",
       "    <tr>\n",
       "      <th>3</th>\n",
       "      <td>202207-9034</td>\n",
       "      <td>name name</td>\n",
       "      <td>name@gmail.com</td>\n",
       "      <td>Enrollment-6146</td>\n",
       "      <td>EH-002207</td>\n",
       "      <td>Childers oil company</td>\n",
       "      <td>Web developer</td>\n",
       "      <td>2024-04-23</td>\n",
       "      <td>Code Kentucky 22-23</td>\n",
       "      <td>Hazard</td>\n",
       "      <td>41701</td>\n",
       "      <td>First ATP Placement - New to Tech</td>\n",
       "      <td>26.92</td>\n",
       "      <td>Male</td>\n",
       "      <td>White</td>\n",
       "      <td>SOAR</td>\n",
       "    </tr>\n",
       "    <tr>\n",
       "      <th>4</th>\n",
       "      <td>202306-12149</td>\n",
       "      <td>name name</td>\n",
       "      <td>name@gmail.com</td>\n",
       "      <td>Enrollment-7701</td>\n",
       "      <td>EH-002294</td>\n",
       "      <td>Code:You</td>\n",
       "      <td>Student Community Coordinator</td>\n",
       "      <td>2024-05-20</td>\n",
       "      <td>Code Kentucky 23-24</td>\n",
       "      <td>Eubank</td>\n",
       "      <td>42567</td>\n",
       "      <td>First ATP Placement - New to Tech</td>\n",
       "      <td>25.48</td>\n",
       "      <td>Female</td>\n",
       "      <td>White</td>\n",
       "      <td>SOAR</td>\n",
       "    </tr>\n",
       "  </tbody>\n",
       "</table>\n",
       "</div>"
      ],
      "text/plain": [
       "        Auto Id  Full Name           Email     EnrollmentId  \\\n",
       "0   202203-7853  name name  name@gmail.com  Enrollment-6442   \n",
       "1   202207-8826  name name  name@gmail.com  Enrollment-6188   \n",
       "2  202306-12150  name name  name@gmail.com  Enrollment-7740   \n",
       "3   202207-9034  name name  name@gmail.com  Enrollment-6146   \n",
       "4  202306-12149  name name  name@gmail.com  Enrollment-7701   \n",
       "\n",
       "  Employment History Name                                      Company Name  \\\n",
       "0               EH-001676                   Appalachian Regional Healthcare   \n",
       "1               EH-001824  MCHC - Mountain Comprehensive Health Corporation   \n",
       "2               EH-002555                            University of Kentucky   \n",
       "3               EH-002207                              Childers oil company   \n",
       "4               EH-002294                                          Code:You   \n",
       "\n",
       "                         Job Title Start Date Program: Program Name  \\\n",
       "0              Network Coordinator 2023-10-09   Code Kentucky 22-23   \n",
       "1  Junior IT systems administrator 2024-02-12   Code Kentucky 22-23   \n",
       "2  Technical Support Specialist II 2024-04-01   Code Kentucky 23-24   \n",
       "3                    Web developer 2024-04-23   Code Kentucky 22-23   \n",
       "4    Student Community Coordinator 2024-05-20   Code Kentucky 23-24   \n",
       "\n",
       "  Mailing City  Mailing Zip/Postal Code                 ATP Placement Type  \\\n",
       "0   Lost Creek                    41348  First ATP Placement - New to Tech   \n",
       "1   Greys Knob                    40808  First ATP Placement - New to Tech   \n",
       "2     Richmond                    40475    First ATP Placement - Promotion   \n",
       "3       Hazard                    41701  First ATP Placement - New to Tech   \n",
       "4       Eubank                    42567  First ATP Placement - New to Tech   \n",
       "\n",
       "   Salary  Gender   Race KY Region  \n",
       "0   16.00    Male  White      SOAR  \n",
       "1   18.00  Female  White      SOAR  \n",
       "2   25.00    Male  White      SOAR  \n",
       "3   26.92    Male  White      SOAR  \n",
       "4   25.48  Female  White      SOAR  "
      ]
     },
     "execution_count": 14,
     "metadata": {},
     "output_type": "execute_result"
    }
   ],
   "source": [
    "# review top 5\n",
    "worc.head()"
   ]
  },
  {
   "cell_type": "code",
   "execution_count": 15,
   "metadata": {},
   "outputs": [
    {
     "data": {
      "text/plain": [
       "(25, 16)"
      ]
     },
     "execution_count": 15,
     "metadata": {},
     "output_type": "execute_result"
    }
   ],
   "source": [
    "worc.shape"
   ]
  },
  {
   "cell_type": "markdown",
   "metadata": {},
   "source": [
    "### Review of data  \n",
    "\n",
    "1. Check for unique values in name, email, ATP Placement Type column - to determine if necessary to keep\n",
    "2. Check for null values - remove"
   ]
  },
  {
   "cell_type": "code",
   "execution_count": 16,
   "metadata": {},
   "outputs": [],
   "source": [
    "def unique(df, column='column'):\n",
    "    \"\"\"\n",
    "    Check for unique values in a specified DataFrame column.\n",
    "\n",
    "    Parameters:\n",
    "    df: The DataFrame that contains the data.\n",
    "    column: The name of the column to check for uniqueness.\n",
    "\n",
    "    Returns:\n",
    "    numpy.ndarray: An array of unique values in the specified column.\n",
    "    \"\"\"\n",
    "    unique_values = df[column].unique()\n",
    "    print(f\"Unique values in '{column}': {unique_values}\")\n",
    "    \n",
    "    return unique_values\n"
   ]
  },
  {
   "cell_type": "code",
   "execution_count": 17,
   "metadata": {},
   "outputs": [
    {
     "name": "stdout",
     "output_type": "stream",
     "text": [
      "Unique values in 'Full Name': ['name name']\n",
      "Unique values in 'Email': ['name@gmail.com']\n",
      "Unique values in 'ATP Placement Type': ['First ATP Placement - New to Tech' 'First ATP Placement - Promotion'\n",
      " 'First ATP Placement - Already in Tech']\n"
     ]
    },
    {
     "data": {
      "text/plain": [
       "array(['First ATP Placement - New to Tech',\n",
       "       'First ATP Placement - Promotion',\n",
       "       'First ATP Placement - Already in Tech'], dtype=object)"
      ]
     },
     "execution_count": 17,
     "metadata": {},
     "output_type": "execute_result"
    }
   ],
   "source": [
    "unique(worc,'Full Name')\n",
    "unique(worc, 'Email')\n",
    "unique(worc, 'ATP Placement Type')"
   ]
  },
  {
   "cell_type": "code",
   "execution_count": 18,
   "metadata": {},
   "outputs": [
    {
     "data": {
      "text/plain": [
       "np.True_"
      ]
     },
     "execution_count": 18,
     "metadata": {},
     "output_type": "execute_result"
    }
   ],
   "source": [
    "# Check for isnull\n",
    "worc.isnull().any().any()"
   ]
  },
  {
   "cell_type": "code",
   "execution_count": 19,
   "metadata": {},
   "outputs": [
    {
     "data": {
      "text/plain": [
       "Auto Id                    0\n",
       "Full Name                  0\n",
       "Email                      0\n",
       "EnrollmentId               0\n",
       "Employment History Name    0\n",
       "Company Name               0\n",
       "Job Title                  0\n",
       "Start Date                 0\n",
       "Program: Program Name      0\n",
       "Mailing City               0\n",
       "Mailing Zip/Postal Code    0\n",
       "ATP Placement Type         0\n",
       "Salary                     3\n",
       "Gender                     0\n",
       "Race                       0\n",
       "KY Region                  0\n",
       "dtype: int64"
      ]
     },
     "execution_count": 19,
     "metadata": {},
     "output_type": "execute_result"
    }
   ],
   "source": [
    "# Checking where isnull values are located\n",
    "worc.isnull().sum()"
   ]
  },
  {
   "cell_type": "markdown",
   "metadata": {},
   "source": [
    "# Which Columns to Drop\n",
    "- Even though there are no unique values for name and email will keep those items as requested\n",
    "- Will drop na/null as well"
   ]
  },
  {
   "cell_type": "code",
   "execution_count": 20,
   "metadata": {},
   "outputs": [],
   "source": [
    "# Dropping multiple columns based including those with no unique values as well as those that seem unnecessary\n",
    "cols_to_drop = ['Auto Id','Employment History Name']\n",
    "\n",
    "worc_cols_dropped = worc.drop(columns=cols_to_drop, axis=1)"
   ]
  },
  {
   "cell_type": "code",
   "execution_count": 21,
   "metadata": {},
   "outputs": [],
   "source": [
    "# worc_cols_dropped_nulls = worc_cols_dropped.dropna()"
   ]
  },
  {
   "cell_type": "code",
   "execution_count": 23,
   "metadata": {},
   "outputs": [],
   "source": [
    "worc_cleaned = worc_cols_dropped"
   ]
  },
  {
   "cell_type": "code",
   "execution_count": 24,
   "metadata": {},
   "outputs": [
    {
     "data": {
      "text/plain": [
       "(25, 14)"
      ]
     },
     "execution_count": 24,
     "metadata": {},
     "output_type": "execute_result"
    }
   ],
   "source": [
    "worc_cleaned.shape"
   ]
  },
  {
   "cell_type": "code",
   "execution_count": 25,
   "metadata": {},
   "outputs": [
    {
     "data": {
      "text/html": [
       "<div>\n",
       "<style scoped>\n",
       "    .dataframe tbody tr th:only-of-type {\n",
       "        vertical-align: middle;\n",
       "    }\n",
       "\n",
       "    .dataframe tbody tr th {\n",
       "        vertical-align: top;\n",
       "    }\n",
       "\n",
       "    .dataframe thead th {\n",
       "        text-align: right;\n",
       "    }\n",
       "</style>\n",
       "<table border=\"1\" class=\"dataframe\">\n",
       "  <thead>\n",
       "    <tr style=\"text-align: right;\">\n",
       "      <th></th>\n",
       "      <th>Full Name</th>\n",
       "      <th>Email</th>\n",
       "      <th>EnrollmentId</th>\n",
       "      <th>Company Name</th>\n",
       "      <th>Job Title</th>\n",
       "      <th>Start Date</th>\n",
       "      <th>Program: Program Name</th>\n",
       "      <th>Mailing City</th>\n",
       "      <th>Mailing Zip/Postal Code</th>\n",
       "      <th>ATP Placement Type</th>\n",
       "      <th>Salary</th>\n",
       "      <th>Gender</th>\n",
       "      <th>Race</th>\n",
       "      <th>KY Region</th>\n",
       "    </tr>\n",
       "  </thead>\n",
       "  <tbody>\n",
       "    <tr>\n",
       "      <th>0</th>\n",
       "      <td>name name</td>\n",
       "      <td>name@gmail.com</td>\n",
       "      <td>Enrollment-6442</td>\n",
       "      <td>Appalachian Regional Healthcare</td>\n",
       "      <td>Network Coordinator</td>\n",
       "      <td>2023-10-09</td>\n",
       "      <td>Code Kentucky 22-23</td>\n",
       "      <td>Lost Creek</td>\n",
       "      <td>41348</td>\n",
       "      <td>First ATP Placement - New to Tech</td>\n",
       "      <td>16.00</td>\n",
       "      <td>Male</td>\n",
       "      <td>White</td>\n",
       "      <td>SOAR</td>\n",
       "    </tr>\n",
       "    <tr>\n",
       "      <th>1</th>\n",
       "      <td>name name</td>\n",
       "      <td>name@gmail.com</td>\n",
       "      <td>Enrollment-6188</td>\n",
       "      <td>MCHC - Mountain Comprehensive Health Corporation</td>\n",
       "      <td>Junior IT systems administrator</td>\n",
       "      <td>2024-02-12</td>\n",
       "      <td>Code Kentucky 22-23</td>\n",
       "      <td>Greys Knob</td>\n",
       "      <td>40808</td>\n",
       "      <td>First ATP Placement - New to Tech</td>\n",
       "      <td>18.00</td>\n",
       "      <td>Female</td>\n",
       "      <td>White</td>\n",
       "      <td>SOAR</td>\n",
       "    </tr>\n",
       "    <tr>\n",
       "      <th>2</th>\n",
       "      <td>name name</td>\n",
       "      <td>name@gmail.com</td>\n",
       "      <td>Enrollment-7740</td>\n",
       "      <td>University of Kentucky</td>\n",
       "      <td>Technical Support Specialist II</td>\n",
       "      <td>2024-04-01</td>\n",
       "      <td>Code Kentucky 23-24</td>\n",
       "      <td>Richmond</td>\n",
       "      <td>40475</td>\n",
       "      <td>First ATP Placement - Promotion</td>\n",
       "      <td>25.00</td>\n",
       "      <td>Male</td>\n",
       "      <td>White</td>\n",
       "      <td>SOAR</td>\n",
       "    </tr>\n",
       "    <tr>\n",
       "      <th>3</th>\n",
       "      <td>name name</td>\n",
       "      <td>name@gmail.com</td>\n",
       "      <td>Enrollment-6146</td>\n",
       "      <td>Childers oil company</td>\n",
       "      <td>Web developer</td>\n",
       "      <td>2024-04-23</td>\n",
       "      <td>Code Kentucky 22-23</td>\n",
       "      <td>Hazard</td>\n",
       "      <td>41701</td>\n",
       "      <td>First ATP Placement - New to Tech</td>\n",
       "      <td>26.92</td>\n",
       "      <td>Male</td>\n",
       "      <td>White</td>\n",
       "      <td>SOAR</td>\n",
       "    </tr>\n",
       "    <tr>\n",
       "      <th>4</th>\n",
       "      <td>name name</td>\n",
       "      <td>name@gmail.com</td>\n",
       "      <td>Enrollment-7701</td>\n",
       "      <td>Code:You</td>\n",
       "      <td>Student Community Coordinator</td>\n",
       "      <td>2024-05-20</td>\n",
       "      <td>Code Kentucky 23-24</td>\n",
       "      <td>Eubank</td>\n",
       "      <td>42567</td>\n",
       "      <td>First ATP Placement - New to Tech</td>\n",
       "      <td>25.48</td>\n",
       "      <td>Female</td>\n",
       "      <td>White</td>\n",
       "      <td>SOAR</td>\n",
       "    </tr>\n",
       "  </tbody>\n",
       "</table>\n",
       "</div>"
      ],
      "text/plain": [
       "   Full Name           Email     EnrollmentId  \\\n",
       "0  name name  name@gmail.com  Enrollment-6442   \n",
       "1  name name  name@gmail.com  Enrollment-6188   \n",
       "2  name name  name@gmail.com  Enrollment-7740   \n",
       "3  name name  name@gmail.com  Enrollment-6146   \n",
       "4  name name  name@gmail.com  Enrollment-7701   \n",
       "\n",
       "                                       Company Name  \\\n",
       "0                   Appalachian Regional Healthcare   \n",
       "1  MCHC - Mountain Comprehensive Health Corporation   \n",
       "2                            University of Kentucky   \n",
       "3                              Childers oil company   \n",
       "4                                          Code:You   \n",
       "\n",
       "                         Job Title Start Date Program: Program Name  \\\n",
       "0              Network Coordinator 2023-10-09   Code Kentucky 22-23   \n",
       "1  Junior IT systems administrator 2024-02-12   Code Kentucky 22-23   \n",
       "2  Technical Support Specialist II 2024-04-01   Code Kentucky 23-24   \n",
       "3                    Web developer 2024-04-23   Code Kentucky 22-23   \n",
       "4    Student Community Coordinator 2024-05-20   Code Kentucky 23-24   \n",
       "\n",
       "  Mailing City  Mailing Zip/Postal Code                 ATP Placement Type  \\\n",
       "0   Lost Creek                    41348  First ATP Placement - New to Tech   \n",
       "1   Greys Knob                    40808  First ATP Placement - New to Tech   \n",
       "2     Richmond                    40475    First ATP Placement - Promotion   \n",
       "3       Hazard                    41701  First ATP Placement - New to Tech   \n",
       "4       Eubank                    42567  First ATP Placement - New to Tech   \n",
       "\n",
       "   Salary  Gender   Race KY Region  \n",
       "0   16.00    Male  White      SOAR  \n",
       "1   18.00  Female  White      SOAR  \n",
       "2   25.00    Male  White      SOAR  \n",
       "3   26.92    Male  White      SOAR  \n",
       "4   25.48  Female  White      SOAR  "
      ]
     },
     "execution_count": 25,
     "metadata": {},
     "output_type": "execute_result"
    }
   ],
   "source": [
    "worc_cleaned.head()"
   ]
  },
  {
   "cell_type": "code",
   "execution_count": 26,
   "metadata": {},
   "outputs": [],
   "source": [
    "worc_cleaned.to_excel(\"worc_employment.xlsx\", index=False)"
   ]
  }
 ],
 "metadata": {
  "kernelspec": {
   "display_name": "venv",
   "language": "python",
   "name": "python3"
  },
  "language_info": {
   "codemirror_mode": {
    "name": "ipython",
    "version": 3
   },
   "file_extension": ".py",
   "mimetype": "text/x-python",
   "name": "python",
   "nbconvert_exporter": "python",
   "pygments_lexer": "ipython3",
   "version": "3.13.0"
  }
 },
 "nbformat": 4,
 "nbformat_minor": 2
}
