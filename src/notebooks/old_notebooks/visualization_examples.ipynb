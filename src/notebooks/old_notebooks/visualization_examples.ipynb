{
 "cells": [
  {
   "cell_type": "markdown",
   "id": "b0c6df40",
   "metadata": {},
   "source": [
    "# Visualization examples\n",
    "\n",
    "Visualizion was not turn into a class because the project will use Google Locker for dashboard creation, this notebook only works to showcase how to use the Data Manipulation classes."
   ]
  },
  {
   "cell_type": "markdown",
   "id": "fc151064",
   "metadata": {},
   "source": [
    "## Imports"
   ]
  },
  {
   "cell_type": "code",
   "execution_count": 11,
   "id": "47cd23cd",
   "metadata": {},
   "outputs": [],
   "source": [
    "import pandas as pd\n",
    "import plotly.express as px\n",
    "import os\n",
    "import sys\n",
    "parent_dir = os.path.abspath(\"..\")\n",
    "sys.path.append(parent_dir)\n",
    "from dash import Dash, dcc, html, Input, Output\n",
    "from most_common_pathways_taken_data import Most_common_pathways_taken_data\n",
    "from completion_rate_data import Completion_rate_data\n",
    "from cleaning_enrollments_data import EnrollmentsCleaning"
   ]
  },
  {
   "cell_type": "markdown",
   "id": "cc61af47",
   "metadata": {},
   "source": [
    "## Cleaning data\n",
    "\n",
    "This step should be done before the use of any of the Data classes"
   ]
  },
  {
   "cell_type": "code",
   "execution_count": 12,
   "id": "ba57e157",
   "metadata": {},
   "outputs": [],
   "source": [
    "cleaner = EnrollmentsCleaning(pd.read_excel('../../data/ARC_Enrollments.xlsx'))\n"
   ]
  },
  {
   "cell_type": "markdown",
   "id": "4225b677",
   "metadata": {},
   "source": [
    "## Most common pathway taken:"
   ]
  },
  {
   "cell_type": "code",
   "execution_count": 13,
   "id": "fa1b6e02",
   "metadata": {},
   "outputs": [
    {
     "data": {
      "text/html": [
       "\n",
       "        <iframe\n",
       "            width=\"100%\"\n",
       "            height=\"650\"\n",
       "            src=\"http://127.0.0.1:8052/\"\n",
       "            frameborder=\"0\"\n",
       "            allowfullscreen\n",
       "            \n",
       "        ></iframe>\n",
       "        "
      ],
      "text/plain": [
       "<IPython.lib.display.IFrame at 0x122767770>"
      ]
     },
     "metadata": {},
     "output_type": "display_data"
    }
   ],
   "source": [
    "def Dash_most_selected_path_by_cohort() -> Dash: # Need to pass the dataframe argument because of how the Data is structure\n",
    "    app = Dash(__name__)\n",
    "    # Const\n",
    "    data_class = Most_common_pathways_taken_data(cleaner.Get_clean_data())\n",
    "\n",
    "    dropdown_options = data_class.Get_cohorts_list()\n",
    "    pathway_color = {\n",
    "        'Web Development M1': 'blue',\n",
    "        'Data Analysis M1': 'red', \n",
    "        'Software Development M1': 'green',\n",
    "        'Quality Assurance M1': 'yellow', \n",
    "        'User Experience M1': 'purple'\n",
    "    }\n",
    "\n",
    "    # Display\n",
    "    app.layout = html.Div([\n",
    "        html.H2('Cohorts', style={'text-align': \"center\"}),\n",
    "        html.P('Select Cohort:'),\n",
    "        dcc.Dropdown(\n",
    "            id=\"dropdown\",\n",
    "            options=dropdown_options,\n",
    "            value=dropdown_options[0],\n",
    "            clearable=False,\n",
    "        ),\n",
    "        dcc.Graph(id=\"graph\")\n",
    "        \n",
    "    ], style={'backgroundColor':'white'})\n",
    "\n",
    "    @app.callback(\n",
    "        Output(\"graph\", \"figure\"),\n",
    "        Input(\"dropdown\", \"value\"))\n",
    "\n",
    "    # Graph\n",
    "    def tt(time):\n",
    "        df = data_class.Get_data_by_cohort(time)\n",
    "        fig = px.pie(df, names='Service', values='count', color='Service', color_discrete_map=pathway_color)\n",
    "        return fig\n",
    "\n",
    "    return app\n",
    "\n",
    "    # TODO: Add number of students per each cohort \n",
    "    # TODO: Fix the options on the selection \n",
    "    # TODO: make colors better\n",
    "\n",
    "Dash_most_selected_path_by_cohort().run(debug=True, port=8052)"
   ]
  },
  {
   "cell_type": "markdown",
   "id": "6b5b514e",
   "metadata": {},
   "source": [
    "## Compleation rates:"
   ]
  },
  {
   "cell_type": "code",
   "execution_count": 15,
   "id": "c0b7d44e",
   "metadata": {},
   "outputs": [
    {
     "data": {
      "text/html": [
       "\n",
       "        <iframe\n",
       "            width=\"100%\"\n",
       "            height=\"650\"\n",
       "            src=\"http://127.0.0.1:8053/\"\n",
       "            frameborder=\"0\"\n",
       "            allowfullscreen\n",
       "            \n",
       "        ></iframe>\n",
       "        "
      ],
      "text/plain": [
       "<IPython.lib.display.IFrame at 0x127367770>"
      ]
     },
     "metadata": {},
     "output_type": "display_data"
    }
   ],
   "source": [
    "def Dash_completion_rates_by_path() -> Dash: # TODO: fix data structure so visualization doesn't use df\n",
    "    app2 = Dash(__name__)\n",
    "    # Const\n",
    "    data_class = Completion_rate_data(cleaner.Get_clean_data())\n",
    "    completion_df = data_class.Get_completion_percentages().round(2)\n",
    "    options = data_class.Get_pathways_name(completion_df)\n",
    "\n",
    "    # Display\n",
    "    app2.layout = html.Div([\n",
    "        html.H2('Pathways Completion', style={'text-align': \"center\"}),\n",
    "        html.P('Select pathway:'),\n",
    "        dcc.Dropdown(\n",
    "            id=\"dropdown\",\n",
    "            options=options,\n",
    "            value=options[0],\n",
    "            clearable=False,\n",
    "        ),\n",
    "        dcc.Graph(id=\"graph\")\n",
    "        \n",
    "    ], style={'backgroundColor':'white'})\n",
    "\n",
    "    @app2.callback(\n",
    "        Output(\"graph\", \"figure\"),\n",
    "        Input(\"dropdown\", \"value\"))\n",
    "\n",
    "    # Graph\n",
    "    # TODO: Need to add an extra selection box with the cohorts\n",
    "    def Display_pathway_completion(p):\n",
    "        df = completion_df[completion_df['Pathway'] == p]\n",
    "        fig = px.bar(df, x='Module', y='Successfully Completed')\n",
    "        return fig\n",
    "\n",
    "    return app2\n",
    "\n",
    "Dash_completion_rates_by_path().run(debug=True, port=8053)"
   ]
  }
 ],
 "metadata": {
  "kernelspec": {
   "display_name": "venv (3.12.2)",
   "language": "python",
   "name": "python3"
  },
  "language_info": {
   "codemirror_mode": {
    "name": "ipython",
    "version": 3
   },
   "file_extension": ".py",
   "mimetype": "text/x-python",
   "name": "python",
   "nbconvert_exporter": "python",
   "pygments_lexer": "ipython3",
   "version": "3.12.2"
  }
 },
 "nbformat": 4,
 "nbformat_minor": 5
}
