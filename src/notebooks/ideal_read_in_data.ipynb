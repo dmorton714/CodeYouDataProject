{
 "cells": [
  {
   "cell_type": "markdown",
   "id": "8d232fdb",
   "metadata": {},
   "source": [
    "### **Table of Contents**\n",
    "  * [read in data](#read-in-data)\n",
    "  * [Update cleaning code](#update-cleaning-code)\n",
    "  * [Generate report](#generate-report)\n",
    "  * [Plots](#plots)"
   ]
  },
  {
   "cell_type": "code",
   "execution_count": 1,
   "id": "d11a2343",
   "metadata": {},
   "outputs": [],
   "source": [
    "import pandas as pd\n",
    "import matplotlib.pyplot as plt\n",
    "import plotly.express as px\n",
    "import dash\n",
    "import os\n",
    "import sys"
   ]
  },
  {
   "cell_type": "markdown",
   "id": "0764cac1",
   "metadata": {},
   "source": [
    "## read in data\n",
    "Psudo code:\n",
    "- read in all the files in the data folder \n",
    "  - accounting for them being in xlsx or csv \n",
    "- dataframe variable name should end up being file name minus extension\n",
    "\n",
    "- This allows us to just drop in any export with any name and it should run. "
   ]
  },
  {
   "cell_type": "code",
   "execution_count": null,
   "id": "7cd30f44",
   "metadata": {},
   "outputs": [],
   "source": [
    "\n",
    "# for data in sys.path:\n",
    "#   if data.emndswith('.xlsx') or data.endswith('.csv'):\n",
    "#     df = pd.read_excel(data) if data.endswith('.xlsx') else pd.read_csv(data)\n",
    "#     print(f\"Data loaded from: {data}\")\n",
    "#     break\n",
    "\n",
    "def load_data_folder(folder_path=\"data\"):\n",
    "    dataframes = {}\n",
    "\n",
    "    for file in os.listdir(folder_path):\n",
    "        if file.endswith(\".csv\") or file.endswith(\".xlsx\"):\n",
    "            file_path = os.path.join(folder_path, file)\n",
    "            file_name = os.path.splitext(file)[0]  \n",
    "\n",
    "            if file.endswith(\".csv\"):\n",
    "                df = pd.read_csv(file_path)\n",
    "            else:\n",
    "                df = pd.read_excel(file_path)\n",
    "\n",
    "            dataframes[file_name] = df\n",
    "\n",
    "    return dataframes"
   ]
  },
  {
   "cell_type": "markdown",
   "id": "fe6f5506",
   "metadata": {},
   "source": [
    "## Update cleaning code \n",
    "- Look at our cleaning code that we have. \n",
    "- we should start to make changes to it to account for this. \n",
    "- We need to make it so it so the program doesn't crash when something fails \n",
    "  - [Try Except logic updates](https://www.w3schools.com/python/python_try_except.asp)\n",
    "  - make the messages mean something meaningful\n",
    "- Ideally we will not drop anything from our data \n"
   ]
  },
  {
   "cell_type": "code",
   "execution_count": null,
   "id": "749ae60a",
   "metadata": {},
   "outputs": [],
   "source": [
    "'''\n",
    "See the functions in files:\n",
    "- src/Carmen_WORCEmployment.py\n",
    "- src/cleaning_enrollments_data.py\n",
    "- src/cleaning.py\n",
    "'''"
   ]
  },
  {
   "cell_type": "markdown",
   "id": "6ddbb4c0",
   "metadata": {},
   "source": [
    "## Generate report \n",
    "\n",
    "- Overall completion of program only accounting for the new style of classes m1-m4\n",
    "- completion by year \n",
    "- completion over all by pathway \n",
    "- completion by year by pathway \n",
    "- Feel free to get creative here adding gender etc to get us a better understanding \n",
    "- education level and the above... \n",
    "- export this as a txt file "
   ]
  },
  {
   "cell_type": "code",
   "execution_count": null,
   "id": "8d6485e5",
   "metadata": {},
   "outputs": [],
   "source": []
  },
  {
   "cell_type": "markdown",
   "id": "859cf674",
   "metadata": {},
   "source": [
    "## Plots \n",
    "- Look at the various plots \n",
    "- make a consistent color scheme\n",
    "- pick the plots that go with the report above \n",
    "- make missing plots \n",
    "- make plots have the option to show & save in the functions\n",
    "\n",
    "see `src/notebooks/visualization_examples.ipynb`\n",
    "See below from `src/Carmen_WORCEmployment_Plots.py`"
   ]
  },
  {
   "cell_type": "code",
   "execution_count": null,
   "id": "81009a87",
   "metadata": {},
   "outputs": [],
   "source": [
    "def plot_salary_by_gender(data):\n",
    "    plt.figure(figsize=(8, 5))\n",
    "    sns.boxplot(data=data, x='Gender', y='Salary')\n",
    "    plt.title(\"Salary Distribution by Gender\")\n",
    "    plt.show()\n",
    "\n",
    "\n",
    "def plot_avg_salary_by_city(data):\n",
    "    region_salary = data.groupby('Mailing City')['Salary'].mean().sort_values()\n",
    "    region_salary.plot(kind='barh', figsize=(8, 5), title=\"Average Salary by KY Region\")\n",
    "    plt.xlabel(\"Average Salary\")\n",
    "    plt.show()\n",
    "\n",
    "\n",
    "def plot_placements_over_time(data):\n",
    "    data.set_index('Start Date').resample('M').size().plot(kind='line', marker='o', figsize=(10, 4))\n",
    "    plt.title(\"Number of Placements Over Time\")\n",
    "    plt.ylabel(\"Placements\")\n",
    "    plt.show()\n",
    "\n",
    "\n",
    "def plot_placement_type_by_program(data):\n",
    "    plt.figure(figsize=(10, 6))\n",
    "    sns.countplot(data=data, x='ATP Placement Type', hue='Program: Program Name')\n",
    "    plt.xticks(rotation=45)\n",
    "    plt.title(\"Placement Type by Program\")\n",
    "    plt.show()\n",
    "\n",
    "\n",
    "def plot_top_cities(data):\n",
    "    city_counts = data['Mailing City'].value_counts().head(10)\n",
    "    city_counts.plot(kind='bar', title='Top Cities by Participant Count', figsize=(8, 4))\n",
    "    plt.ylabel(\"Count\")\n",
    "    plt.show()"
   ]
  },
  {
   "cell_type": "markdown",
   "id": "f905708f",
   "metadata": {},
   "source": [
    "TOC generator "
   ]
  },
  {
   "cell_type": "code",
   "execution_count": 4,
   "id": "d4fc7116",
   "metadata": {},
   "outputs": [
    {
     "name": "stdout",
     "output_type": "stream",
     "text": [
      "\n",
      "--- ✅ Copy the Markdown below and paste it into a new markdown cell ---\n",
      "\n",
      "### **Table of Contents**\n",
      "  * [read in data](#read-in-data)\n",
      "  * [Update cleaning code](#update-cleaning-code)\n",
      "  * [Generate report](#generate-report)\n",
      "  * [Plots](#plots)\n",
      "\n"
     ]
    }
   ],
   "source": [
    "import json\n",
    "import os\n",
    "\n",
    "\n",
    "def generate_toc_from_notebook(notebook_path):\n",
    "    \"\"\"\n",
    "    Parses a local .ipynb file and generates Markdown for a Table of Contents.\n",
    "    \"\"\"\n",
    "    if not os.path.isfile(notebook_path):\n",
    "        print(f\"❌ Error: File not found at '{notebook_path}'\")\n",
    "        return\n",
    "\n",
    "    with open(notebook_path, 'r', encoding='utf-8') as f:\n",
    "        notebook = json.load(f)\n",
    "\n",
    "    toc_markdown = \"### **Table of Contents**\\n\"\n",
    "    for cell in notebook.get('cells', []):\n",
    "        if cell.get('cell_type') == 'markdown':\n",
    "            for line in cell.get('source', []):\n",
    "                if line.strip().startswith('#'):\n",
    "                    level = line.count('#')\n",
    "                    title = line.strip('#').strip()\n",
    "                    link = title.lower().replace(' ', '-').strip('-.()')\n",
    "                    indent = '  ' * (level - 1)\n",
    "                    toc_markdown += f\"{indent}* [{title}](#{link})\\n\"\n",
    "\n",
    "    print(\"\\n--- ✅ Copy the Markdown below and paste it \"\n",
    "          \"into a new markdown cell ---\\n\")\n",
    "    print(toc_markdown)\n",
    "\n",
    "\n",
    "notebook_path = 'ideal.ipynb'\n",
    "generate_toc_from_notebook(notebook_path)\n"
   ]
  }
 ],
 "metadata": {
  "kernelspec": {
   "display_name": "venv (3.12.2)",
   "language": "python",
   "name": "python3"
  },
  "language_info": {
   "codemirror_mode": {
    "name": "ipython",
    "version": 3
   },
   "file_extension": ".py",
   "mimetype": "text/x-python",
   "name": "python",
   "nbconvert_exporter": "python",
   "pygments_lexer": "ipython3",
   "version": "3.13.0"
  }
 },
 "nbformat": 4,
 "nbformat_minor": 5
}
