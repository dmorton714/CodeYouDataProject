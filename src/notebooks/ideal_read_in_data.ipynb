{
 "cells": [
  {
   "cell_type": "markdown",
   "id": "8d232fdb",
   "metadata": {},
   "source": [
    "### **Table of Contents**\n",
    "  * [read in data](#read-in-data)\n",
    "  * [Update cleaning code](#update-cleaning-code)\n",
    "  * [Generate report](#generate-report)\n",
    "  * [Plots](#plots)"
   ]
  },
  {
   "cell_type": "code",
   "execution_count": 19,
   "id": "d11a2343",
   "metadata": {},
   "outputs": [],
   "source": [
    "import pandas as pd\n",
    "# import matplotlib.pyplot as plt\n",
    "# import plotly.express as px\n",
    "# import dash\n",
    "from pathlib import Path\n",
    "from typing import Dict, Union\n",
    "import os\n",
    "import sys"
   ]
  },
  {
   "cell_type": "markdown",
   "id": "0764cac1",
   "metadata": {},
   "source": [
    "## read in data\n",
    "Psudo code:\n",
    "- read in all the files in the data folder \n",
    "  - accounting for them being in xlsx or csv \n",
    "- dataframe variable name should end up being file name minus extension\n",
    "\n",
    "- This allows us to just drop in any export with any name and it should run. "
   ]
  },
  {
   "cell_type": "code",
   "execution_count": 9,
   "id": "7cd30f44",
   "metadata": {},
   "outputs": [],
   "source": [
    "\n",
    "# for data in sys.path:\n",
    "#   if data.emndswith('.xlsx') or data.endswith('.csv'):\n",
    "#     df = pd.read_excel(data) if data.endswith('.xlsx') else pd.read_csv(data)\n",
    "#     print(f\"Data loaded from: {data}\")\n",
    "#     break\n",
    "\n",
    "def load_data_folder(folder_path=\"../../data\"):\n",
    "    dataframes = {}\n",
    "\n",
    "    for file in os.listdir(folder_path):\n",
    "        if file.endswith(\".csv\") or file.endswith(\".xlsx\"):\n",
    "            file_path = os.path.join(folder_path, file)\n",
    "            file_name = os.path.splitext(file)[0]  \n",
    "\n",
    "            if file.endswith(\".csv\"):\n",
    "                df = pd.read_csv(file_path)\n",
    "            else:\n",
    "                df = pd.read_excel(file_path)\n",
    "\n",
    "            dataframes[file_name] = df\n",
    "\n",
    "    return dataframes"
   ]
  },
  {
   "cell_type": "code",
   "execution_count": 15,
   "id": "fd40c062",
   "metadata": {},
   "outputs": [
    {
     "data": {
      "text/html": [
       "<div>\n",
       "<style scoped>\n",
       "    .dataframe tbody tr th:only-of-type {\n",
       "        vertical-align: middle;\n",
       "    }\n",
       "\n",
       "    .dataframe tbody tr th {\n",
       "        vertical-align: top;\n",
       "    }\n",
       "\n",
       "    .dataframe thead th {\n",
       "        text-align: right;\n",
       "    }\n",
       "</style>\n",
       "<table border=\"1\" class=\"dataframe\">\n",
       "  <thead>\n",
       "    <tr style=\"text-align: right;\">\n",
       "      <th></th>\n",
       "      <th>Auto Id</th>\n",
       "      <th>First Name</th>\n",
       "      <th>Last Name</th>\n",
       "      <th>Gender</th>\n",
       "      <th>Race</th>\n",
       "      <th>Ethnicity Hispanic/Latino</th>\n",
       "      <th>Outcome</th>\n",
       "      <th>Veteran</th>\n",
       "      <th>Ex-Offender</th>\n",
       "      <th>Justice Involved</th>\n",
       "      <th>Single Parent</th>\n",
       "      <th>Program: Program Name</th>\n",
       "    </tr>\n",
       "  </thead>\n",
       "  <tbody>\n",
       "    <tr>\n",
       "      <th>0</th>\n",
       "      <td>202107-1206</td>\n",
       "      <td>name</td>\n",
       "      <td>name</td>\n",
       "      <td>Male</td>\n",
       "      <td>Black or African American</td>\n",
       "      <td>NaN</td>\n",
       "      <td>NaN</td>\n",
       "      <td>No</td>\n",
       "      <td>NaN</td>\n",
       "      <td>NaN</td>\n",
       "      <td>NaN</td>\n",
       "      <td>Reimage 21-22</td>\n",
       "    </tr>\n",
       "    <tr>\n",
       "      <th>1</th>\n",
       "      <td>202107-1206</td>\n",
       "      <td>name</td>\n",
       "      <td>name</td>\n",
       "      <td>Male</td>\n",
       "      <td>Black or African American</td>\n",
       "      <td>NaN</td>\n",
       "      <td>NaN</td>\n",
       "      <td>No</td>\n",
       "      <td>NaN</td>\n",
       "      <td>NaN</td>\n",
       "      <td>NaN</td>\n",
       "      <td>Reimage 21-22</td>\n",
       "    </tr>\n",
       "    <tr>\n",
       "      <th>2</th>\n",
       "      <td>202107-1206</td>\n",
       "      <td>name</td>\n",
       "      <td>name</td>\n",
       "      <td>Male</td>\n",
       "      <td>Black or African American</td>\n",
       "      <td>NaN</td>\n",
       "      <td>NaN</td>\n",
       "      <td>No</td>\n",
       "      <td>NaN</td>\n",
       "      <td>NaN</td>\n",
       "      <td>NaN</td>\n",
       "      <td>Reimage 21-22</td>\n",
       "    </tr>\n",
       "    <tr>\n",
       "      <th>3</th>\n",
       "      <td>202108-5167</td>\n",
       "      <td>name</td>\n",
       "      <td>name</td>\n",
       "      <td>Male</td>\n",
       "      <td>Asian</td>\n",
       "      <td>NaN</td>\n",
       "      <td>Successfully Completed</td>\n",
       "      <td>No</td>\n",
       "      <td>NaN</td>\n",
       "      <td>No</td>\n",
       "      <td>NaN</td>\n",
       "      <td>Tech Louisville 21-22</td>\n",
       "    </tr>\n",
       "    <tr>\n",
       "      <th>4</th>\n",
       "      <td>202108-5171</td>\n",
       "      <td>name</td>\n",
       "      <td>name</td>\n",
       "      <td>Male</td>\n",
       "      <td>Black or African American</td>\n",
       "      <td>NaN</td>\n",
       "      <td>NaN</td>\n",
       "      <td>NaN</td>\n",
       "      <td>NaN</td>\n",
       "      <td>NaN</td>\n",
       "      <td>NaN</td>\n",
       "      <td>Tech Louisville 21-22</td>\n",
       "    </tr>\n",
       "  </tbody>\n",
       "</table>\n",
       "</div>"
      ],
      "text/plain": [
       "       Auto Id First Name Last Name Gender                       Race  \\\n",
       "0  202107-1206       name      name   Male  Black or African American   \n",
       "1  202107-1206       name      name   Male  Black or African American   \n",
       "2  202107-1206       name      name   Male  Black or African American   \n",
       "3  202108-5167       name      name   Male                      Asian   \n",
       "4  202108-5171       name      name   Male  Black or African American   \n",
       "\n",
       "   Ethnicity Hispanic/Latino                 Outcome Veteran Ex-Offender  \\\n",
       "0                        NaN                     NaN      No         NaN   \n",
       "1                        NaN                     NaN      No         NaN   \n",
       "2                        NaN                     NaN      No         NaN   \n",
       "3                        NaN  Successfully Completed      No         NaN   \n",
       "4                        NaN                     NaN     NaN         NaN   \n",
       "\n",
       "  Justice Involved Single Parent  Program: Program Name  \n",
       "0              NaN           NaN          Reimage 21-22  \n",
       "1              NaN           NaN          Reimage 21-22  \n",
       "2              NaN           NaN          Reimage 21-22  \n",
       "3               No           NaN  Tech Louisville 21-22  \n",
       "4              NaN           NaN  Tech Louisville 21-22  "
      ]
     },
     "execution_count": 15,
     "metadata": {},
     "output_type": "execute_result"
    }
   ],
   "source": [
    "df = load_data_folder()\n",
    "all_demo = df['All_demographics_and_programs']\n",
    "all_demo.head()"
   ]
  },
  {
   "cell_type": "code",
   "execution_count": 16,
   "id": "2735cb8e",
   "metadata": {},
   "outputs": [
    {
     "data": {
      "text/plain": [
       "dict_keys(['ARC_Enrollments', 'ARC_Application', 'All_demographics_and_programs'])"
      ]
     },
     "execution_count": 16,
     "metadata": {},
     "output_type": "execute_result"
    }
   ],
   "source": [
    "df.keys()"
   ]
  },
  {
   "cell_type": "code",
   "execution_count": 24,
   "id": "c92c9717",
   "metadata": {},
   "outputs": [
    {
     "data": {
      "text/plain": [
       "dict_keys(['ARC_Enrollments', 'ARC_Application', 'All_demographics_and_programs'])"
      ]
     },
     "execution_count": 24,
     "metadata": {},
     "output_type": "execute_result"
    }
   ],
   "source": [
    "def load_data_folder(\n",
    "    folder_path: Union[str, os.PathLike] = \"../../data\"\n",
    ") -> Dict[str, pd.DataFrame]:\n",
    "    \"\"\"\n",
    "    Load all CSV/XLS/XLSX files in a folder into pandas DataFrames.\n",
    "\n",
    "    Parameters\n",
    "    ----------\n",
    "    folder_path : str | os.PathLike, optional\n",
    "        Path to the folder containing the files. Defaults to \"../../data\".\n",
    "\n",
    "    Returns\n",
    "    -------\n",
    "    Dict[str, pandas.DataFrame]\n",
    "        A mapping from the file's stem (filename without extension) to its\n",
    "        loaded DataFrame. For example, \"employees.csv\" -> key \"employees\".\n",
    "\n",
    "    Raises\n",
    "    ------\n",
    "    FileNotFoundError\n",
    "        If `folder_path` does not exist.\n",
    "    PermissionError\n",
    "        If the folder or files cannot be accessed due to permissions.\n",
    "    pd.errors.EmptyDataError\n",
    "        If a CSV file is empty and cannot be parsed.\n",
    "\n",
    "    Notes\n",
    "    -----\n",
    "    - Supported extensions: .csv, .xls, .xlsx (case-insensitive).\n",
    "    - If both `name.csv` and `name.xlsx` exist, the later one encountered will\n",
    "      overwrite the earlier entry for key `name`.\n",
    "    \"\"\"\n",
    "    path = Path(folder_path)\n",
    "    if not path.exists():\n",
    "        raise FileNotFoundError(f\"Folder not found: {path.resolve()}\")\n",
    "\n",
    "    dataframes: Dict[str, pd.DataFrame] = {}\n",
    "    for p in path.iterdir():\n",
    "        if not p.is_file():\n",
    "            continue\n",
    "\n",
    "        ext = p.suffix.lower()\n",
    "        if ext == \".csv\":\n",
    "            df = pd.read_csv(p)\n",
    "        elif ext in {\".xlsx\", \".xls\"}:\n",
    "            df = pd.read_excel(p)\n",
    "        else:\n",
    "            continue\n",
    "\n",
    "        dataframes[p.stem] = df\n",
    "\n",
    "    return dataframes\n",
    "\n",
    "dfs = load_data_folder()\n",
    "dfs.keys()"
   ]
  },
  {
   "cell_type": "code",
   "execution_count": null,
   "id": "60e75468",
   "metadata": {},
   "outputs": [
    {
     "data": {
      "text/plain": [
       "dict_keys(['ARC_Enrollments', 'ARC_Application', 'All_demographics_and_programs'])"
      ]
     },
     "execution_count": 23,
     "metadata": {},
     "output_type": "execute_result"
    }
   ],
   "source": []
  },
  {
   "cell_type": "markdown",
   "id": "fe6f5506",
   "metadata": {},
   "source": [
    "## Update cleaning code \n",
    "- Look at our cleaning code that we have. \n",
    "- we should start to make changes to it to account for this. \n",
    "- We need to make it so it so the program doesn't crash when something fails \n",
    "  - [Try Except logic updates](https://www.w3schools.com/python/python_try_except.asp)\n",
    "  - make the messages mean something meaningful\n",
    "- Ideally we will not drop anything from our data \n"
   ]
  },
  {
   "cell_type": "code",
   "execution_count": null,
   "id": "749ae60a",
   "metadata": {},
   "outputs": [],
   "source": [
    "'''\n",
    "See the functions in files:\n",
    "- src/Carmen_WORCEmployment.py\n",
    "- src/cleaning_enrollments_data.py\n",
    "- src/cleaning.py\n",
    "'''"
   ]
  },
  {
   "cell_type": "markdown",
   "id": "6ddbb4c0",
   "metadata": {},
   "source": [
    "## Generate report \n",
    "\n",
    "- Overall completion of program only accounting for the new style of classes m1-m4\n",
    "- completion by year \n",
    "- completion over all by pathway \n",
    "- completion by year by pathway \n",
    "- Feel free to get creative here adding gender etc to get us a better understanding \n",
    "- education level and the above... \n",
    "- export this as a txt file "
   ]
  },
  {
   "cell_type": "code",
   "execution_count": null,
   "id": "8d6485e5",
   "metadata": {},
   "outputs": [],
   "source": []
  },
  {
   "cell_type": "markdown",
   "id": "859cf674",
   "metadata": {},
   "source": [
    "## Plots \n",
    "- Look at the various plots \n",
    "- make a consistent color scheme\n",
    "- pick the plots that go with the report above \n",
    "- make missing plots \n",
    "- make plots have the option to show & save in the functions\n",
    "\n",
    "see `src/notebooks/visualization_examples.ipynb`\n",
    "See below from `src/Carmen_WORCEmployment_Plots.py`"
   ]
  },
  {
   "cell_type": "code",
   "execution_count": null,
   "id": "81009a87",
   "metadata": {},
   "outputs": [],
   "source": [
    "def plot_salary_by_gender(data):\n",
    "    plt.figure(figsize=(8, 5))\n",
    "    sns.boxplot(data=data, x='Gender', y='Salary')\n",
    "    plt.title(\"Salary Distribution by Gender\")\n",
    "    plt.show()\n",
    "\n",
    "\n",
    "def plot_avg_salary_by_city(data):\n",
    "    region_salary = data.groupby('Mailing City')['Salary'].mean().sort_values()\n",
    "    region_salary.plot(kind='barh', figsize=(8, 5), title=\"Average Salary by KY Region\")\n",
    "    plt.xlabel(\"Average Salary\")\n",
    "    plt.show()\n",
    "\n",
    "\n",
    "def plot_placements_over_time(data):\n",
    "    data.set_index('Start Date').resample('M').size().plot(kind='line', marker='o', figsize=(10, 4))\n",
    "    plt.title(\"Number of Placements Over Time\")\n",
    "    plt.ylabel(\"Placements\")\n",
    "    plt.show()\n",
    "\n",
    "\n",
    "def plot_placement_type_by_program(data):\n",
    "    plt.figure(figsize=(10, 6))\n",
    "    sns.countplot(data=data, x='ATP Placement Type', hue='Program: Program Name')\n",
    "    plt.xticks(rotation=45)\n",
    "    plt.title(\"Placement Type by Program\")\n",
    "    plt.show()\n",
    "\n",
    "\n",
    "def plot_top_cities(data):\n",
    "    city_counts = data['Mailing City'].value_counts().head(10)\n",
    "    city_counts.plot(kind='bar', title='Top Cities by Participant Count', figsize=(8, 4))\n",
    "    plt.ylabel(\"Count\")\n",
    "    plt.show()"
   ]
  },
  {
   "cell_type": "markdown",
   "id": "f905708f",
   "metadata": {},
   "source": [
    "TOC generator "
   ]
  },
  {
   "cell_type": "code",
   "execution_count": 4,
   "id": "d4fc7116",
   "metadata": {},
   "outputs": [
    {
     "name": "stdout",
     "output_type": "stream",
     "text": [
      "\n",
      "--- ✅ Copy the Markdown below and paste it into a new markdown cell ---\n",
      "\n",
      "### **Table of Contents**\n",
      "  * [read in data](#read-in-data)\n",
      "  * [Update cleaning code](#update-cleaning-code)\n",
      "  * [Generate report](#generate-report)\n",
      "  * [Plots](#plots)\n",
      "\n"
     ]
    }
   ],
   "source": [
    "import json\n",
    "import os\n",
    "\n",
    "\n",
    "def generate_toc_from_notebook(notebook_path):\n",
    "    \"\"\"\n",
    "    Parses a local .ipynb file and generates Markdown for a Table of Contents.\n",
    "    \"\"\"\n",
    "    if not os.path.isfile(notebook_path):\n",
    "        print(f\"❌ Error: File not found at '{notebook_path}'\")\n",
    "        return\n",
    "\n",
    "    with open(notebook_path, 'r', encoding='utf-8') as f:\n",
    "        notebook = json.load(f)\n",
    "\n",
    "    toc_markdown = \"### **Table of Contents**\\n\"\n",
    "    for cell in notebook.get('cells', []):\n",
    "        if cell.get('cell_type') == 'markdown':\n",
    "            for line in cell.get('source', []):\n",
    "                if line.strip().startswith('#'):\n",
    "                    level = line.count('#')\n",
    "                    title = line.strip('#').strip()\n",
    "                    link = title.lower().replace(' ', '-').strip('-.()')\n",
    "                    indent = '  ' * (level - 1)\n",
    "                    toc_markdown += f\"{indent}* [{title}](#{link})\\n\"\n",
    "\n",
    "    print(\"\\n--- ✅ Copy the Markdown below and paste it \"\n",
    "          \"into a new markdown cell ---\\n\")\n",
    "    print(toc_markdown)\n",
    "\n",
    "\n",
    "notebook_path = 'ideal.ipynb'\n",
    "generate_toc_from_notebook(notebook_path)\n"
   ]
  }
 ],
 "metadata": {
  "kernelspec": {
   "display_name": "venv (3.12.2)",
   "language": "python",
   "name": "python3"
  },
  "language_info": {
   "codemirror_mode": {
    "name": "ipython",
    "version": 3
   },
   "file_extension": ".py",
   "mimetype": "text/x-python",
   "name": "python",
   "nbconvert_exporter": "python",
   "pygments_lexer": "ipython3",
   "version": "3.12.2"
  }
 },
 "nbformat": 4,
 "nbformat_minor": 5
}
