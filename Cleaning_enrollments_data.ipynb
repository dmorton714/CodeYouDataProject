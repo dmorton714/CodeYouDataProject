{
 "cells": [
  {
   "cell_type": "markdown",
   "id": "f1f8e04d",
   "metadata": {},
   "source": [
    "# ARC Application - Data cleanning"
   ]
  },
  {
   "cell_type": "code",
   "execution_count": null,
   "id": "f782ef33",
   "metadata": {
    "vscode": {
     "languageId": "plaintext"
    }
   },
   "outputs": [],
   "source": [
    "import pandas as pd\n",
    "import plotly.express as px"
   ]
  },
  {
   "cell_type": "code",
   "execution_count": null,
   "id": "a32e170c",
   "metadata": {
    "vscode": {
     "languageId": "plaintext"
    }
   },
   "outputs": [],
   "source": [
    "enrollments = pd.read_excel('..\\\\Data\\\\Raw\\\\ARC Enrollments.xlsx')\n",
    "enrollments\n"
   ]
  }
 ],
 "metadata": {
  "language_info": {
   "name": "python"
  }
 },
 "nbformat": 4,
 "nbformat_minor": 5
}
