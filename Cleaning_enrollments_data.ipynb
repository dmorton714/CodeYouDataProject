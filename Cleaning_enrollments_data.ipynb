{
 "cells": [
  {
   "cell_type": "markdown",
   "id": "f1f8e04d",
   "metadata": {},
   "source": [
    "# ARC Application - Data cleanning"
   ]
  },
  {
   "cell_type": "markdown",
   "id": "86a96267",
   "metadata": {},
   "source": [
    "All data cleaning will be in the function 'Enrollments cleaning'\n",
    "\n",
    "Notes:\n",
    "- 'KY Region' field all the values are 'SOAR'\n",
    "\n",
    "Questions:\n",
    "- Why are they 'Actual Start Date' fields as NA when there is a Actual End Date"
   ]
  },
  {
   "cell_type": "code",
   "execution_count": 37,
   "id": "f782ef33",
   "metadata": {},
   "outputs": [],
   "source": [
    "import pandas as pd\n",
    "import plotly.express as px"
   ]
  },
  {
   "cell_type": "markdown",
   "id": "0b28f740",
   "metadata": {},
   "source": [
    "# Result:"
   ]
  },
  {
   "cell_type": "code",
   "execution_count": 38,
   "id": "2efeac68",
   "metadata": {},
   "outputs": [],
   "source": [
    "def Enrollments_cleaning(df: pd.DataFrame) -> pd.DataFrame:\n",
    "    # Columns to clean\n",
    "    COLUMNS_TO_DROP = ['Full Name']\n",
    "    enrollments = df.drop(columns=COLUMNS_TO_DROP)\n",
    "\n",
    "    # Fix NaN values\n",
    "    NAN_VALUE_SUBSTITUTE = 'NA'\n",
    "    columns_to_fix = {\n",
    "        'Projected Start Date': NAN_VALUE_SUBSTITUTE, 'Actual Start Date': NAN_VALUE_SUBSTITUTE, 'Projected End Date': NAN_VALUE_SUBSTITUTE,\n",
    "        'Actual End Date': NAN_VALUE_SUBSTITUTE, 'Outcome': NAN_VALUE_SUBSTITUTE, 'ATP Cohort': NAN_VALUE_SUBSTITUTE\n",
    "    }\n",
    "\n",
    "    for column, substitute_value in columns_to_fix.items():\n",
    "        enrollments[column] = enrollments[column].fillna(substitute_value)\n",
    "\n",
    "    return enrollments"
   ]
  },
  {
   "cell_type": "code",
   "execution_count": 39,
   "id": "c34df585",
   "metadata": {},
   "outputs": [],
   "source": [
    "def Test_enrollments_cleaning(clean_df: pd.DataFrame):\n",
    "    # Parameter can be change to an in-function call of the data cleanner with the DF\n",
    "    assert ~clean_df.isna().any().any(), 'The Dataframe has na values.'"
   ]
  },
  {
   "cell_type": "markdown",
   "id": "10146c9e",
   "metadata": {},
   "source": [
    "# Exploratory Data Analysis"
   ]
  },
  {
   "cell_type": "code",
   "execution_count": 40,
   "id": "a32e170c",
   "metadata": {},
   "outputs": [],
   "source": [
    "enrollments = pd.read_excel('Data\\\\Raw\\\\ARC Enrollments.xlsx')\n",
    "enrollments = Enrollments_cleaning(enrollments)\n",
    "enrollments\n",
    "Test_enrollments_cleaning(enrollments)\n"
   ]
  },
  {
   "cell_type": "markdown",
   "id": "a6805ca6",
   "metadata": {},
   "source": [
    "### Understanding the categories of data\n"
   ]
  },
  {
   "cell_type": "code",
   "execution_count": 41,
   "id": "423d5090",
   "metadata": {},
   "outputs": [],
   "source": [
    "pathways = [\n",
    "    'Software Development 1', \n",
    "    'Software Development 2', \n",
    "    'Web Development 1', \n",
    "    'Web Development 2', \n",
    "    'Data Analysis 1',\n",
    "    'Data Analytics 2',\n",
    "    'Web Development M1',\n",
    "    'Web Development M2',\n",
    "    'Web Development M3',\n",
    "    'Web Development M4',\n",
    "    'Data Analysis M1', \n",
    "    'Data Analysis M2',\n",
    "    'Data Analysis M3',\n",
    "    'Data Analysis M4', \n",
    "    'Software Development M1',\n",
    "    'Software Development M2',\n",
    "    'Software Development M3',\n",
    "    'Software Development M4',\n",
    "    'Quality Assurance M1', \n",
    "    'Quality Assurance M2',\n",
    "    'Quality Assurance M3', \n",
    "    'Quality Assurance M4', \n",
    "    'User Experience M1', \n",
    "    'User Experience M2',\n",
    "    'User Experience M3', \n",
    "    'User Experience M4',\n",
    "]\n",
    "\n",
    "workshops = [\n",
    "    'JavaScript - React',\n",
    "    'AWS',\n",
    "    'Salesforce',\n",
    "    'UofL Cyber Security Certificate',\n",
    "    'Intro to Programming Core',\n",
    "    'Artificial Intelligence M1',\n",
    "    'Technical Project Management',\n",
    "]\n",
    "\n",
    "support_ways = [\n",
    "    'Career Readiness Workshop',\n",
    "    'One-on-one Job Readiness',\n",
    "    'Interview Guidance and Practice',\n",
    "    'Remote Jobs Workshop (EDA Grant)',\n",
    "    'Employer Event (Code:You)',\n",
    "    'Loaner Laptop',\n",
    "    'Demo Day Participant',\n",
    "    'Tech Communications Workshop',\n",
    "    'Remote Jobs Workshop (non EDA)',\n",
    "    'Referral to External Service',\n",
    "    'Supportive Services Referral', \n",
    "    'Resume Review and Optimization',\n",
    "    'Revised Resume Review'\n",
    "]\n",
    "\n",
    "# This category is only used to find the path choose by students:\n",
    "Starter_pathways = [\n",
    "    'Software Development 1', \n",
    "    'Web Development 1', \n",
    "    'Data Analysis 1',\n",
    "    'Web Development M1',\n",
    "    'Data Analysis M1', \n",
    "    'Software Development M1',\n",
    "    'Quality Assurance M1', \n",
    "    'User Experience M1',\n",
    "]"
   ]
  },
  {
   "cell_type": "code",
   "execution_count": 42,
   "id": "61a579c5",
   "metadata": {},
   "outputs": [
    {
     "data": {
      "application/vnd.microsoft.datawrangler.viewer.v0+json": {
       "columns": [
        {
         "name": "index",
         "rawType": "int64",
         "type": "integer"
        },
        {
         "name": "Auto Id",
         "rawType": "object",
         "type": "string"
        },
        {
         "name": "KY Region",
         "rawType": "object",
         "type": "string"
        },
        {
         "name": "Assessment ID",
         "rawType": "object",
         "type": "string"
        },
        {
         "name": "EnrollmentId",
         "rawType": "object",
         "type": "string"
        },
        {
         "name": "Enrollment Service Name",
         "rawType": "object",
         "type": "string"
        },
        {
         "name": "Service",
         "rawType": "object",
         "type": "string"
        },
        {
         "name": "Projected Start Date",
         "rawType": "object",
         "type": "unknown"
        },
        {
         "name": "Actual Start Date",
         "rawType": "object",
         "type": "unknown"
        },
        {
         "name": "Projected End Date",
         "rawType": "object",
         "type": "unknown"
        },
        {
         "name": "Actual End Date",
         "rawType": "object",
         "type": "unknown"
        },
        {
         "name": "Outcome",
         "rawType": "object",
         "type": "string"
        },
        {
         "name": "ATP Cohort",
         "rawType": "object",
         "type": "unknown"
        },
        {
         "name": "Category",
         "rawType": "object",
         "type": "string"
        }
       ],
       "ref": "60433c33-2973-4ecf-8a66-39b937632565",
       "rows": [
        [
         "0",
         "202109-5224",
         "SOAR",
         "OA-003348",
         "Enrollment-1386",
         "ES-0011193",
         "Career Readiness Workshop",
         "2021-11-11 00:00:00",
         "NA",
         "NA",
         "NA",
         "NA",
         "NA",
         "Student Support"
        ],
        [
         "1",
         "202109-5224",
         "SOAR",
         "OA-003348",
         "Enrollment-1386",
         "ES-0013492",
         "Software Development 1",
         "2022-01-05 00:00:00",
         "2022-01-05 00:00:00",
         "2022-04-06 00:00:00",
         "2022-04-06 00:00:00",
         "Successfully Completed",
         "2022-01-01 00:00:00",
         "Pathway"
        ],
        [
         "2",
         "202109-5224",
         "SOAR",
         "OA-003348",
         "Enrollment-1386",
         "ES-0014187",
         "Career Readiness Workshop",
         "2022-03-07 00:00:00",
         "NA",
         "NA",
         "NA",
         "NA",
         "NA",
         "Student Support"
        ],
        [
         "3",
         "202109-5224",
         "SOAR",
         "OA-003348",
         "Enrollment-1386",
         "ES-0015022",
         "Software Development 2",
         "2022-05-04 00:00:00",
         "2022-05-04 00:00:00",
         "2022-07-29 00:00:00",
         "2022-07-29 00:00:00",
         "Successfully Completed",
         "2022-05-01 00:00:00",
         "Pathway"
        ],
        [
         "4",
         "202109-5224",
         "SOAR",
         "OA-003348",
         "Enrollment-1386",
         "ES-0015075",
         "Web Development 1",
         "2021-09-08 00:00:00",
         "2021-09-08 00:00:00",
         "2021-12-14 00:00:00",
         "2021-12-14 00:00:00",
         "Successfully Completed",
         "2021-09-01 00:00:00",
         "Pathway"
        ],
        [
         "5",
         "202109-5230",
         "SOAR",
         "OA-003352",
         "Enrollment-1389",
         "ES-0015087",
         "Web Development 1",
         "2021-09-08 00:00:00",
         "2021-09-08 00:00:00",
         "2021-12-14 00:00:00",
         "2021-09-28 00:00:00",
         "Did Not Complete",
         "2021-09-01 00:00:00",
         "Pathway"
        ],
        [
         "6",
         "202109-5233",
         "SOAR",
         "OA-003355",
         "Enrollment-1392",
         "ES-0011185",
         "Career Readiness Workshop",
         "2021-11-11 00:00:00",
         "NA",
         "NA",
         "NA",
         "NA",
         "NA",
         "Student Support"
        ],
        [
         "7",
         "202109-5233",
         "SOAR",
         "OA-003355",
         "Enrollment-1392",
         "ES-0013525",
         "Web Development 2",
         "2022-01-05 00:00:00",
         "2022-01-05 00:00:00",
         "2022-04-06 00:00:00",
         "2022-04-06 00:00:00",
         "Successfully Completed",
         "2022-01-01 00:00:00",
         "Pathway"
        ],
        [
         "8",
         "202109-5233",
         "SOAR",
         "OA-003355",
         "Enrollment-1392",
         "ES-0015081",
         "Web Development 1",
         "2021-09-08 00:00:00",
         "2021-09-08 00:00:00",
         "2021-12-14 00:00:00",
         "2021-12-14 00:00:00",
         "Successfully Completed",
         "2021-09-01 00:00:00",
         "Pathway"
        ],
        [
         "9",
         "202109-5236",
         "SOAR",
         "OA-003358",
         "Enrollment-1395",
         "ES-0015092",
         "Web Development 1",
         "2021-09-08 00:00:00",
         "2021-09-08 00:00:00",
         "2021-12-14 00:00:00",
         "2021-12-01 00:00:00",
         "Did Not Complete",
         "2021-09-01 00:00:00",
         "Pathway"
        ],
        [
         "10",
         "202109-5237",
         "SOAR",
         "OA-003359",
         "Enrollment-1396",
         "ES-0011212",
         "One-on-one Job Readiness",
         "2021-11-23 00:00:00",
         "NA",
         "NA",
         "NA",
         "NA",
         "NA",
         "Student Support"
        ],
        [
         "11",
         "202109-5237",
         "SOAR",
         "OA-003359",
         "Enrollment-1396",
         "ES-0015086",
         "Web Development 1",
         "2021-09-08 00:00:00",
         "2021-09-08 00:00:00",
         "2021-12-14 00:00:00",
         "2021-12-01 00:00:00",
         "Did Not Complete",
         "2021-09-01 00:00:00",
         "Pathway"
        ],
        [
         "12",
         "202109-5237",
         "SOAR",
         "OA-003359",
         "Enrollment-1396",
         "ES-0017175",
         "Data Analysis 1",
         "2023-01-04 00:00:00",
         "NA",
         "NA",
         "2023-03-31 00:00:00",
         "Successfully Completed",
         "2023-01-01 00:00:00",
         "Pathway"
        ],
        [
         "13",
         "202109-5237",
         "SOAR",
         "OA-003359",
         "Enrollment-1396",
         "ES-0017537",
         "Career Readiness Workshop",
         "2023-02-16 00:00:00",
         "NA",
         "NA",
         "NA",
         "NA",
         "NA",
         "Student Support"
        ],
        [
         "14",
         "202109-5237",
         "SOAR",
         "OA-003359",
         "Enrollment-1396",
         "ES-0018722",
         "Data Analytics 2",
         "2023-05-09 00:00:00",
         "NA",
         "NA",
         "2023-08-07 00:00:00",
         "Successfully Completed",
         "2023-05-01 00:00:00",
         "Pathway"
        ],
        [
         "15",
         "202109-5237",
         "SOAR",
         "OA-003359",
         "Enrollment-1396",
         "ES-0023302",
         "One-on-one Job Readiness",
         "2024-06-12 00:00:00",
         "2024-06-12 00:00:00",
         "2024-06-12 00:00:00",
         "2024-06-12 00:00:00",
         "NA",
         "NA",
         "Student Support"
        ],
        [
         "16",
         "202109-5237",
         "SOAR",
         "OA-003359",
         "Enrollment-1396",
         "ES-0023396",
         "One-on-one Job Readiness",
         "2024-05-23 00:00:00",
         "NA",
         "2024-05-23 00:00:00",
         "NA",
         "NA",
         "NA",
         "Student Support"
        ],
        [
         "17",
         "202109-5238",
         "SOAR",
         "OA-003360",
         "Enrollment-1398",
         "ES-0015085",
         "Web Development 1",
         "2021-09-08 00:00:00",
         "2021-09-08 00:00:00",
         "2021-12-09 00:00:00",
         "2021-12-09 00:00:00",
         "Did Not Complete",
         "2021-09-01 00:00:00",
         "Pathway"
        ],
        [
         "18",
         "202109-5239",
         "SOAR",
         "OA-003363",
         "Enrollment-1401",
         "ES-0017159",
         "Web Development 1",
         "2021-09-08 00:00:00",
         "NA",
         "NA",
         "2021-09-23 00:00:00",
         "Did Not Complete",
         "2021-09-01 00:00:00",
         "Pathway"
        ],
        [
         "19",
         "202109-5243",
         "SOAR",
         "OA-003366",
         "Enrollment-1404",
         "ES-0011221",
         "One-on-one Job Readiness",
         "2021-12-03 00:00:00",
         "2021-12-03 00:00:00",
         "NA",
         "NA",
         "NA",
         "NA",
         "Student Support"
        ],
        [
         "20",
         "202109-5243",
         "SOAR",
         "OA-003366",
         "Enrollment-1404",
         "ES-0013503",
         "Software Development 1",
         "2022-01-05 00:00:00",
         "2022-01-05 00:00:00",
         "2022-04-06 00:00:00",
         "2022-04-06 00:00:00",
         "Successfully Completed",
         "2022-01-01 00:00:00",
         "Pathway"
        ],
        [
         "21",
         "202109-5243",
         "SOAR",
         "OA-003366",
         "Enrollment-1404",
         "ES-0014300",
         "One-on-one Job Readiness",
         "2022-03-29 00:00:00",
         "NA",
         "NA",
         "NA",
         "NA",
         "NA",
         "Student Support"
        ],
        [
         "22",
         "202109-5243",
         "SOAR",
         "OA-003366",
         "Enrollment-1404",
         "ES-0015052",
         "Software Development 2",
         "2022-05-04 00:00:00",
         "2022-05-04 00:00:00",
         "2022-07-29 00:00:00",
         "2022-07-29 00:00:00",
         "Successfully Completed",
         "2022-05-01 00:00:00",
         "Pathway"
        ],
        [
         "23",
         "202109-5243",
         "SOAR",
         "OA-003366",
         "Enrollment-1404",
         "ES-0015076",
         "Web Development 1",
         "2021-09-08 00:00:00",
         "2021-09-08 00:00:00",
         "2021-12-14 00:00:00",
         "2021-12-14 00:00:00",
         "Successfully Completed",
         "2021-09-01 00:00:00",
         "Pathway"
        ],
        [
         "24",
         "202109-5243",
         "SOAR",
         "OA-003366",
         "Enrollment-1404",
         "ES-0017237",
         "Data Analysis 1",
         "2022-08-24 00:00:00",
         "NA",
         "NA",
         "2022-11-18 00:00:00",
         "Successfully Completed",
         "2022-09-01 00:00:00",
         "Pathway"
        ],
        [
         "25",
         "202109-5243",
         "SOAR",
         "OA-003366",
         "Enrollment-1404",
         "ES-0017238",
         "Data Analytics 2",
         "2023-01-04 00:00:00",
         "NA",
         "NA",
         "2023-03-31 00:00:00",
         "Successfully Completed",
         "2023-01-01 00:00:00",
         "Pathway"
        ],
        [
         "26",
         "202109-5243",
         "SOAR",
         "OA-003366",
         "Enrollment-1404",
         "ES-0018733",
         "Web Development 2",
         "2023-05-11 00:00:00",
         "NA",
         "NA",
         "2023-08-07 00:00:00",
         "Successfully Completed",
         "2023-05-01 00:00:00",
         "Pathway"
        ],
        [
         "27",
         "202109-5245",
         "SOAR",
         "OA-003367",
         "Enrollment-1405",
         "ES-0011174",
         "Career Readiness Workshop",
         "2021-11-08 00:00:00",
         "NA",
         "NA",
         "NA",
         "NA",
         "NA",
         "Student Support"
        ],
        [
         "28",
         "202109-5245",
         "SOAR",
         "OA-003367",
         "Enrollment-1405",
         "ES-0013507",
         "Software Development 1",
         "2022-01-05 00:00:00",
         "2022-01-05 00:00:00",
         "2022-05-06 00:00:00",
         "2022-05-06 00:00:00",
         "Successfully Completed",
         "2022-01-01 00:00:00",
         "Pathway"
        ],
        [
         "29",
         "202109-5245",
         "SOAR",
         "OA-003367",
         "Enrollment-1405",
         "ES-0014268",
         "One-on-one Job Readiness",
         "2022-03-22 00:00:00",
         "NA",
         "NA",
         "NA",
         "NA",
         "NA",
         "Student Support"
        ],
        [
         "30",
         "202109-5245",
         "SOAR",
         "OA-003367",
         "Enrollment-1405",
         "ES-0015065",
         "Web Development 2",
         "2022-05-04 00:00:00",
         "2022-05-04 00:00:00",
         "2022-07-29 00:00:00",
         "2022-07-29 00:00:00",
         "Did Not Complete",
         "2022-05-01 00:00:00",
         "Pathway"
        ],
        [
         "31",
         "202109-5245",
         "SOAR",
         "OA-003367",
         "Enrollment-1405",
         "ES-0015080",
         "Web Development 1",
         "2021-09-08 00:00:00",
         "2021-09-08 00:00:00",
         "2021-12-14 00:00:00",
         "2021-12-14 00:00:00",
         "Successfully Completed",
         "2021-09-01 00:00:00",
         "Pathway"
        ],
        [
         "32",
         "202109-5245",
         "SOAR",
         "OA-003367",
         "Enrollment-1405",
         "ES-0023385",
         "One-on-one Job Readiness",
         "2024-01-29 00:00:00",
         "NA",
         "2024-01-29 00:00:00",
         "NA",
         "NA",
         "NA",
         "Student Support"
        ],
        [
         "33",
         "202109-5272",
         "SOAR",
         "OA-003395",
         "Enrollment-1434",
         "ES-0011175",
         "Career Readiness Workshop",
         "2021-11-08 00:00:00",
         "NA",
         "NA",
         "NA",
         "NA",
         "NA",
         "Student Support"
        ],
        [
         "34",
         "202109-5272",
         "SOAR",
         "OA-003395",
         "Enrollment-1434",
         "ES-0013526",
         "Web Development 2",
         "2022-01-05 00:00:00",
         "2022-01-05 00:00:00",
         "2022-04-06 00:00:00",
         "2022-04-06 00:00:00",
         "Successfully Completed",
         "2022-01-01 00:00:00",
         "Pathway"
        ],
        [
         "35",
         "202109-5272",
         "SOAR",
         "OA-003395",
         "Enrollment-1434",
         "ES-0015078",
         "Web Development 1",
         "2021-09-08 00:00:00",
         "2021-09-08 00:00:00",
         "2021-12-14 00:00:00",
         "2021-12-14 00:00:00",
         "Successfully Completed",
         "2021-09-01 00:00:00",
         "Pathway"
        ],
        [
         "36",
         "202109-5272",
         "SOAR",
         "OA-003395",
         "Enrollment-1434",
         "ES-0017252",
         "Software Development 1",
         "2022-08-24 00:00:00",
         "NA",
         "NA",
         "2022-10-03 00:00:00",
         "Did Not Complete",
         "2022-09-01 00:00:00",
         "Pathway"
        ],
        [
         "37",
         "202109-5273",
         "SOAR",
         "OA-003396",
         "Enrollment-1435",
         "ES-0015089",
         "Web Development 1",
         "2021-09-08 00:00:00",
         "2021-09-08 00:00:00",
         "2021-12-14 00:00:00",
         "2021-10-27 00:00:00",
         "Did Not Complete",
         "2021-09-01 00:00:00",
         "Pathway"
        ],
        [
         "38",
         "202109-5274",
         "SOAR",
         "OA-003397",
         "Enrollment-1608",
         "ES-0011204",
         "Career Readiness Workshop",
         "2021-11-18 00:00:00",
         "NA",
         "NA",
         "NA",
         "NA",
         "NA",
         "Student Support"
        ],
        [
         "39",
         "202109-5274",
         "SOAR",
         "OA-003397",
         "Enrollment-1608",
         "ES-0013483",
         "Data Analysis 1",
         "2022-01-05 00:00:00",
         "2022-01-05 00:00:00",
         "2022-04-06 00:00:00",
         "2022-04-06 00:00:00",
         "Successfully Completed",
         "2022-01-01 00:00:00",
         "Pathway"
        ],
        [
         "40",
         "202109-5274",
         "SOAR",
         "OA-003397",
         "Enrollment-1608",
         "ES-0014299",
         "One-on-one Job Readiness",
         "2022-03-29 00:00:00",
         "NA",
         "NA",
         "NA",
         "NA",
         "NA",
         "Student Support"
        ],
        [
         "41",
         "202109-5274",
         "SOAR",
         "OA-003397",
         "Enrollment-1608",
         "ES-0015047",
         "Data Analytics 2",
         "2022-05-04 00:00:00",
         "2022-05-04 00:00:00",
         "2022-07-29 00:00:00",
         "2022-06-08 00:00:00",
         "Did Not Complete",
         "2022-05-01 00:00:00",
         "Pathway"
        ],
        [
         "42",
         "202109-5274",
         "SOAR",
         "OA-003397",
         "Enrollment-1608",
         "ES-0015084",
         "Web Development 1",
         "2021-09-08 00:00:00",
         "2021-09-08 00:00:00",
         "2021-12-14 00:00:00",
         "2021-12-14 00:00:00",
         "Successfully Completed",
         "2021-09-01 00:00:00",
         "Pathway"
        ],
        [
         "43",
         "202109-5275",
         "SOAR",
         "OA-003398",
         "Enrollment-1609",
         "ES-0015088",
         "Web Development 1",
         "2021-09-08 00:00:00",
         "2021-09-08 00:00:00",
         "2021-12-14 00:00:00",
         "2021-10-11 00:00:00",
         "Did Not Complete",
         "2021-09-01 00:00:00",
         "Pathway"
        ],
        [
         "44",
         "202109-5276",
         "SOAR",
         "OA-003399",
         "Enrollment-1611",
         "ES-0015091",
         "Web Development 1",
         "2021-09-08 00:00:00",
         "2021-09-08 00:00:00",
         "2021-12-14 00:00:00",
         "2021-10-28 00:00:00",
         "Did Not Complete",
         "2021-09-01 00:00:00",
         "Pathway"
        ],
        [
         "45",
         "202109-5277",
         "SOAR",
         "OA-003400",
         "Enrollment-4425",
         "ES-0011213",
         "One-on-one Job Readiness",
         "2021-11-23 00:00:00",
         "NA",
         "NA",
         "NA",
         "NA",
         "NA",
         "Student Support"
        ],
        [
         "46",
         "202109-5277",
         "SOAR",
         "OA-003400",
         "Enrollment-4425",
         "ES-0013995",
         "Software Development 1",
         "2022-01-05 00:00:00",
         "2022-01-05 00:00:00",
         "2022-04-06 00:00:00",
         "2022-07-29 00:00:00",
         "Successfully Completed",
         "2022-01-01 00:00:00",
         "Pathway"
        ],
        [
         "47",
         "202109-5277",
         "SOAR",
         "OA-003400",
         "Enrollment-4425",
         "ES-0014191",
         "Career Readiness Workshop",
         "2022-03-07 00:00:00",
         "NA",
         "NA",
         "NA",
         "NA",
         "NA",
         "Student Support"
        ],
        [
         "48",
         "202109-5277",
         "SOAR",
         "OA-003400",
         "Enrollment-4425",
         "ES-0015050",
         "Software Development 2",
         "2022-05-04 00:00:00",
         "2022-05-04 00:00:00",
         "2022-07-29 00:00:00",
         "2022-07-29 00:00:00",
         "Successfully Completed",
         "2022-05-01 00:00:00",
         "Pathway"
        ],
        [
         "49",
         "202109-5277",
         "SOAR",
         "OA-003400",
         "Enrollment-4425",
         "ES-0015074",
         "Web Development 1",
         "2021-09-08 00:00:00",
         "2021-09-08 00:00:00",
         "2021-12-14 00:00:00",
         "2021-12-14 00:00:00",
         "Successfully Completed",
         "2021-09-01 00:00:00",
         "Pathway"
        ]
       ],
       "shape": {
        "columns": 13,
        "rows": 2033
       }
      },
      "text/html": [
       "<div>\n",
       "<style scoped>\n",
       "    .dataframe tbody tr th:only-of-type {\n",
       "        vertical-align: middle;\n",
       "    }\n",
       "\n",
       "    .dataframe tbody tr th {\n",
       "        vertical-align: top;\n",
       "    }\n",
       "\n",
       "    .dataframe thead th {\n",
       "        text-align: right;\n",
       "    }\n",
       "</style>\n",
       "<table border=\"1\" class=\"dataframe\">\n",
       "  <thead>\n",
       "    <tr style=\"text-align: right;\">\n",
       "      <th></th>\n",
       "      <th>Auto Id</th>\n",
       "      <th>KY Region</th>\n",
       "      <th>Assessment ID</th>\n",
       "      <th>EnrollmentId</th>\n",
       "      <th>Enrollment Service Name</th>\n",
       "      <th>Service</th>\n",
       "      <th>Projected Start Date</th>\n",
       "      <th>Actual Start Date</th>\n",
       "      <th>Projected End Date</th>\n",
       "      <th>Actual End Date</th>\n",
       "      <th>Outcome</th>\n",
       "      <th>ATP Cohort</th>\n",
       "      <th>Category</th>\n",
       "    </tr>\n",
       "  </thead>\n",
       "  <tbody>\n",
       "    <tr>\n",
       "      <th>0</th>\n",
       "      <td>202109-5224</td>\n",
       "      <td>SOAR</td>\n",
       "      <td>OA-003348</td>\n",
       "      <td>Enrollment-1386</td>\n",
       "      <td>ES-0011193</td>\n",
       "      <td>Career Readiness Workshop</td>\n",
       "      <td>2021-11-11 00:00:00</td>\n",
       "      <td>NA</td>\n",
       "      <td>NA</td>\n",
       "      <td>NA</td>\n",
       "      <td>NA</td>\n",
       "      <td>NA</td>\n",
       "      <td>Student Support</td>\n",
       "    </tr>\n",
       "    <tr>\n",
       "      <th>1</th>\n",
       "      <td>202109-5224</td>\n",
       "      <td>SOAR</td>\n",
       "      <td>OA-003348</td>\n",
       "      <td>Enrollment-1386</td>\n",
       "      <td>ES-0013492</td>\n",
       "      <td>Software Development 1</td>\n",
       "      <td>2022-01-05 00:00:00</td>\n",
       "      <td>2022-01-05 00:00:00</td>\n",
       "      <td>2022-04-06 00:00:00</td>\n",
       "      <td>2022-04-06 00:00:00</td>\n",
       "      <td>Successfully Completed</td>\n",
       "      <td>2022-01-01 00:00:00</td>\n",
       "      <td>Pathway</td>\n",
       "    </tr>\n",
       "    <tr>\n",
       "      <th>2</th>\n",
       "      <td>202109-5224</td>\n",
       "      <td>SOAR</td>\n",
       "      <td>OA-003348</td>\n",
       "      <td>Enrollment-1386</td>\n",
       "      <td>ES-0014187</td>\n",
       "      <td>Career Readiness Workshop</td>\n",
       "      <td>2022-03-07 00:00:00</td>\n",
       "      <td>NA</td>\n",
       "      <td>NA</td>\n",
       "      <td>NA</td>\n",
       "      <td>NA</td>\n",
       "      <td>NA</td>\n",
       "      <td>Student Support</td>\n",
       "    </tr>\n",
       "    <tr>\n",
       "      <th>3</th>\n",
       "      <td>202109-5224</td>\n",
       "      <td>SOAR</td>\n",
       "      <td>OA-003348</td>\n",
       "      <td>Enrollment-1386</td>\n",
       "      <td>ES-0015022</td>\n",
       "      <td>Software Development 2</td>\n",
       "      <td>2022-05-04 00:00:00</td>\n",
       "      <td>2022-05-04 00:00:00</td>\n",
       "      <td>2022-07-29 00:00:00</td>\n",
       "      <td>2022-07-29 00:00:00</td>\n",
       "      <td>Successfully Completed</td>\n",
       "      <td>2022-05-01 00:00:00</td>\n",
       "      <td>Pathway</td>\n",
       "    </tr>\n",
       "    <tr>\n",
       "      <th>4</th>\n",
       "      <td>202109-5224</td>\n",
       "      <td>SOAR</td>\n",
       "      <td>OA-003348</td>\n",
       "      <td>Enrollment-1386</td>\n",
       "      <td>ES-0015075</td>\n",
       "      <td>Web Development 1</td>\n",
       "      <td>2021-09-08 00:00:00</td>\n",
       "      <td>2021-09-08 00:00:00</td>\n",
       "      <td>2021-12-14 00:00:00</td>\n",
       "      <td>2021-12-14 00:00:00</td>\n",
       "      <td>Successfully Completed</td>\n",
       "      <td>2021-09-01 00:00:00</td>\n",
       "      <td>Pathway</td>\n",
       "    </tr>\n",
       "    <tr>\n",
       "      <th>...</th>\n",
       "      <td>...</td>\n",
       "      <td>...</td>\n",
       "      <td>...</td>\n",
       "      <td>...</td>\n",
       "      <td>...</td>\n",
       "      <td>...</td>\n",
       "      <td>...</td>\n",
       "      <td>...</td>\n",
       "      <td>...</td>\n",
       "      <td>...</td>\n",
       "      <td>...</td>\n",
       "      <td>...</td>\n",
       "      <td>...</td>\n",
       "    </tr>\n",
       "    <tr>\n",
       "      <th>2028</th>\n",
       "      <td>202504-21723</td>\n",
       "      <td>SOAR</td>\n",
       "      <td>OA-022760</td>\n",
       "      <td>Enrollment-14196</td>\n",
       "      <td>ES-0035149</td>\n",
       "      <td>Intro to Programming Core</td>\n",
       "      <td>2025-05-12 00:00:00</td>\n",
       "      <td>2025-05-12 00:00:00</td>\n",
       "      <td>2025-06-27 00:00:00</td>\n",
       "      <td>NA</td>\n",
       "      <td>NA</td>\n",
       "      <td>2025-05-01 00:00:00</td>\n",
       "      <td>Workshop</td>\n",
       "    </tr>\n",
       "    <tr>\n",
       "      <th>2029</th>\n",
       "      <td>202505-22788</td>\n",
       "      <td>SOAR</td>\n",
       "      <td>OA-023710</td>\n",
       "      <td>Enrollment-14213</td>\n",
       "      <td>ES-0035212</td>\n",
       "      <td>Intro to Programming Core</td>\n",
       "      <td>2025-05-14 00:00:00</td>\n",
       "      <td>2025-05-13 00:00:00</td>\n",
       "      <td>2025-06-17 00:00:00</td>\n",
       "      <td>NA</td>\n",
       "      <td>NA</td>\n",
       "      <td>2025-05-01 00:00:00</td>\n",
       "      <td>Workshop</td>\n",
       "    </tr>\n",
       "    <tr>\n",
       "      <th>2030</th>\n",
       "      <td>202408-16568</td>\n",
       "      <td>SOAR</td>\n",
       "      <td>OA-017961</td>\n",
       "      <td>Enrollment-14833</td>\n",
       "      <td>ES-0036429</td>\n",
       "      <td>Intro to Programming Core</td>\n",
       "      <td>2025-05-12 00:00:00</td>\n",
       "      <td>NA</td>\n",
       "      <td>NA</td>\n",
       "      <td>NA</td>\n",
       "      <td>Did Not Complete</td>\n",
       "      <td>2025-05-01 00:00:00</td>\n",
       "      <td>Workshop</td>\n",
       "    </tr>\n",
       "    <tr>\n",
       "      <th>2031</th>\n",
       "      <td>202408-16568</td>\n",
       "      <td>SOAR</td>\n",
       "      <td>OA-017961</td>\n",
       "      <td>Enrollment-14833</td>\n",
       "      <td>ES-0036430</td>\n",
       "      <td>Supportive Services Referral</td>\n",
       "      <td>NA</td>\n",
       "      <td>NA</td>\n",
       "      <td>NA</td>\n",
       "      <td>NA</td>\n",
       "      <td>NA</td>\n",
       "      <td>NA</td>\n",
       "      <td>Student Support</td>\n",
       "    </tr>\n",
       "    <tr>\n",
       "      <th>2032</th>\n",
       "      <td>202503-21420</td>\n",
       "      <td>SOAR</td>\n",
       "      <td>OA-022426</td>\n",
       "      <td>Enrollment-15195</td>\n",
       "      <td>ES-0038953</td>\n",
       "      <td>Intro to Programming Core</td>\n",
       "      <td>2025-05-12 00:00:00</td>\n",
       "      <td>NA</td>\n",
       "      <td>2025-06-27 00:00:00</td>\n",
       "      <td>NA</td>\n",
       "      <td>NA</td>\n",
       "      <td>2025-05-01 00:00:00</td>\n",
       "      <td>Workshop</td>\n",
       "    </tr>\n",
       "  </tbody>\n",
       "</table>\n",
       "<p>2033 rows × 13 columns</p>\n",
       "</div>"
      ],
      "text/plain": [
       "           Auto Id KY Region Assessment ID      EnrollmentId  \\\n",
       "0      202109-5224      SOAR     OA-003348   Enrollment-1386   \n",
       "1      202109-5224      SOAR     OA-003348   Enrollment-1386   \n",
       "2      202109-5224      SOAR     OA-003348   Enrollment-1386   \n",
       "3      202109-5224      SOAR     OA-003348   Enrollment-1386   \n",
       "4      202109-5224      SOAR     OA-003348   Enrollment-1386   \n",
       "...            ...       ...           ...               ...   \n",
       "2028  202504-21723      SOAR     OA-022760  Enrollment-14196   \n",
       "2029  202505-22788      SOAR     OA-023710  Enrollment-14213   \n",
       "2030  202408-16568      SOAR     OA-017961  Enrollment-14833   \n",
       "2031  202408-16568      SOAR     OA-017961  Enrollment-14833   \n",
       "2032  202503-21420      SOAR     OA-022426  Enrollment-15195   \n",
       "\n",
       "     Enrollment Service Name                       Service  \\\n",
       "0                 ES-0011193     Career Readiness Workshop   \n",
       "1                 ES-0013492        Software Development 1   \n",
       "2                 ES-0014187     Career Readiness Workshop   \n",
       "3                 ES-0015022        Software Development 2   \n",
       "4                 ES-0015075             Web Development 1   \n",
       "...                      ...                           ...   \n",
       "2028              ES-0035149     Intro to Programming Core   \n",
       "2029              ES-0035212     Intro to Programming Core   \n",
       "2030              ES-0036429     Intro to Programming Core   \n",
       "2031              ES-0036430  Supportive Services Referral   \n",
       "2032              ES-0038953     Intro to Programming Core   \n",
       "\n",
       "     Projected Start Date    Actual Start Date   Projected End Date  \\\n",
       "0     2021-11-11 00:00:00                   NA                   NA   \n",
       "1     2022-01-05 00:00:00  2022-01-05 00:00:00  2022-04-06 00:00:00   \n",
       "2     2022-03-07 00:00:00                   NA                   NA   \n",
       "3     2022-05-04 00:00:00  2022-05-04 00:00:00  2022-07-29 00:00:00   \n",
       "4     2021-09-08 00:00:00  2021-09-08 00:00:00  2021-12-14 00:00:00   \n",
       "...                   ...                  ...                  ...   \n",
       "2028  2025-05-12 00:00:00  2025-05-12 00:00:00  2025-06-27 00:00:00   \n",
       "2029  2025-05-14 00:00:00  2025-05-13 00:00:00  2025-06-17 00:00:00   \n",
       "2030  2025-05-12 00:00:00                   NA                   NA   \n",
       "2031                   NA                   NA                   NA   \n",
       "2032  2025-05-12 00:00:00                   NA  2025-06-27 00:00:00   \n",
       "\n",
       "          Actual End Date                 Outcome           ATP Cohort  \\\n",
       "0                      NA                      NA                   NA   \n",
       "1     2022-04-06 00:00:00  Successfully Completed  2022-01-01 00:00:00   \n",
       "2                      NA                      NA                   NA   \n",
       "3     2022-07-29 00:00:00  Successfully Completed  2022-05-01 00:00:00   \n",
       "4     2021-12-14 00:00:00  Successfully Completed  2021-09-01 00:00:00   \n",
       "...                   ...                     ...                  ...   \n",
       "2028                   NA                      NA  2025-05-01 00:00:00   \n",
       "2029                   NA                      NA  2025-05-01 00:00:00   \n",
       "2030                   NA        Did Not Complete  2025-05-01 00:00:00   \n",
       "2031                   NA                      NA                   NA   \n",
       "2032                   NA                      NA  2025-05-01 00:00:00   \n",
       "\n",
       "             Category  \n",
       "0     Student Support  \n",
       "1             Pathway  \n",
       "2     Student Support  \n",
       "3             Pathway  \n",
       "4             Pathway  \n",
       "...               ...  \n",
       "2028         Workshop  \n",
       "2029         Workshop  \n",
       "2030         Workshop  \n",
       "2031  Student Support  \n",
       "2032         Workshop  \n",
       "\n",
       "[2033 rows x 13 columns]"
      ]
     },
     "execution_count": 42,
     "metadata": {},
     "output_type": "execute_result"
    }
   ],
   "source": [
    "enrollments['Category'] = ''\n",
    "\n",
    "enrollments.loc[enrollments['Service'].isin(pathways), 'Category'] = 'Pathway'\n",
    "enrollments.loc[enrollments['Service'].isin(workshops), 'Category'] = 'Workshop'\n",
    "enrollments.loc[enrollments['Service'].isin(support_ways), 'Category'] = 'Student Support'\n",
    "\n",
    "enrollments"
   ]
  },
  {
   "cell_type": "code",
   "execution_count": 43,
   "id": "64432809",
   "metadata": {},
   "outputs": [],
   "source": [
    "pie_df = enrollments.value_counts('Category').reset_index()"
   ]
  },
  {
   "cell_type": "code",
   "execution_count": 44,
   "id": "712aeaff",
   "metadata": {},
   "outputs": [
    {
     "data": {
      "application/vnd.plotly.v1+json": {
       "config": {
        "plotlyServerURL": "https://plot.ly"
       },
       "data": [
        {
         "domain": {
          "x": [
           0,
           1
          ],
          "y": [
           0,
           1
          ]
         },
         "hovertemplate": "Category=%{label}<br>count=%{value}<extra></extra>",
         "labels": [
          "Pathway",
          "Workshop",
          "Student Support"
         ],
         "legendgroup": "",
         "name": "",
         "showlegend": true,
         "type": "pie",
         "values": {
          "bdata": "7gMHAvwB",
          "dtype": "i2"
         }
        }
       ],
       "layout": {
        "legend": {
         "tracegroupgap": 0
        },
        "template": {
         "data": {
          "bar": [
           {
            "error_x": {
             "color": "#2a3f5f"
            },
            "error_y": {
             "color": "#2a3f5f"
            },
            "marker": {
             "line": {
              "color": "#E5ECF6",
              "width": 0.5
             },
             "pattern": {
              "fillmode": "overlay",
              "size": 10,
              "solidity": 0.2
             }
            },
            "type": "bar"
           }
          ],
          "barpolar": [
           {
            "marker": {
             "line": {
              "color": "#E5ECF6",
              "width": 0.5
             },
             "pattern": {
              "fillmode": "overlay",
              "size": 10,
              "solidity": 0.2
             }
            },
            "type": "barpolar"
           }
          ],
          "carpet": [
           {
            "aaxis": {
             "endlinecolor": "#2a3f5f",
             "gridcolor": "white",
             "linecolor": "white",
             "minorgridcolor": "white",
             "startlinecolor": "#2a3f5f"
            },
            "baxis": {
             "endlinecolor": "#2a3f5f",
             "gridcolor": "white",
             "linecolor": "white",
             "minorgridcolor": "white",
             "startlinecolor": "#2a3f5f"
            },
            "type": "carpet"
           }
          ],
          "choropleth": [
           {
            "colorbar": {
             "outlinewidth": 0,
             "ticks": ""
            },
            "type": "choropleth"
           }
          ],
          "contour": [
           {
            "colorbar": {
             "outlinewidth": 0,
             "ticks": ""
            },
            "colorscale": [
             [
              0,
              "#0d0887"
             ],
             [
              0.1111111111111111,
              "#46039f"
             ],
             [
              0.2222222222222222,
              "#7201a8"
             ],
             [
              0.3333333333333333,
              "#9c179e"
             ],
             [
              0.4444444444444444,
              "#bd3786"
             ],
             [
              0.5555555555555556,
              "#d8576b"
             ],
             [
              0.6666666666666666,
              "#ed7953"
             ],
             [
              0.7777777777777778,
              "#fb9f3a"
             ],
             [
              0.8888888888888888,
              "#fdca26"
             ],
             [
              1,
              "#f0f921"
             ]
            ],
            "type": "contour"
           }
          ],
          "contourcarpet": [
           {
            "colorbar": {
             "outlinewidth": 0,
             "ticks": ""
            },
            "type": "contourcarpet"
           }
          ],
          "heatmap": [
           {
            "colorbar": {
             "outlinewidth": 0,
             "ticks": ""
            },
            "colorscale": [
             [
              0,
              "#0d0887"
             ],
             [
              0.1111111111111111,
              "#46039f"
             ],
             [
              0.2222222222222222,
              "#7201a8"
             ],
             [
              0.3333333333333333,
              "#9c179e"
             ],
             [
              0.4444444444444444,
              "#bd3786"
             ],
             [
              0.5555555555555556,
              "#d8576b"
             ],
             [
              0.6666666666666666,
              "#ed7953"
             ],
             [
              0.7777777777777778,
              "#fb9f3a"
             ],
             [
              0.8888888888888888,
              "#fdca26"
             ],
             [
              1,
              "#f0f921"
             ]
            ],
            "type": "heatmap"
           }
          ],
          "histogram": [
           {
            "marker": {
             "pattern": {
              "fillmode": "overlay",
              "size": 10,
              "solidity": 0.2
             }
            },
            "type": "histogram"
           }
          ],
          "histogram2d": [
           {
            "colorbar": {
             "outlinewidth": 0,
             "ticks": ""
            },
            "colorscale": [
             [
              0,
              "#0d0887"
             ],
             [
              0.1111111111111111,
              "#46039f"
             ],
             [
              0.2222222222222222,
              "#7201a8"
             ],
             [
              0.3333333333333333,
              "#9c179e"
             ],
             [
              0.4444444444444444,
              "#bd3786"
             ],
             [
              0.5555555555555556,
              "#d8576b"
             ],
             [
              0.6666666666666666,
              "#ed7953"
             ],
             [
              0.7777777777777778,
              "#fb9f3a"
             ],
             [
              0.8888888888888888,
              "#fdca26"
             ],
             [
              1,
              "#f0f921"
             ]
            ],
            "type": "histogram2d"
           }
          ],
          "histogram2dcontour": [
           {
            "colorbar": {
             "outlinewidth": 0,
             "ticks": ""
            },
            "colorscale": [
             [
              0,
              "#0d0887"
             ],
             [
              0.1111111111111111,
              "#46039f"
             ],
             [
              0.2222222222222222,
              "#7201a8"
             ],
             [
              0.3333333333333333,
              "#9c179e"
             ],
             [
              0.4444444444444444,
              "#bd3786"
             ],
             [
              0.5555555555555556,
              "#d8576b"
             ],
             [
              0.6666666666666666,
              "#ed7953"
             ],
             [
              0.7777777777777778,
              "#fb9f3a"
             ],
             [
              0.8888888888888888,
              "#fdca26"
             ],
             [
              1,
              "#f0f921"
             ]
            ],
            "type": "histogram2dcontour"
           }
          ],
          "mesh3d": [
           {
            "colorbar": {
             "outlinewidth": 0,
             "ticks": ""
            },
            "type": "mesh3d"
           }
          ],
          "parcoords": [
           {
            "line": {
             "colorbar": {
              "outlinewidth": 0,
              "ticks": ""
             }
            },
            "type": "parcoords"
           }
          ],
          "pie": [
           {
            "automargin": true,
            "type": "pie"
           }
          ],
          "scatter": [
           {
            "fillpattern": {
             "fillmode": "overlay",
             "size": 10,
             "solidity": 0.2
            },
            "type": "scatter"
           }
          ],
          "scatter3d": [
           {
            "line": {
             "colorbar": {
              "outlinewidth": 0,
              "ticks": ""
             }
            },
            "marker": {
             "colorbar": {
              "outlinewidth": 0,
              "ticks": ""
             }
            },
            "type": "scatter3d"
           }
          ],
          "scattercarpet": [
           {
            "marker": {
             "colorbar": {
              "outlinewidth": 0,
              "ticks": ""
             }
            },
            "type": "scattercarpet"
           }
          ],
          "scattergeo": [
           {
            "marker": {
             "colorbar": {
              "outlinewidth": 0,
              "ticks": ""
             }
            },
            "type": "scattergeo"
           }
          ],
          "scattergl": [
           {
            "marker": {
             "colorbar": {
              "outlinewidth": 0,
              "ticks": ""
             }
            },
            "type": "scattergl"
           }
          ],
          "scattermap": [
           {
            "marker": {
             "colorbar": {
              "outlinewidth": 0,
              "ticks": ""
             }
            },
            "type": "scattermap"
           }
          ],
          "scattermapbox": [
           {
            "marker": {
             "colorbar": {
              "outlinewidth": 0,
              "ticks": ""
             }
            },
            "type": "scattermapbox"
           }
          ],
          "scatterpolar": [
           {
            "marker": {
             "colorbar": {
              "outlinewidth": 0,
              "ticks": ""
             }
            },
            "type": "scatterpolar"
           }
          ],
          "scatterpolargl": [
           {
            "marker": {
             "colorbar": {
              "outlinewidth": 0,
              "ticks": ""
             }
            },
            "type": "scatterpolargl"
           }
          ],
          "scatterternary": [
           {
            "marker": {
             "colorbar": {
              "outlinewidth": 0,
              "ticks": ""
             }
            },
            "type": "scatterternary"
           }
          ],
          "surface": [
           {
            "colorbar": {
             "outlinewidth": 0,
             "ticks": ""
            },
            "colorscale": [
             [
              0,
              "#0d0887"
             ],
             [
              0.1111111111111111,
              "#46039f"
             ],
             [
              0.2222222222222222,
              "#7201a8"
             ],
             [
              0.3333333333333333,
              "#9c179e"
             ],
             [
              0.4444444444444444,
              "#bd3786"
             ],
             [
              0.5555555555555556,
              "#d8576b"
             ],
             [
              0.6666666666666666,
              "#ed7953"
             ],
             [
              0.7777777777777778,
              "#fb9f3a"
             ],
             [
              0.8888888888888888,
              "#fdca26"
             ],
             [
              1,
              "#f0f921"
             ]
            ],
            "type": "surface"
           }
          ],
          "table": [
           {
            "cells": {
             "fill": {
              "color": "#EBF0F8"
             },
             "line": {
              "color": "white"
             }
            },
            "header": {
             "fill": {
              "color": "#C8D4E3"
             },
             "line": {
              "color": "white"
             }
            },
            "type": "table"
           }
          ]
         },
         "layout": {
          "annotationdefaults": {
           "arrowcolor": "#2a3f5f",
           "arrowhead": 0,
           "arrowwidth": 1
          },
          "autotypenumbers": "strict",
          "coloraxis": {
           "colorbar": {
            "outlinewidth": 0,
            "ticks": ""
           }
          },
          "colorscale": {
           "diverging": [
            [
             0,
             "#8e0152"
            ],
            [
             0.1,
             "#c51b7d"
            ],
            [
             0.2,
             "#de77ae"
            ],
            [
             0.3,
             "#f1b6da"
            ],
            [
             0.4,
             "#fde0ef"
            ],
            [
             0.5,
             "#f7f7f7"
            ],
            [
             0.6,
             "#e6f5d0"
            ],
            [
             0.7,
             "#b8e186"
            ],
            [
             0.8,
             "#7fbc41"
            ],
            [
             0.9,
             "#4d9221"
            ],
            [
             1,
             "#276419"
            ]
           ],
           "sequential": [
            [
             0,
             "#0d0887"
            ],
            [
             0.1111111111111111,
             "#46039f"
            ],
            [
             0.2222222222222222,
             "#7201a8"
            ],
            [
             0.3333333333333333,
             "#9c179e"
            ],
            [
             0.4444444444444444,
             "#bd3786"
            ],
            [
             0.5555555555555556,
             "#d8576b"
            ],
            [
             0.6666666666666666,
             "#ed7953"
            ],
            [
             0.7777777777777778,
             "#fb9f3a"
            ],
            [
             0.8888888888888888,
             "#fdca26"
            ],
            [
             1,
             "#f0f921"
            ]
           ],
           "sequentialminus": [
            [
             0,
             "#0d0887"
            ],
            [
             0.1111111111111111,
             "#46039f"
            ],
            [
             0.2222222222222222,
             "#7201a8"
            ],
            [
             0.3333333333333333,
             "#9c179e"
            ],
            [
             0.4444444444444444,
             "#bd3786"
            ],
            [
             0.5555555555555556,
             "#d8576b"
            ],
            [
             0.6666666666666666,
             "#ed7953"
            ],
            [
             0.7777777777777778,
             "#fb9f3a"
            ],
            [
             0.8888888888888888,
             "#fdca26"
            ],
            [
             1,
             "#f0f921"
            ]
           ]
          },
          "colorway": [
           "#636efa",
           "#EF553B",
           "#00cc96",
           "#ab63fa",
           "#FFA15A",
           "#19d3f3",
           "#FF6692",
           "#B6E880",
           "#FF97FF",
           "#FECB52"
          ],
          "font": {
           "color": "#2a3f5f"
          },
          "geo": {
           "bgcolor": "white",
           "lakecolor": "white",
           "landcolor": "#E5ECF6",
           "showlakes": true,
           "showland": true,
           "subunitcolor": "white"
          },
          "hoverlabel": {
           "align": "left"
          },
          "hovermode": "closest",
          "mapbox": {
           "style": "light"
          },
          "paper_bgcolor": "white",
          "plot_bgcolor": "#E5ECF6",
          "polar": {
           "angularaxis": {
            "gridcolor": "white",
            "linecolor": "white",
            "ticks": ""
           },
           "bgcolor": "#E5ECF6",
           "radialaxis": {
            "gridcolor": "white",
            "linecolor": "white",
            "ticks": ""
           }
          },
          "scene": {
           "xaxis": {
            "backgroundcolor": "#E5ECF6",
            "gridcolor": "white",
            "gridwidth": 2,
            "linecolor": "white",
            "showbackground": true,
            "ticks": "",
            "zerolinecolor": "white"
           },
           "yaxis": {
            "backgroundcolor": "#E5ECF6",
            "gridcolor": "white",
            "gridwidth": 2,
            "linecolor": "white",
            "showbackground": true,
            "ticks": "",
            "zerolinecolor": "white"
           },
           "zaxis": {
            "backgroundcolor": "#E5ECF6",
            "gridcolor": "white",
            "gridwidth": 2,
            "linecolor": "white",
            "showbackground": true,
            "ticks": "",
            "zerolinecolor": "white"
           }
          },
          "shapedefaults": {
           "line": {
            "color": "#2a3f5f"
           }
          },
          "ternary": {
           "aaxis": {
            "gridcolor": "white",
            "linecolor": "white",
            "ticks": ""
           },
           "baxis": {
            "gridcolor": "white",
            "linecolor": "white",
            "ticks": ""
           },
           "bgcolor": "#E5ECF6",
           "caxis": {
            "gridcolor": "white",
            "linecolor": "white",
            "ticks": ""
           }
          },
          "title": {
           "x": 0.05
          },
          "xaxis": {
           "automargin": true,
           "gridcolor": "white",
           "linecolor": "white",
           "ticks": "",
           "title": {
            "standoff": 15
           },
           "zerolinecolor": "white",
           "zerolinewidth": 2
          },
          "yaxis": {
           "automargin": true,
           "gridcolor": "white",
           "linecolor": "white",
           "ticks": "",
           "title": {
            "standoff": 15
           },
           "zerolinecolor": "white",
           "zerolinewidth": 2
          }
         }
        },
        "title": {
         "text": "Data structure by type of Service"
        }
       }
      }
     },
     "metadata": {},
     "output_type": "display_data"
    }
   ],
   "source": [
    "fig = px.pie(pie_df, values='count', names='Category', title='Data structure by type of Service')\n",
    "fig.show()"
   ]
  },
  {
   "cell_type": "markdown",
   "id": "0ecaa27b",
   "metadata": {},
   "source": [
    "### Understanding 'ATP Cohort'"
   ]
  },
  {
   "cell_type": "code",
   "execution_count": 45,
   "id": "dac5ffdb",
   "metadata": {},
   "outputs": [
    {
     "data": {
      "application/vnd.microsoft.datawrangler.viewer.v0+json": {
       "columns": [
        {
         "name": "Outcome",
         "rawType": "object",
         "type": "string"
        },
        {
         "name": "count",
         "rawType": "int64",
         "type": "integer"
        }
       ],
       "ref": "847f75cd-6b6c-4d4c-a1dc-5c109a6499d9",
       "rows": [
        [
         "NA",
         "445"
        ],
        [
         "Successfully Completed",
         "10"
        ],
        [
         "Did Not Complete",
         "5"
        ]
       ],
       "shape": {
        "columns": 1,
        "rows": 3
       }
      },
      "text/plain": [
       "Outcome\n",
       "NA                        445\n",
       "Successfully Completed     10\n",
       "Did Not Complete            5\n",
       "Name: count, dtype: int64"
      ]
     },
     "execution_count": 45,
     "metadata": {},
     "output_type": "execute_result"
    }
   ],
   "source": [
    "enrollments[enrollments['ATP Cohort'] == 'NA'].value_counts('Outcome')"
   ]
  }
 ],
 "metadata": {
  "kernelspec": {
   "display_name": "venv",
   "language": "python",
   "name": "python3"
  },
  "language_info": {
   "codemirror_mode": {
    "name": "ipython",
    "version": 3
   },
   "file_extension": ".py",
   "mimetype": "text/x-python",
   "name": "python",
   "nbconvert_exporter": "python",
   "pygments_lexer": "ipython3",
   "version": "3.12.6"
  }
 },
 "nbformat": 4,
 "nbformat_minor": 5
}
