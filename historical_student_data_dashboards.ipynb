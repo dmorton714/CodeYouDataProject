{
 "cells": [
  {
   "cell_type": "markdown",
   "id": "c73760d6",
   "metadata": {},
   "source": [
    "# Dashboard Historical student data\n",
    "\n",
    "## 1. Most common pathways taken:\n"
   ]
  },
  {
   "cell_type": "code",
   "execution_count": 134,
   "id": "ec855ef5",
   "metadata": {},
   "outputs": [],
   "source": [
    "import pandas as pd\n",
    "import plotly.express as px\n",
    "import plotly.graph_objects as go\n",
    "from dash import Dash, dcc, html, Input, Output"
   ]
  },
  {
   "cell_type": "markdown",
   "id": "49621639",
   "metadata": {},
   "source": [
    "### Data cleaning: (This can be extracted to an object or just create a funciton that is call once and outputs a clean file, while the process is not define I will just add the cleaning functions to this file)"
   ]
  },
  {
   "cell_type": "markdown",
   "id": "d5704b71",
   "metadata": {},
   "source": [
    "## Questions for Danny:\n",
    "* What to do when I have an NA in a DateTime series?"
   ]
  },
  {
   "cell_type": "code",
   "execution_count": 135,
   "id": "bc04972b",
   "metadata": {},
   "outputs": [],
   "source": [
    "# Cleaning and testing function\n",
    "def Enrollments_cleaning(df: pd.DataFrame) -> pd.DataFrame:\n",
    "    # Columns to clean\n",
    "    COLUMNS_TO_DROP = ['Full Name']\n",
    "    result = df.drop(columns=COLUMNS_TO_DROP)\n",
    "    \n",
    "    # TODO: fix 'ATP Cohorts' \n",
    "        # Q: how do I handle 'NA' in a datetime series\n",
    "    \n",
    "    # Fix NaN values\n",
    "    NAN_VALUE_SUBSTITUTE = 'NA'\n",
    "    columns_to_fix = {\n",
    "        'Projected Start Date': NAN_VALUE_SUBSTITUTE, 'Actual Start Date': NAN_VALUE_SUBSTITUTE, 'Projected End Date': NAN_VALUE_SUBSTITUTE,\n",
    "        'Actual End Date': NAN_VALUE_SUBSTITUTE, 'Outcome': NAN_VALUE_SUBSTITUTE, 'ATP Cohort': NAN_VALUE_SUBSTITUTE\n",
    "    }\n",
    "\n",
    "    for column, substitute_value in columns_to_fix.items():\n",
    "        result[column] = result[column].fillna(substitute_value)\n",
    "\n",
    "    # Fix change name Data Analitics 2 to Data Analysis 2 for consistency\n",
    "    result.loc[result['Service'] == 'Data Analytics 2', 'Service'] = 'Data Analysis 2'\n",
    "\n",
    "    # Delete values not needed \n",
    "    values_not_needed = {\n",
    "        'Service': ['Software Development 1', 'Software Development 2', 'Web Development 1', 'Web Development 2', 'Data Analysis 1','Data Analysis 2']\n",
    "    }\n",
    "    for column, value in values_not_needed.items():\n",
    "        result = result[~result[column].isin(value)]\n",
    "\n",
    "    # DataTypes\n",
    "    column_datatype: dict = {'Auto Id': str, 'KY Region': str, 'Assessment ID': str, 'EnrollmentId': str,\n",
    "       'Enrollment Service Name': str, 'Service': str, 'Projected Start Date': str,\n",
    "       'Actual Start Date': str, 'Projected End Date': str, 'Actual End Date': str, 'Outcome': str,\n",
    "       'ATP Cohort': str} \n",
    "    # TODO: 'Projected Start Date', 'Actual Start Date', 'Projected End Date', 'Actual End Date' are all datetime types but have a value fix of NA\n",
    "    \n",
    "    for column, type in column_datatype.items():\n",
    "        result[column] = result[column].astype(type)\n",
    "\n",
    "    # Added the tests inside the cleaning function because it cannot be on a separeted folder structure until testing methods are define\n",
    "    Test_enrollments_cleaning(result)\n",
    "\n",
    "    return result\n",
    "\n",
    "def Test_enrollments_cleaning(clean_df: pd.DataFrame):\n",
    "    # Parameter can be change to an in-function call of the data cleanner with the DF\n",
    "    assert ~clean_df.isna().any().any(), 'The Dataframe has na values.'"
   ]
  },
  {
   "cell_type": "code",
   "execution_count": null,
   "id": "15b7c4ec",
   "metadata": {},
   "outputs": [
    {
     "data": {
      "text/plain": [
       "Index(['Auto Id', 'KY Region', 'Assessment ID', 'EnrollmentId',\n",
       "       'Enrollment Service Name', 'Service', 'Projected Start Date',\n",
       "       'Actual Start Date', 'Projected End Date', 'Actual End Date', 'Outcome',\n",
       "       'ATP Cohort'],\n",
       "      dtype='object')"
      ]
     },
     "execution_count": 136,
     "metadata": {},
     "output_type": "execute_result"
    }
   ],
   "source": [
    "enrollments = pd.read_excel('Data\\\\Raw\\\\ARC Enrollments.xlsx')\n",
    "enrollments = Enrollments_cleaning(enrollments)\n",
    "enrollments"
   ]
  },
  {
   "cell_type": "markdown",
   "id": "8c9d2634",
   "metadata": {},
   "source": [
    "### 1.1 Most common path by period\n",
    "- Periods are going to be define by ATP Cohort"
   ]
  },
  {
   "cell_type": "code",
   "execution_count": 137,
   "id": "0773f9b7",
   "metadata": {},
   "outputs": [],
   "source": [
    "# Starter pathways are the only path that have to be taken into consideration for each period student pathway choosing\n",
    "# TODO: maybe make them generate automatically \n",
    "Starter_pathways = [\n",
    "    'Web Development M1',\n",
    "    'Data Analysis M1', \n",
    "    'Software Development M1',\n",
    "    'Quality Assurance M1', \n",
    "    'User Experience M1'\n",
    "]"
   ]
  },
  {
   "cell_type": "code",
   "execution_count": 138,
   "id": "c4902e7d",
   "metadata": {},
   "outputs": [
    {
     "data": {
      "application/vnd.microsoft.datawrangler.viewer.v0+json": {
       "columns": [
        {
         "name": "Service",
         "rawType": "object",
         "type": "string"
        },
        {
         "name": "count",
         "rawType": "int64",
         "type": "integer"
        }
       ],
       "ref": "b4504a2c-f3c1-451f-8f67-12507b3d07ef",
       "rows": [
        [
         "Career Readiness Workshop",
         "224"
        ],
        [
         "One-on-one Job Readiness",
         "87"
        ],
        [
         "Remote Jobs Workshop (EDA Grant)",
         "30"
        ],
        [
         "Referral to External Service",
         "20"
        ],
        [
         "Supportive Services Referral",
         "20"
        ],
        [
         "Tech Communications Workshop",
         "20"
        ],
        [
         "Employer Event (Code:You)",
         "14"
        ],
        [
         "Demo Day Participant",
         "12"
        ],
        [
         "Remote Jobs Workshop (non EDA)",
         "8"
        ],
        [
         "Resume Review and Optimization",
         "6"
        ],
        [
         "Technical Project Management",
         "6"
        ],
        [
         "Interview Guidance and Practice",
         "5"
        ],
        [
         "Data Analysis M4",
         "2"
        ],
        [
         "Revised Resume Review",
         "2"
        ],
        [
         "Web Development M4",
         "2"
        ],
        [
         "Software Development M4",
         "1"
        ]
       ],
       "shape": {
        "columns": 1,
        "rows": 16
       }
      },
      "text/plain": [
       "Service\n",
       "Career Readiness Workshop           224\n",
       "One-on-one Job Readiness             87\n",
       "Remote Jobs Workshop (EDA Grant)     30\n",
       "Referral to External Service         20\n",
       "Supportive Services Referral         20\n",
       "Tech Communications Workshop         20\n",
       "Employer Event (Code:You)            14\n",
       "Demo Day Participant                 12\n",
       "Remote Jobs Workshop (non EDA)        8\n",
       "Resume Review and Optimization        6\n",
       "Technical Project Management          6\n",
       "Interview Guidance and Practice       5\n",
       "Data Analysis M4                      2\n",
       "Revised Resume Review                 2\n",
       "Web Development M4                    2\n",
       "Software Development M4               1\n",
       "Name: count, dtype: int64"
      ]
     },
     "execution_count": 138,
     "metadata": {},
     "output_type": "execute_result"
    }
   ],
   "source": [
    "# What are the NA values in 'ATP Cohort'?\n",
    "enrollments[enrollments['ATP Cohort'] == 'NA'].value_counts('Service')\n",
    "\n",
    "# looks like pathways are not represented in ATP Cohort NA Values (Probably has more to do with support entries)\n",
    "# only 6 of the 460 ATP cohort 'NA' values are pathways"
   ]
  },
  {
   "cell_type": "code",
   "execution_count": 139,
   "id": "10a28ede",
   "metadata": {},
   "outputs": [],
   "source": [
    "def Get_starting_pathways(df: pd.DataFrame): \n",
    "    \"\"\"\n",
    "        Returns a pandas.DataFrame were all the services are the biginning paths\n",
    "\n",
    "        Args: \n",
    "            df: pandas.DataFrame\n",
    "\n",
    "        Return:\n",
    "            pandas.DataFrame\n",
    "    \"\"\"\n",
    "    Starter_pathways = [\n",
    "        'Web Development M1',\n",
    "        'Data Analysis M1', \n",
    "        'Software Development M1',\n",
    "        'Quality Assurance M1', \n",
    "        'User Experience M1',\n",
    "    ]\n",
    "    mask_starter_pathways = df['Service'].isin(Starter_pathways)\n",
    "    return df[mask_starter_pathways]\n",
    "\n",
    "def Get_cohorts_list(df: pd.DataFrame):\n",
    "    cohorts = list(pd.to_datetime(df['ATP Cohort'][df['ATP Cohort'] != 'NA']).sort_values(ascending=True).unique())\n",
    "    cohorts.insert(0, 'All cohorts')\n",
    "    return cohorts\n",
    "\n",
    "def Get_data_by_cohort(df: pd.DataFrame, cohort: str = 'All cohorts') -> pd.DataFrame:\n",
    "    if cohort == 'All cohorts':\n",
    "        result = df.value_counts('Service').reset_index()\n",
    "    else:\n",
    "        result = df[df['ATP Cohort'] == pd.Timestamp(cohort)].value_counts('Service').reset_index()\n",
    "    \n",
    "    return result"
   ]
  },
  {
   "cell_type": "code",
   "execution_count": 140,
   "id": "8020e97f",
   "metadata": {},
   "outputs": [
    {
     "data": {
      "application/vnd.microsoft.datawrangler.viewer.v0+json": {
       "columns": [
        {
         "name": "index",
         "rawType": "int64",
         "type": "integer"
        },
        {
         "name": "Auto Id",
         "rawType": "object",
         "type": "string"
        },
        {
         "name": "KY Region",
         "rawType": "object",
         "type": "string"
        },
        {
         "name": "Assessment ID",
         "rawType": "object",
         "type": "string"
        },
        {
         "name": "EnrollmentId",
         "rawType": "object",
         "type": "string"
        },
        {
         "name": "Enrollment Service Name",
         "rawType": "object",
         "type": "string"
        },
        {
         "name": "Service",
         "rawType": "object",
         "type": "string"
        },
        {
         "name": "Projected Start Date",
         "rawType": "object",
         "type": "string"
        },
        {
         "name": "Actual Start Date",
         "rawType": "object",
         "type": "string"
        },
        {
         "name": "Projected End Date",
         "rawType": "object",
         "type": "string"
        },
        {
         "name": "Actual End Date",
         "rawType": "object",
         "type": "string"
        },
        {
         "name": "Outcome",
         "rawType": "object",
         "type": "string"
        },
        {
         "name": "ATP Cohort",
         "rawType": "object",
         "type": "string"
        }
       ],
       "ref": "8df3145d-7c39-4a2f-9491-bd86871a1713",
       "rows": [
        [
         "0",
         "202303-11274",
         "SOAR",
         "OA-010946",
         "Enrollment-7415",
         "ES-0021827",
         "Web Development M1",
         "2024-03-11 00:00:00",
         "2024-03-11 00:00:00",
         "2024-04-12 00:00:00",
         "2024-04-12 00:00:00",
         "Successfully Completed",
         "2024-01-01 00:00:00"
        ],
        [
         "1",
         "202206-8668",
         "SOAR",
         "OA-016863",
         "Enrollment-9631",
         "ES-0024437",
         "Intro to Programming Core",
         "2024-08-15 00:00:00",
         "NA",
         "NA",
         "2024-09-29 00:00:00",
         "Successfully Completed",
         "2024-08-01 00:00:00"
        ],
        [
         "2",
         "202110-5639",
         "SOAR",
         "OA-004316",
         "Enrollment-5320",
         "ES-0022632",
         "Intro to Programming Core",
         "2024-05-06 00:00:00",
         "2024-05-06 00:00:00",
         "NA",
         "2024-06-28 00:00:00",
         "Successfully Completed",
         "2024-05-01 00:00:00"
        ],
        [
         "3",
         "202410-17704",
         "SOAR",
         "OA-019195",
         "Enrollment-11703",
         "ES-0029379",
         "Intro to Programming Core",
         "2025-01-07 00:00:00",
         "2025-01-13 00:00:00",
         "2025-02-18 00:00:00",
         "2025-02-04 00:00:00",
         "Did Not Complete",
         "2025-01-01 00:00:00"
        ],
        [
         "4",
         "202208-9220",
         "SOAR",
         "OA-008218",
         "Enrollment-6405",
         "ES-0016248",
         "Salesforce",
         "2022-09-07 00:00:00",
         "NA",
         "NA",
         "2022-11-18 00:00:00",
         "Successfully Completed",
         "2022-09-01 00:00:00"
        ]
       ],
       "shape": {
        "columns": 12,
        "rows": 5
       }
      },
      "text/html": [
       "<div>\n",
       "<style scoped>\n",
       "    .dataframe tbody tr th:only-of-type {\n",
       "        vertical-align: middle;\n",
       "    }\n",
       "\n",
       "    .dataframe tbody tr th {\n",
       "        vertical-align: top;\n",
       "    }\n",
       "\n",
       "    .dataframe thead th {\n",
       "        text-align: right;\n",
       "    }\n",
       "</style>\n",
       "<table border=\"1\" class=\"dataframe\">\n",
       "  <thead>\n",
       "    <tr style=\"text-align: right;\">\n",
       "      <th></th>\n",
       "      <th>Auto Id</th>\n",
       "      <th>KY Region</th>\n",
       "      <th>Assessment ID</th>\n",
       "      <th>EnrollmentId</th>\n",
       "      <th>Enrollment Service Name</th>\n",
       "      <th>Service</th>\n",
       "      <th>Projected Start Date</th>\n",
       "      <th>Actual Start Date</th>\n",
       "      <th>Projected End Date</th>\n",
       "      <th>Actual End Date</th>\n",
       "      <th>Outcome</th>\n",
       "      <th>ATP Cohort</th>\n",
       "    </tr>\n",
       "  </thead>\n",
       "  <tbody>\n",
       "    <tr>\n",
       "      <th>0</th>\n",
       "      <td>202303-11274</td>\n",
       "      <td>SOAR</td>\n",
       "      <td>OA-010946</td>\n",
       "      <td>Enrollment-7415</td>\n",
       "      <td>ES-0021827</td>\n",
       "      <td>Web Development M1</td>\n",
       "      <td>2024-03-11 00:00:00</td>\n",
       "      <td>2024-03-11 00:00:00</td>\n",
       "      <td>2024-04-12 00:00:00</td>\n",
       "      <td>2024-04-12 00:00:00</td>\n",
       "      <td>Successfully Completed</td>\n",
       "      <td>2024-01-01 00:00:00</td>\n",
       "    </tr>\n",
       "    <tr>\n",
       "      <th>1</th>\n",
       "      <td>202206-8668</td>\n",
       "      <td>SOAR</td>\n",
       "      <td>OA-016863</td>\n",
       "      <td>Enrollment-9631</td>\n",
       "      <td>ES-0024437</td>\n",
       "      <td>Intro to Programming Core</td>\n",
       "      <td>2024-08-15 00:00:00</td>\n",
       "      <td>NA</td>\n",
       "      <td>NA</td>\n",
       "      <td>2024-09-29 00:00:00</td>\n",
       "      <td>Successfully Completed</td>\n",
       "      <td>2024-08-01 00:00:00</td>\n",
       "    </tr>\n",
       "    <tr>\n",
       "      <th>2</th>\n",
       "      <td>202110-5639</td>\n",
       "      <td>SOAR</td>\n",
       "      <td>OA-004316</td>\n",
       "      <td>Enrollment-5320</td>\n",
       "      <td>ES-0022632</td>\n",
       "      <td>Intro to Programming Core</td>\n",
       "      <td>2024-05-06 00:00:00</td>\n",
       "      <td>2024-05-06 00:00:00</td>\n",
       "      <td>NA</td>\n",
       "      <td>2024-06-28 00:00:00</td>\n",
       "      <td>Successfully Completed</td>\n",
       "      <td>2024-05-01 00:00:00</td>\n",
       "    </tr>\n",
       "    <tr>\n",
       "      <th>3</th>\n",
       "      <td>202410-17704</td>\n",
       "      <td>SOAR</td>\n",
       "      <td>OA-019195</td>\n",
       "      <td>Enrollment-11703</td>\n",
       "      <td>ES-0029379</td>\n",
       "      <td>Intro to Programming Core</td>\n",
       "      <td>2025-01-07 00:00:00</td>\n",
       "      <td>2025-01-13 00:00:00</td>\n",
       "      <td>2025-02-18 00:00:00</td>\n",
       "      <td>2025-02-04 00:00:00</td>\n",
       "      <td>Did Not Complete</td>\n",
       "      <td>2025-01-01 00:00:00</td>\n",
       "    </tr>\n",
       "    <tr>\n",
       "      <th>4</th>\n",
       "      <td>202208-9220</td>\n",
       "      <td>SOAR</td>\n",
       "      <td>OA-008218</td>\n",
       "      <td>Enrollment-6405</td>\n",
       "      <td>ES-0016248</td>\n",
       "      <td>Salesforce</td>\n",
       "      <td>2022-09-07 00:00:00</td>\n",
       "      <td>NA</td>\n",
       "      <td>NA</td>\n",
       "      <td>2022-11-18 00:00:00</td>\n",
       "      <td>Successfully Completed</td>\n",
       "      <td>2022-09-01 00:00:00</td>\n",
       "    </tr>\n",
       "  </tbody>\n",
       "</table>\n",
       "</div>"
      ],
      "text/plain": [
       "        Auto Id KY Region Assessment ID      EnrollmentId  \\\n",
       "0  202303-11274      SOAR     OA-010946   Enrollment-7415   \n",
       "1   202206-8668      SOAR     OA-016863   Enrollment-9631   \n",
       "2   202110-5639      SOAR     OA-004316   Enrollment-5320   \n",
       "3  202410-17704      SOAR     OA-019195  Enrollment-11703   \n",
       "4   202208-9220      SOAR     OA-008218   Enrollment-6405   \n",
       "\n",
       "  Enrollment Service Name                    Service Projected Start Date  \\\n",
       "0              ES-0021827         Web Development M1  2024-03-11 00:00:00   \n",
       "1              ES-0024437  Intro to Programming Core  2024-08-15 00:00:00   \n",
       "2              ES-0022632  Intro to Programming Core  2024-05-06 00:00:00   \n",
       "3              ES-0029379  Intro to Programming Core  2025-01-07 00:00:00   \n",
       "4              ES-0016248                 Salesforce  2022-09-07 00:00:00   \n",
       "\n",
       "     Actual Start Date   Projected End Date      Actual End Date  \\\n",
       "0  2024-03-11 00:00:00  2024-04-12 00:00:00  2024-04-12 00:00:00   \n",
       "1                   NA                   NA  2024-09-29 00:00:00   \n",
       "2  2024-05-06 00:00:00                   NA  2024-06-28 00:00:00   \n",
       "3  2025-01-13 00:00:00  2025-02-18 00:00:00  2025-02-04 00:00:00   \n",
       "4                   NA                   NA  2022-11-18 00:00:00   \n",
       "\n",
       "                  Outcome           ATP Cohort  \n",
       "0  Successfully Completed  2024-01-01 00:00:00  \n",
       "1  Successfully Completed  2024-08-01 00:00:00  \n",
       "2  Successfully Completed  2024-05-01 00:00:00  \n",
       "3        Did Not Complete  2025-01-01 00:00:00  \n",
       "4  Successfully Completed  2022-09-01 00:00:00  "
      ]
     },
     "execution_count": 140,
     "metadata": {},
     "output_type": "execute_result"
    }
   ],
   "source": [
    "# TODO: Finish tests\n",
    "def Test_Get_starting_pathways():\n",
    "    mock_data = pd.DataFrame(\n",
    "        {\n",
    "            'Auto Id': ['202303-11274', '202206-8668', '202110-5639', '202410-17704', '202208-9220'], \n",
    "            'KY Region': ['SOAR', 'SOAR', 'SOAR', 'SOAR', 'SOAR'], \n",
    "            'Assessment ID': ['OA-010946', 'OA-016863', 'OA-004316', 'OA-019195', 'OA-008218'], \n",
    "            'EnrollmentId': ['Enrollment-7415', 'Enrollment-9631', 'Enrollment-5320', 'Enrollment-11703', 'Enrollment-6405'], \n",
    "            'Enrollment Service Name': ['ES-0021827', 'ES-0024437', 'ES-0022632', 'ES-0029379', 'ES-0016248'], \n",
    "            'Service': ['Web Development M1', 'Intro to Programming Core', 'Intro to Programming Core', 'Intro to Programming Core', 'Salesforce'], \n",
    "            'Projected Start Date': ['2024-03-11 00:00:00', '2024-08-15 00:00:00', '2024-05-06 00:00:00', '2025-01-07 00:00:00', '2022-09-07 00:00:00'], \n",
    "            'Actual Start Date': ['2024-03-11 00:00:00', 'NA', '2024-05-06 00:00:00', '2025-01-13 00:00:00', 'NA'], \n",
    "            'Projected End Date': ['2024-04-12 00:00:00', 'NA', 'NA', '2025-02-18 00:00:00', 'NA'], \n",
    "            'Actual End Date': ['2024-04-12 00:00:00', '2024-09-29 00:00:00', '2024-06-28 00:00:00', '2025-02-04 00:00:00', '2022-11-18 00:00:00'], \n",
    "            'Outcome': ['Successfully Completed', 'Successfully Completed', 'Successfully Completed', 'Did Not Complete', 'Successfully Completed'], \n",
    "            'ATP Cohort': ['2024-01-01 00:00:00', '2024-08-01 00:00:00', '2024-05-01 00:00:00', '2025-01-01 00:00:00', '2022-09-01 00:00:00']\n",
    "        }\n",
    "    )\n",
    "    return mock_data\n",
    "Test_Get_starting_pathways()"
   ]
  },
  {
   "cell_type": "code",
   "execution_count": 141,
   "id": "630dca1e",
   "metadata": {},
   "outputs": [
    {
     "data": {
      "text/html": [
       "\n",
       "        <iframe\n",
       "            width=\"100%\"\n",
       "            height=\"650\"\n",
       "            src=\"http://127.0.0.1:8052/\"\n",
       "            frameborder=\"0\"\n",
       "            allowfullscreen\n",
       "            \n",
       "        ></iframe>\n",
       "        "
      ],
      "text/plain": [
       "<IPython.lib.display.IFrame at 0x25713e82930>"
      ]
     },
     "metadata": {},
     "output_type": "display_data"
    }
   ],
   "source": [
    "def Dash_most_selected_path_by_cohort(data: pd.DataFrame) -> Dash: # Need to pass the dataframe argument because of how the Data is structure\n",
    "    app = Dash(__name__)\n",
    "    # Const\n",
    "    starter_only_enrollments = Get_starting_pathways(data) # This function should be able to comunicate with the data without argument\n",
    "\n",
    "    dropdown_options = Get_cohorts_list(starter_only_enrollments)\n",
    "    pathway_color = {\n",
    "        'Web Development M1': 'blue',\n",
    "        'Data Analysis M1': 'red', \n",
    "        'Software Development M1': 'green',\n",
    "        'Quality Assurance M1': 'yellow', \n",
    "        'User Experience M1': 'purple'\n",
    "    }\n",
    "\n",
    "    # Display\n",
    "    app.layout = html.Div([\n",
    "        html.H2('Cohorts', style={'text-align': \"center\"}),\n",
    "        html.P('Select Cohort:'),\n",
    "        dcc.Dropdown(\n",
    "            id=\"dropdown\",\n",
    "            options=dropdown_options,\n",
    "            value=dropdown_options[0],\n",
    "            clearable=False,\n",
    "        ),\n",
    "        dcc.Graph(id=\"graph\")\n",
    "        \n",
    "    ], style={'backgroundColor':'white'})\n",
    "\n",
    "    @app.callback(\n",
    "        Output(\"graph\", \"figure\"),\n",
    "        Input(\"dropdown\", \"value\"))\n",
    "\n",
    "    # Graph\n",
    "    def tt(time):\n",
    "        df = Get_data_by_cohort(starter_only_enrollments, time)\n",
    "        fig = px.pie(df, names='Service', values='count', color='Service', color_discrete_map=pathway_color)\n",
    "        return fig\n",
    "\n",
    "    return app\n",
    "\n",
    "    # TODO: Add number of students per each cohort \n",
    "    # TODO: Fix the options on the selection \n",
    "    # TODO: make colors better\n",
    "\n",
    "Dash_most_selected_path_by_cohort(enrollments).run(debug=True, port=8052)"
   ]
  },
  {
   "cell_type": "markdown",
   "id": "16f9f9a6",
   "metadata": {},
   "source": [
    "### 2. Completion rates"
   ]
  },
  {
   "cell_type": "markdown",
   "id": "af3ada51",
   "metadata": {},
   "source": [
    "### 2.1 completion rate by path"
   ]
  },
  {
   "cell_type": "code",
   "execution_count": 142,
   "id": "1504a061",
   "metadata": {},
   "outputs": [],
   "source": [
    "pathways = [\n",
    "    'Web Development M1',\n",
    "    'Web Development M2',\n",
    "    'Web Development M3',\n",
    "    'Web Development M4',\n",
    "    'Data Analysis M1', \n",
    "    'Data Analysis M2',\n",
    "    'Data Analysis M3',\n",
    "    'Data Analysis M4', \n",
    "    'Software Development M1',\n",
    "    'Software Development M2',\n",
    "    'Software Development M3',\n",
    "    'Software Development M4',\n",
    "    'Quality Assurance M1', \n",
    "    'Quality Assurance M2',\n",
    "    'Quality Assurance M3', \n",
    "    'Quality Assurance M4', \n",
    "    'User Experience M1', \n",
    "    'User Experience M2',\n",
    "    'User Experience M3', \n",
    "    'User Experience M4',\n",
    "]"
   ]
  },
  {
   "cell_type": "code",
   "execution_count": 143,
   "id": "930b4918",
   "metadata": {},
   "outputs": [],
   "source": [
    "# Not the best Pandas way to do it:\n",
    "def Get_completion_percentages(df: pd.DataFrame, cohort: str = 'All cohorts') -> pd.DataFrame:\n",
    "    if cohort == 'All cohorts':\n",
    "        data = df\n",
    "    else:\n",
    "        data = df[df['ATP Cohort'] == pd.Timestamp(cohort)]\n",
    "\n",
    "    completion_dictionary = {}\n",
    "\n",
    "    for path in pathways:\n",
    "        outcome = data[data['Service'] == path]['Outcome'].value_counts(normalize=True).reset_index()\n",
    "        completion_dictionary[path] = {row.Outcome: row.proportion for row in outcome.itertuples(index=True)}\n",
    "    \n",
    "    result_df = pd.DataFrame(completion_dictionary).transpose().fillna(0).rename_axis('Module').reset_index()\n",
    "\n",
    "    result_df['Pathway'] = result_df['Module'].apply(lambda x: x[:x.rfind(' ')]) # intended to be able to sort by pathway\n",
    "    return result_df\n",
    "# TODO: Add test\n",
    "\n",
    "def Get_pathways_name(df: pd.DataFrame) -> list:\n",
    "    return list(df['Pathway'].unique())\n",
    "\n"
   ]
  },
  {
   "cell_type": "code",
   "execution_count": 144,
   "id": "a7ea4ffb",
   "metadata": {},
   "outputs": [
    {
     "data": {
      "application/vnd.microsoft.datawrangler.viewer.v0+json": {
       "columns": [
        {
         "name": "index",
         "rawType": "int64",
         "type": "integer"
        },
        {
         "name": "Module",
         "rawType": "object",
         "type": "string"
        },
        {
         "name": "Successfully Completed",
         "rawType": "float64",
         "type": "float"
        },
        {
         "name": "Did Not Complete",
         "rawType": "float64",
         "type": "float"
        },
        {
         "name": "Partially Completed",
         "rawType": "float64",
         "type": "float"
        },
        {
         "name": "NA",
         "rawType": "float64",
         "type": "float"
        },
        {
         "name": "Pathway",
         "rawType": "object",
         "type": "string"
        }
       ],
       "ref": "742847f3-ad3f-4e82-a206-eb8d98493700",
       "rows": [
        [
         "0",
         "Web Development M1",
         "0.7916666666666666",
         "0.15625",
         "0.052083333333333336",
         "0.0",
         "Web Development"
        ],
        [
         "1",
         "Web Development M2",
         "0.8076923076923077",
         "0.15384615384615385",
         "0.038461538461538464",
         "0.0",
         "Web Development"
        ],
        [
         "2",
         "Web Development M3",
         "0.59375",
         "0.09375",
         "0.0",
         "0.3125",
         "Web Development"
        ],
        [
         "3",
         "Web Development M4",
         "0.675",
         "0.325",
         "0.0",
         "0.0",
         "Web Development"
        ],
        [
         "4",
         "Data Analysis M1",
         "0.7777777777777778",
         "0.1574074074074074",
         "0.06481481481481481",
         "0.0",
         "Data Analysis"
        ],
        [
         "5",
         "Data Analysis M2",
         "0.6046511627906976",
         "0.27906976744186046",
         "0.09302325581395349",
         "0.023255813953488372",
         "Data Analysis"
        ],
        [
         "6",
         "Data Analysis M3",
         "0.6346153846153846",
         "0.07692307692307693",
         "0.038461538461538464",
         "0.25",
         "Data Analysis"
        ],
        [
         "7",
         "Data Analysis M4",
         "0.5757575757575758",
         "0.3939393939393939",
         "0.030303030303030304",
         "0.0",
         "Data Analysis"
        ],
        [
         "8",
         "Software Development M1",
         "0.8",
         "0.18181818181818182",
         "0.01818181818181818",
         "0.0",
         "Software Development"
        ],
        [
         "9",
         "Software Development M2",
         "0.7441860465116279",
         "0.20930232558139536",
         "0.046511627906976744",
         "0.0",
         "Software Development"
        ],
        [
         "10",
         "Software Development M3",
         "0.7878787878787878",
         "0.15151515151515152",
         "0.06060606060606061",
         "0.0",
         "Software Development"
        ],
        [
         "11",
         "Software Development M4",
         "0.5769230769230769",
         "0.4230769230769231",
         "0.0",
         "0.0",
         "Software Development"
        ],
        [
         "12",
         "Quality Assurance M1",
         "1.0",
         "0.0",
         "0.0",
         "0.0",
         "Quality Assurance"
        ],
        [
         "13",
         "Quality Assurance M2",
         "1.0",
         "0.0",
         "0.0",
         "0.0",
         "Quality Assurance"
        ],
        [
         "14",
         "Quality Assurance M3",
         "1.0",
         "0.0",
         "0.0",
         "0.0",
         "Quality Assurance"
        ],
        [
         "15",
         "Quality Assurance M4",
         "1.0",
         "0.0",
         "0.0",
         "0.0",
         "Quality Assurance"
        ],
        [
         "16",
         "User Experience M1",
         "0.5",
         "0.5",
         "0.0",
         "0.0",
         "User Experience"
        ],
        [
         "17",
         "User Experience M2",
         "1.0",
         "0.0",
         "0.0",
         "0.0",
         "User Experience"
        ],
        [
         "18",
         "User Experience M3",
         "1.0",
         "0.0",
         "0.0",
         "0.0",
         "User Experience"
        ],
        [
         "19",
         "User Experience M4",
         "1.0",
         "0.0",
         "0.0",
         "0.0",
         "User Experience"
        ]
       ],
       "shape": {
        "columns": 6,
        "rows": 20
       }
      },
      "text/html": [
       "<div>\n",
       "<style scoped>\n",
       "    .dataframe tbody tr th:only-of-type {\n",
       "        vertical-align: middle;\n",
       "    }\n",
       "\n",
       "    .dataframe tbody tr th {\n",
       "        vertical-align: top;\n",
       "    }\n",
       "\n",
       "    .dataframe thead th {\n",
       "        text-align: right;\n",
       "    }\n",
       "</style>\n",
       "<table border=\"1\" class=\"dataframe\">\n",
       "  <thead>\n",
       "    <tr style=\"text-align: right;\">\n",
       "      <th></th>\n",
       "      <th>Module</th>\n",
       "      <th>Successfully Completed</th>\n",
       "      <th>Did Not Complete</th>\n",
       "      <th>Partially Completed</th>\n",
       "      <th>NA</th>\n",
       "      <th>Pathway</th>\n",
       "    </tr>\n",
       "  </thead>\n",
       "  <tbody>\n",
       "    <tr>\n",
       "      <th>0</th>\n",
       "      <td>Web Development M1</td>\n",
       "      <td>0.791667</td>\n",
       "      <td>0.156250</td>\n",
       "      <td>0.052083</td>\n",
       "      <td>0.000000</td>\n",
       "      <td>Web Development</td>\n",
       "    </tr>\n",
       "    <tr>\n",
       "      <th>1</th>\n",
       "      <td>Web Development M2</td>\n",
       "      <td>0.807692</td>\n",
       "      <td>0.153846</td>\n",
       "      <td>0.038462</td>\n",
       "      <td>0.000000</td>\n",
       "      <td>Web Development</td>\n",
       "    </tr>\n",
       "    <tr>\n",
       "      <th>2</th>\n",
       "      <td>Web Development M3</td>\n",
       "      <td>0.593750</td>\n",
       "      <td>0.093750</td>\n",
       "      <td>0.000000</td>\n",
       "      <td>0.312500</td>\n",
       "      <td>Web Development</td>\n",
       "    </tr>\n",
       "    <tr>\n",
       "      <th>3</th>\n",
       "      <td>Web Development M4</td>\n",
       "      <td>0.675000</td>\n",
       "      <td>0.325000</td>\n",
       "      <td>0.000000</td>\n",
       "      <td>0.000000</td>\n",
       "      <td>Web Development</td>\n",
       "    </tr>\n",
       "    <tr>\n",
       "      <th>4</th>\n",
       "      <td>Data Analysis M1</td>\n",
       "      <td>0.777778</td>\n",
       "      <td>0.157407</td>\n",
       "      <td>0.064815</td>\n",
       "      <td>0.000000</td>\n",
       "      <td>Data Analysis</td>\n",
       "    </tr>\n",
       "    <tr>\n",
       "      <th>5</th>\n",
       "      <td>Data Analysis M2</td>\n",
       "      <td>0.604651</td>\n",
       "      <td>0.279070</td>\n",
       "      <td>0.093023</td>\n",
       "      <td>0.023256</td>\n",
       "      <td>Data Analysis</td>\n",
       "    </tr>\n",
       "    <tr>\n",
       "      <th>6</th>\n",
       "      <td>Data Analysis M3</td>\n",
       "      <td>0.634615</td>\n",
       "      <td>0.076923</td>\n",
       "      <td>0.038462</td>\n",
       "      <td>0.250000</td>\n",
       "      <td>Data Analysis</td>\n",
       "    </tr>\n",
       "    <tr>\n",
       "      <th>7</th>\n",
       "      <td>Data Analysis M4</td>\n",
       "      <td>0.575758</td>\n",
       "      <td>0.393939</td>\n",
       "      <td>0.030303</td>\n",
       "      <td>0.000000</td>\n",
       "      <td>Data Analysis</td>\n",
       "    </tr>\n",
       "    <tr>\n",
       "      <th>8</th>\n",
       "      <td>Software Development M1</td>\n",
       "      <td>0.800000</td>\n",
       "      <td>0.181818</td>\n",
       "      <td>0.018182</td>\n",
       "      <td>0.000000</td>\n",
       "      <td>Software Development</td>\n",
       "    </tr>\n",
       "    <tr>\n",
       "      <th>9</th>\n",
       "      <td>Software Development M2</td>\n",
       "      <td>0.744186</td>\n",
       "      <td>0.209302</td>\n",
       "      <td>0.046512</td>\n",
       "      <td>0.000000</td>\n",
       "      <td>Software Development</td>\n",
       "    </tr>\n",
       "    <tr>\n",
       "      <th>10</th>\n",
       "      <td>Software Development M3</td>\n",
       "      <td>0.787879</td>\n",
       "      <td>0.151515</td>\n",
       "      <td>0.060606</td>\n",
       "      <td>0.000000</td>\n",
       "      <td>Software Development</td>\n",
       "    </tr>\n",
       "    <tr>\n",
       "      <th>11</th>\n",
       "      <td>Software Development M4</td>\n",
       "      <td>0.576923</td>\n",
       "      <td>0.423077</td>\n",
       "      <td>0.000000</td>\n",
       "      <td>0.000000</td>\n",
       "      <td>Software Development</td>\n",
       "    </tr>\n",
       "    <tr>\n",
       "      <th>12</th>\n",
       "      <td>Quality Assurance M1</td>\n",
       "      <td>1.000000</td>\n",
       "      <td>0.000000</td>\n",
       "      <td>0.000000</td>\n",
       "      <td>0.000000</td>\n",
       "      <td>Quality Assurance</td>\n",
       "    </tr>\n",
       "    <tr>\n",
       "      <th>13</th>\n",
       "      <td>Quality Assurance M2</td>\n",
       "      <td>1.000000</td>\n",
       "      <td>0.000000</td>\n",
       "      <td>0.000000</td>\n",
       "      <td>0.000000</td>\n",
       "      <td>Quality Assurance</td>\n",
       "    </tr>\n",
       "    <tr>\n",
       "      <th>14</th>\n",
       "      <td>Quality Assurance M3</td>\n",
       "      <td>1.000000</td>\n",
       "      <td>0.000000</td>\n",
       "      <td>0.000000</td>\n",
       "      <td>0.000000</td>\n",
       "      <td>Quality Assurance</td>\n",
       "    </tr>\n",
       "    <tr>\n",
       "      <th>15</th>\n",
       "      <td>Quality Assurance M4</td>\n",
       "      <td>1.000000</td>\n",
       "      <td>0.000000</td>\n",
       "      <td>0.000000</td>\n",
       "      <td>0.000000</td>\n",
       "      <td>Quality Assurance</td>\n",
       "    </tr>\n",
       "    <tr>\n",
       "      <th>16</th>\n",
       "      <td>User Experience M1</td>\n",
       "      <td>0.500000</td>\n",
       "      <td>0.500000</td>\n",
       "      <td>0.000000</td>\n",
       "      <td>0.000000</td>\n",
       "      <td>User Experience</td>\n",
       "    </tr>\n",
       "    <tr>\n",
       "      <th>17</th>\n",
       "      <td>User Experience M2</td>\n",
       "      <td>1.000000</td>\n",
       "      <td>0.000000</td>\n",
       "      <td>0.000000</td>\n",
       "      <td>0.000000</td>\n",
       "      <td>User Experience</td>\n",
       "    </tr>\n",
       "    <tr>\n",
       "      <th>18</th>\n",
       "      <td>User Experience M3</td>\n",
       "      <td>1.000000</td>\n",
       "      <td>0.000000</td>\n",
       "      <td>0.000000</td>\n",
       "      <td>0.000000</td>\n",
       "      <td>User Experience</td>\n",
       "    </tr>\n",
       "    <tr>\n",
       "      <th>19</th>\n",
       "      <td>User Experience M4</td>\n",
       "      <td>1.000000</td>\n",
       "      <td>0.000000</td>\n",
       "      <td>0.000000</td>\n",
       "      <td>0.000000</td>\n",
       "      <td>User Experience</td>\n",
       "    </tr>\n",
       "  </tbody>\n",
       "</table>\n",
       "</div>"
      ],
      "text/plain": [
       "                     Module  Successfully Completed  Did Not Complete  \\\n",
       "0        Web Development M1                0.791667          0.156250   \n",
       "1        Web Development M2                0.807692          0.153846   \n",
       "2        Web Development M3                0.593750          0.093750   \n",
       "3        Web Development M4                0.675000          0.325000   \n",
       "4          Data Analysis M1                0.777778          0.157407   \n",
       "5          Data Analysis M2                0.604651          0.279070   \n",
       "6          Data Analysis M3                0.634615          0.076923   \n",
       "7          Data Analysis M4                0.575758          0.393939   \n",
       "8   Software Development M1                0.800000          0.181818   \n",
       "9   Software Development M2                0.744186          0.209302   \n",
       "10  Software Development M3                0.787879          0.151515   \n",
       "11  Software Development M4                0.576923          0.423077   \n",
       "12     Quality Assurance M1                1.000000          0.000000   \n",
       "13     Quality Assurance M2                1.000000          0.000000   \n",
       "14     Quality Assurance M3                1.000000          0.000000   \n",
       "15     Quality Assurance M4                1.000000          0.000000   \n",
       "16       User Experience M1                0.500000          0.500000   \n",
       "17       User Experience M2                1.000000          0.000000   \n",
       "18       User Experience M3                1.000000          0.000000   \n",
       "19       User Experience M4                1.000000          0.000000   \n",
       "\n",
       "    Partially Completed        NA               Pathway  \n",
       "0              0.052083  0.000000       Web Development  \n",
       "1              0.038462  0.000000       Web Development  \n",
       "2              0.000000  0.312500       Web Development  \n",
       "3              0.000000  0.000000       Web Development  \n",
       "4              0.064815  0.000000         Data Analysis  \n",
       "5              0.093023  0.023256         Data Analysis  \n",
       "6              0.038462  0.250000         Data Analysis  \n",
       "7              0.030303  0.000000         Data Analysis  \n",
       "8              0.018182  0.000000  Software Development  \n",
       "9              0.046512  0.000000  Software Development  \n",
       "10             0.060606  0.000000  Software Development  \n",
       "11             0.000000  0.000000  Software Development  \n",
       "12             0.000000  0.000000     Quality Assurance  \n",
       "13             0.000000  0.000000     Quality Assurance  \n",
       "14             0.000000  0.000000     Quality Assurance  \n",
       "15             0.000000  0.000000     Quality Assurance  \n",
       "16             0.000000  0.000000       User Experience  \n",
       "17             0.000000  0.000000       User Experience  \n",
       "18             0.000000  0.000000       User Experience  \n",
       "19             0.000000  0.000000       User Experience  "
      ]
     },
     "execution_count": 144,
     "metadata": {},
     "output_type": "execute_result"
    }
   ],
   "source": [
    "Get_completion_percentages(enrollments)"
   ]
  },
  {
   "cell_type": "code",
   "execution_count": 145,
   "id": "98a912ca",
   "metadata": {},
   "outputs": [
    {
     "data": {
      "text/html": [
       "\n",
       "        <iframe\n",
       "            width=\"100%\"\n",
       "            height=\"650\"\n",
       "            src=\"http://127.0.0.1:8053/\"\n",
       "            frameborder=\"0\"\n",
       "            allowfullscreen\n",
       "            \n",
       "        ></iframe>\n",
       "        "
      ],
      "text/plain": [
       "<IPython.lib.display.IFrame at 0x25713ac9040>"
      ]
     },
     "metadata": {},
     "output_type": "display_data"
    }
   ],
   "source": [
    "def Dash_completion_rates_by_path(df: pd.DataFrame) -> Dash: # TODO: fix data structure so visualization doesn't use df\n",
    "    app2 = Dash(__name__)\n",
    "    # Const\n",
    "    completion_df = Get_completion_percentages(df)\n",
    "    options = Get_pathways_name(completion_df)\n",
    "\n",
    "    pathway_color = {\n",
    "        'Software Development': 'green', \n",
    "        'Web Development': 'blue', \n",
    "        'Data Analysis': 'red',\n",
    "        'Quality Assurance': 'yellow', \n",
    "        'User Experience': 'purple'\n",
    "    }\n",
    "\n",
    "    # Display\n",
    "    app2.layout = html.Div([\n",
    "        html.H2('Pathways Completion', style={'text-align': \"center\"}),\n",
    "        html.P('Select pathway:'),\n",
    "        dcc.Dropdown(\n",
    "            id=\"dropdown\",\n",
    "            options=options,\n",
    "            value=options[0],\n",
    "            clearable=False,\n",
    "        ),\n",
    "        dcc.Graph(id=\"graph\")\n",
    "        \n",
    "    ], style={'backgroundColor':'white'})\n",
    "\n",
    "    @app2.callback(\n",
    "        Output(\"graph\", \"figure\"),\n",
    "        Input(\"dropdown\", \"value\"))\n",
    "\n",
    "    # Graph\n",
    "    # TODO: Need to add an extra selection box with the cohorts\n",
    "    def Display_pathway_completion(p):\n",
    "        df = completion_df[completion_df['Pathway'] == p]\n",
    "        fig = px.bar(df, x='Module', y='Successfully Completed')\n",
    "        return fig\n",
    "\n",
    "    return app2\n",
    "\n",
    "Dash_completion_rates_by_path(enrollments).run(debug=True, port=8053)"
   ]
  },
  {
   "cell_type": "code",
   "execution_count": 146,
   "id": "0db624db",
   "metadata": {},
   "outputs": [
    {
     "data": {
      "application/vnd.plotly.v1+json": {
       "config": {
        "plotlyServerURL": "https://plot.ly"
       },
       "data": [
        {
         "hovertemplate": "Module=%{x}<br>Successfully Completed=%{y}<extra></extra>",
         "legendgroup": "",
         "marker": {
          "color": "#636efa",
          "pattern": {
           "shape": ""
          }
         },
         "name": "",
         "orientation": "v",
         "showlegend": false,
         "textposition": "auto",
         "type": "bar",
         "x": [
          "Web Development M1",
          "Web Development M2",
          "Web Development M3",
          "Web Development M4",
          "Data Analysis M1",
          "Data Analysis M2",
          "Data Analysis M3",
          "Data Analysis M4",
          "Software Development M1",
          "Software Development M2",
          "Software Development M3",
          "Software Development M4",
          "Quality Assurance M1",
          "Quality Assurance M2",
          "Quality Assurance M3",
          "Quality Assurance M4",
          "User Experience M1",
          "User Experience M2",
          "User Experience M3",
          "User Experience M4"
         ],
         "xaxis": "x",
         "y": {
          "bdata": "VVVVVVVV6T+KndiJndjpPwAAAAAAAOM/mpmZmZmZ5T85juM4juPoP9aUNWVNWeM/7MRO7MRO5D9tsskmm2ziP5qZmZmZmek/9AV9QV/Q5z822WSTTTbpP2IndmInduI/AAAAAAAA8D8AAAAAAADwPwAAAAAAAPA/AAAAAAAA8D8AAAAAAADgPwAAAAAAAPA/AAAAAAAA8D8AAAAAAADwPw==",
          "dtype": "f8"
         },
         "yaxis": "y"
        }
       ],
       "layout": {
        "barmode": "relative",
        "legend": {
         "tracegroupgap": 0
        },
        "margin": {
         "t": 60
        },
        "template": {
         "data": {
          "bar": [
           {
            "error_x": {
             "color": "#2a3f5f"
            },
            "error_y": {
             "color": "#2a3f5f"
            },
            "marker": {
             "line": {
              "color": "#E5ECF6",
              "width": 0.5
             },
             "pattern": {
              "fillmode": "overlay",
              "size": 10,
              "solidity": 0.2
             }
            },
            "type": "bar"
           }
          ],
          "barpolar": [
           {
            "marker": {
             "line": {
              "color": "#E5ECF6",
              "width": 0.5
             },
             "pattern": {
              "fillmode": "overlay",
              "size": 10,
              "solidity": 0.2
             }
            },
            "type": "barpolar"
           }
          ],
          "carpet": [
           {
            "aaxis": {
             "endlinecolor": "#2a3f5f",
             "gridcolor": "white",
             "linecolor": "white",
             "minorgridcolor": "white",
             "startlinecolor": "#2a3f5f"
            },
            "baxis": {
             "endlinecolor": "#2a3f5f",
             "gridcolor": "white",
             "linecolor": "white",
             "minorgridcolor": "white",
             "startlinecolor": "#2a3f5f"
            },
            "type": "carpet"
           }
          ],
          "choropleth": [
           {
            "colorbar": {
             "outlinewidth": 0,
             "ticks": ""
            },
            "type": "choropleth"
           }
          ],
          "contour": [
           {
            "colorbar": {
             "outlinewidth": 0,
             "ticks": ""
            },
            "colorscale": [
             [
              0,
              "#0d0887"
             ],
             [
              0.1111111111111111,
              "#46039f"
             ],
             [
              0.2222222222222222,
              "#7201a8"
             ],
             [
              0.3333333333333333,
              "#9c179e"
             ],
             [
              0.4444444444444444,
              "#bd3786"
             ],
             [
              0.5555555555555556,
              "#d8576b"
             ],
             [
              0.6666666666666666,
              "#ed7953"
             ],
             [
              0.7777777777777778,
              "#fb9f3a"
             ],
             [
              0.8888888888888888,
              "#fdca26"
             ],
             [
              1,
              "#f0f921"
             ]
            ],
            "type": "contour"
           }
          ],
          "contourcarpet": [
           {
            "colorbar": {
             "outlinewidth": 0,
             "ticks": ""
            },
            "type": "contourcarpet"
           }
          ],
          "heatmap": [
           {
            "colorbar": {
             "outlinewidth": 0,
             "ticks": ""
            },
            "colorscale": [
             [
              0,
              "#0d0887"
             ],
             [
              0.1111111111111111,
              "#46039f"
             ],
             [
              0.2222222222222222,
              "#7201a8"
             ],
             [
              0.3333333333333333,
              "#9c179e"
             ],
             [
              0.4444444444444444,
              "#bd3786"
             ],
             [
              0.5555555555555556,
              "#d8576b"
             ],
             [
              0.6666666666666666,
              "#ed7953"
             ],
             [
              0.7777777777777778,
              "#fb9f3a"
             ],
             [
              0.8888888888888888,
              "#fdca26"
             ],
             [
              1,
              "#f0f921"
             ]
            ],
            "type": "heatmap"
           }
          ],
          "histogram": [
           {
            "marker": {
             "pattern": {
              "fillmode": "overlay",
              "size": 10,
              "solidity": 0.2
             }
            },
            "type": "histogram"
           }
          ],
          "histogram2d": [
           {
            "colorbar": {
             "outlinewidth": 0,
             "ticks": ""
            },
            "colorscale": [
             [
              0,
              "#0d0887"
             ],
             [
              0.1111111111111111,
              "#46039f"
             ],
             [
              0.2222222222222222,
              "#7201a8"
             ],
             [
              0.3333333333333333,
              "#9c179e"
             ],
             [
              0.4444444444444444,
              "#bd3786"
             ],
             [
              0.5555555555555556,
              "#d8576b"
             ],
             [
              0.6666666666666666,
              "#ed7953"
             ],
             [
              0.7777777777777778,
              "#fb9f3a"
             ],
             [
              0.8888888888888888,
              "#fdca26"
             ],
             [
              1,
              "#f0f921"
             ]
            ],
            "type": "histogram2d"
           }
          ],
          "histogram2dcontour": [
           {
            "colorbar": {
             "outlinewidth": 0,
             "ticks": ""
            },
            "colorscale": [
             [
              0,
              "#0d0887"
             ],
             [
              0.1111111111111111,
              "#46039f"
             ],
             [
              0.2222222222222222,
              "#7201a8"
             ],
             [
              0.3333333333333333,
              "#9c179e"
             ],
             [
              0.4444444444444444,
              "#bd3786"
             ],
             [
              0.5555555555555556,
              "#d8576b"
             ],
             [
              0.6666666666666666,
              "#ed7953"
             ],
             [
              0.7777777777777778,
              "#fb9f3a"
             ],
             [
              0.8888888888888888,
              "#fdca26"
             ],
             [
              1,
              "#f0f921"
             ]
            ],
            "type": "histogram2dcontour"
           }
          ],
          "mesh3d": [
           {
            "colorbar": {
             "outlinewidth": 0,
             "ticks": ""
            },
            "type": "mesh3d"
           }
          ],
          "parcoords": [
           {
            "line": {
             "colorbar": {
              "outlinewidth": 0,
              "ticks": ""
             }
            },
            "type": "parcoords"
           }
          ],
          "pie": [
           {
            "automargin": true,
            "type": "pie"
           }
          ],
          "scatter": [
           {
            "fillpattern": {
             "fillmode": "overlay",
             "size": 10,
             "solidity": 0.2
            },
            "type": "scatter"
           }
          ],
          "scatter3d": [
           {
            "line": {
             "colorbar": {
              "outlinewidth": 0,
              "ticks": ""
             }
            },
            "marker": {
             "colorbar": {
              "outlinewidth": 0,
              "ticks": ""
             }
            },
            "type": "scatter3d"
           }
          ],
          "scattercarpet": [
           {
            "marker": {
             "colorbar": {
              "outlinewidth": 0,
              "ticks": ""
             }
            },
            "type": "scattercarpet"
           }
          ],
          "scattergeo": [
           {
            "marker": {
             "colorbar": {
              "outlinewidth": 0,
              "ticks": ""
             }
            },
            "type": "scattergeo"
           }
          ],
          "scattergl": [
           {
            "marker": {
             "colorbar": {
              "outlinewidth": 0,
              "ticks": ""
             }
            },
            "type": "scattergl"
           }
          ],
          "scattermap": [
           {
            "marker": {
             "colorbar": {
              "outlinewidth": 0,
              "ticks": ""
             }
            },
            "type": "scattermap"
           }
          ],
          "scattermapbox": [
           {
            "marker": {
             "colorbar": {
              "outlinewidth": 0,
              "ticks": ""
             }
            },
            "type": "scattermapbox"
           }
          ],
          "scatterpolar": [
           {
            "marker": {
             "colorbar": {
              "outlinewidth": 0,
              "ticks": ""
             }
            },
            "type": "scatterpolar"
           }
          ],
          "scatterpolargl": [
           {
            "marker": {
             "colorbar": {
              "outlinewidth": 0,
              "ticks": ""
             }
            },
            "type": "scatterpolargl"
           }
          ],
          "scatterternary": [
           {
            "marker": {
             "colorbar": {
              "outlinewidth": 0,
              "ticks": ""
             }
            },
            "type": "scatterternary"
           }
          ],
          "surface": [
           {
            "colorbar": {
             "outlinewidth": 0,
             "ticks": ""
            },
            "colorscale": [
             [
              0,
              "#0d0887"
             ],
             [
              0.1111111111111111,
              "#46039f"
             ],
             [
              0.2222222222222222,
              "#7201a8"
             ],
             [
              0.3333333333333333,
              "#9c179e"
             ],
             [
              0.4444444444444444,
              "#bd3786"
             ],
             [
              0.5555555555555556,
              "#d8576b"
             ],
             [
              0.6666666666666666,
              "#ed7953"
             ],
             [
              0.7777777777777778,
              "#fb9f3a"
             ],
             [
              0.8888888888888888,
              "#fdca26"
             ],
             [
              1,
              "#f0f921"
             ]
            ],
            "type": "surface"
           }
          ],
          "table": [
           {
            "cells": {
             "fill": {
              "color": "#EBF0F8"
             },
             "line": {
              "color": "white"
             }
            },
            "header": {
             "fill": {
              "color": "#C8D4E3"
             },
             "line": {
              "color": "white"
             }
            },
            "type": "table"
           }
          ]
         },
         "layout": {
          "annotationdefaults": {
           "arrowcolor": "#2a3f5f",
           "arrowhead": 0,
           "arrowwidth": 1
          },
          "autotypenumbers": "strict",
          "coloraxis": {
           "colorbar": {
            "outlinewidth": 0,
            "ticks": ""
           }
          },
          "colorscale": {
           "diverging": [
            [
             0,
             "#8e0152"
            ],
            [
             0.1,
             "#c51b7d"
            ],
            [
             0.2,
             "#de77ae"
            ],
            [
             0.3,
             "#f1b6da"
            ],
            [
             0.4,
             "#fde0ef"
            ],
            [
             0.5,
             "#f7f7f7"
            ],
            [
             0.6,
             "#e6f5d0"
            ],
            [
             0.7,
             "#b8e186"
            ],
            [
             0.8,
             "#7fbc41"
            ],
            [
             0.9,
             "#4d9221"
            ],
            [
             1,
             "#276419"
            ]
           ],
           "sequential": [
            [
             0,
             "#0d0887"
            ],
            [
             0.1111111111111111,
             "#46039f"
            ],
            [
             0.2222222222222222,
             "#7201a8"
            ],
            [
             0.3333333333333333,
             "#9c179e"
            ],
            [
             0.4444444444444444,
             "#bd3786"
            ],
            [
             0.5555555555555556,
             "#d8576b"
            ],
            [
             0.6666666666666666,
             "#ed7953"
            ],
            [
             0.7777777777777778,
             "#fb9f3a"
            ],
            [
             0.8888888888888888,
             "#fdca26"
            ],
            [
             1,
             "#f0f921"
            ]
           ],
           "sequentialminus": [
            [
             0,
             "#0d0887"
            ],
            [
             0.1111111111111111,
             "#46039f"
            ],
            [
             0.2222222222222222,
             "#7201a8"
            ],
            [
             0.3333333333333333,
             "#9c179e"
            ],
            [
             0.4444444444444444,
             "#bd3786"
            ],
            [
             0.5555555555555556,
             "#d8576b"
            ],
            [
             0.6666666666666666,
             "#ed7953"
            ],
            [
             0.7777777777777778,
             "#fb9f3a"
            ],
            [
             0.8888888888888888,
             "#fdca26"
            ],
            [
             1,
             "#f0f921"
            ]
           ]
          },
          "colorway": [
           "#636efa",
           "#EF553B",
           "#00cc96",
           "#ab63fa",
           "#FFA15A",
           "#19d3f3",
           "#FF6692",
           "#B6E880",
           "#FF97FF",
           "#FECB52"
          ],
          "font": {
           "color": "#2a3f5f"
          },
          "geo": {
           "bgcolor": "white",
           "lakecolor": "white",
           "landcolor": "#E5ECF6",
           "showlakes": true,
           "showland": true,
           "subunitcolor": "white"
          },
          "hoverlabel": {
           "align": "left"
          },
          "hovermode": "closest",
          "mapbox": {
           "style": "light"
          },
          "paper_bgcolor": "white",
          "plot_bgcolor": "#E5ECF6",
          "polar": {
           "angularaxis": {
            "gridcolor": "white",
            "linecolor": "white",
            "ticks": ""
           },
           "bgcolor": "#E5ECF6",
           "radialaxis": {
            "gridcolor": "white",
            "linecolor": "white",
            "ticks": ""
           }
          },
          "scene": {
           "xaxis": {
            "backgroundcolor": "#E5ECF6",
            "gridcolor": "white",
            "gridwidth": 2,
            "linecolor": "white",
            "showbackground": true,
            "ticks": "",
            "zerolinecolor": "white"
           },
           "yaxis": {
            "backgroundcolor": "#E5ECF6",
            "gridcolor": "white",
            "gridwidth": 2,
            "linecolor": "white",
            "showbackground": true,
            "ticks": "",
            "zerolinecolor": "white"
           },
           "zaxis": {
            "backgroundcolor": "#E5ECF6",
            "gridcolor": "white",
            "gridwidth": 2,
            "linecolor": "white",
            "showbackground": true,
            "ticks": "",
            "zerolinecolor": "white"
           }
          },
          "shapedefaults": {
           "line": {
            "color": "#2a3f5f"
           }
          },
          "ternary": {
           "aaxis": {
            "gridcolor": "white",
            "linecolor": "white",
            "ticks": ""
           },
           "baxis": {
            "gridcolor": "white",
            "linecolor": "white",
            "ticks": ""
           },
           "bgcolor": "#E5ECF6",
           "caxis": {
            "gridcolor": "white",
            "linecolor": "white",
            "ticks": ""
           }
          },
          "title": {
           "x": 0.05
          },
          "xaxis": {
           "automargin": true,
           "gridcolor": "white",
           "linecolor": "white",
           "ticks": "",
           "title": {
            "standoff": 15
           },
           "zerolinecolor": "white",
           "zerolinewidth": 2
          },
          "yaxis": {
           "automargin": true,
           "gridcolor": "white",
           "linecolor": "white",
           "ticks": "",
           "title": {
            "standoff": 15
           },
           "zerolinecolor": "white",
           "zerolinewidth": 2
          }
         }
        },
        "xaxis": {
         "anchor": "y",
         "domain": [
          0,
          1
         ],
         "title": {
          "text": "Module"
         }
        },
        "yaxis": {
         "anchor": "x",
         "domain": [
          0,
          1
         ],
         "title": {
          "text": "Successfully Completed"
         }
        }
       }
      }
     },
     "metadata": {},
     "output_type": "display_data"
    }
   ],
   "source": [
    "# Just testing\n",
    "completion = Get_completion_percentages(enrollments)\n",
    "px.bar(completion, x='Module', y='Successfully Completed').show()"
   ]
  }
 ],
 "metadata": {
  "kernelspec": {
   "display_name": "venv",
   "language": "python",
   "name": "python3"
  },
  "language_info": {
   "codemirror_mode": {
    "name": "ipython",
    "version": 3
   },
   "file_extension": ".py",
   "mimetype": "text/x-python",
   "name": "python",
   "nbconvert_exporter": "python",
   "pygments_lexer": "ipython3",
   "version": "3.12.6"
  }
 },
 "nbformat": 4,
 "nbformat_minor": 5
}
