{
 "cells": [
  {
   "cell_type": "markdown",
   "id": "c73760d6",
   "metadata": {},
   "source": [
    "# Dashboard Historical student data\n",
    "\n",
    "## 1. Most common pathways taken:\n"
   ]
  },
  {
   "cell_type": "code",
   "execution_count": 86,
   "id": "ec855ef5",
   "metadata": {},
   "outputs": [],
   "source": [
    "import pandas as pd\n",
    "import plotly.express as px\n",
    "import plotly.graph_objects as go\n",
    "from dash import Dash, dcc, html, Input, Output"
   ]
  },
  {
   "cell_type": "markdown",
   "id": "49621639",
   "metadata": {},
   "source": [
    "### Data cleaning: (This can be extracted to an object or just create a funciton that is call once and outputs a clean file, while the process is not define I will just add the cleaning functions to this file)"
   ]
  },
  {
   "cell_type": "code",
   "execution_count": 87,
   "id": "bc04972b",
   "metadata": {},
   "outputs": [],
   "source": [
    "# Cleaning and testing function\n",
    "def Enrollments_cleaning(df: pd.DataFrame) -> pd.DataFrame:\n",
    "    # Columns to clean\n",
    "    COLUMNS_TO_DROP = ['Full Name']\n",
    "    result = df.drop(columns=COLUMNS_TO_DROP)\n",
    "\n",
    "    # Fix NaN values\n",
    "    NAN_VALUE_SUBSTITUTE = 'NA'\n",
    "    columns_to_fix = {\n",
    "        'Projected Start Date': NAN_VALUE_SUBSTITUTE, 'Actual Start Date': NAN_VALUE_SUBSTITUTE, 'Projected End Date': NAN_VALUE_SUBSTITUTE,\n",
    "        'Actual End Date': NAN_VALUE_SUBSTITUTE, 'Outcome': NAN_VALUE_SUBSTITUTE, 'ATP Cohort': NAN_VALUE_SUBSTITUTE\n",
    "    }\n",
    "\n",
    "    for column, substitute_value in columns_to_fix.items():\n",
    "        result[column] = result[column].fillna(substitute_value)\n",
    "\n",
    "    # Added the tests inside the cleaning function because it cannot be on a separeted folder structure until testing methods are define\n",
    "    Test_enrollments_cleaning(result)\n",
    "\n",
    "    return result\n",
    "\n",
    "def Test_enrollments_cleaning(clean_df: pd.DataFrame):\n",
    "    # Parameter can be change to an in-function call of the data cleanner with the DF\n",
    "    assert ~clean_df.isna().any().any(), 'The Dataframe has na values.'"
   ]
  },
  {
   "cell_type": "code",
   "execution_count": 88,
   "id": "15b7c4ec",
   "metadata": {},
   "outputs": [
    {
     "data": {
      "application/vnd.microsoft.datawrangler.viewer.v0+json": {
       "columns": [
        {
         "name": "index",
         "rawType": "int64",
         "type": "integer"
        },
        {
         "name": "Auto Id",
         "rawType": "object",
         "type": "string"
        },
        {
         "name": "KY Region",
         "rawType": "object",
         "type": "string"
        },
        {
         "name": "Assessment ID",
         "rawType": "object",
         "type": "string"
        },
        {
         "name": "EnrollmentId",
         "rawType": "object",
         "type": "string"
        },
        {
         "name": "Enrollment Service Name",
         "rawType": "object",
         "type": "string"
        },
        {
         "name": "Service",
         "rawType": "object",
         "type": "string"
        },
        {
         "name": "Projected Start Date",
         "rawType": "object",
         "type": "unknown"
        },
        {
         "name": "Actual Start Date",
         "rawType": "object",
         "type": "unknown"
        },
        {
         "name": "Projected End Date",
         "rawType": "object",
         "type": "unknown"
        },
        {
         "name": "Actual End Date",
         "rawType": "object",
         "type": "unknown"
        },
        {
         "name": "Outcome",
         "rawType": "object",
         "type": "string"
        },
        {
         "name": "ATP Cohort",
         "rawType": "object",
         "type": "unknown"
        }
       ],
       "ref": "fe8d8e5e-67bd-4ba2-8468-2d78bc22e701",
       "rows": [
        [
         "0",
         "202109-5224",
         "SOAR",
         "OA-003348",
         "Enrollment-1386",
         "ES-0011193",
         "Career Readiness Workshop",
         "2021-11-11 00:00:00",
         "NA",
         "NA",
         "NA",
         "NA",
         "NA"
        ],
        [
         "1",
         "202109-5224",
         "SOAR",
         "OA-003348",
         "Enrollment-1386",
         "ES-0013492",
         "Software Development 1",
         "2022-01-05 00:00:00",
         "2022-01-05 00:00:00",
         "2022-04-06 00:00:00",
         "2022-04-06 00:00:00",
         "Successfully Completed",
         "2022-01-01 00:00:00"
        ],
        [
         "2",
         "202109-5224",
         "SOAR",
         "OA-003348",
         "Enrollment-1386",
         "ES-0014187",
         "Career Readiness Workshop",
         "2022-03-07 00:00:00",
         "NA",
         "NA",
         "NA",
         "NA",
         "NA"
        ],
        [
         "3",
         "202109-5224",
         "SOAR",
         "OA-003348",
         "Enrollment-1386",
         "ES-0015022",
         "Software Development 2",
         "2022-05-04 00:00:00",
         "2022-05-04 00:00:00",
         "2022-07-29 00:00:00",
         "2022-07-29 00:00:00",
         "Successfully Completed",
         "2022-05-01 00:00:00"
        ],
        [
         "4",
         "202109-5224",
         "SOAR",
         "OA-003348",
         "Enrollment-1386",
         "ES-0015075",
         "Web Development 1",
         "2021-09-08 00:00:00",
         "2021-09-08 00:00:00",
         "2021-12-14 00:00:00",
         "2021-12-14 00:00:00",
         "Successfully Completed",
         "2021-09-01 00:00:00"
        ],
        [
         "5",
         "202109-5230",
         "SOAR",
         "OA-003352",
         "Enrollment-1389",
         "ES-0015087",
         "Web Development 1",
         "2021-09-08 00:00:00",
         "2021-09-08 00:00:00",
         "2021-12-14 00:00:00",
         "2021-09-28 00:00:00",
         "Did Not Complete",
         "2021-09-01 00:00:00"
        ],
        [
         "6",
         "202109-5233",
         "SOAR",
         "OA-003355",
         "Enrollment-1392",
         "ES-0011185",
         "Career Readiness Workshop",
         "2021-11-11 00:00:00",
         "NA",
         "NA",
         "NA",
         "NA",
         "NA"
        ],
        [
         "7",
         "202109-5233",
         "SOAR",
         "OA-003355",
         "Enrollment-1392",
         "ES-0013525",
         "Web Development 2",
         "2022-01-05 00:00:00",
         "2022-01-05 00:00:00",
         "2022-04-06 00:00:00",
         "2022-04-06 00:00:00",
         "Successfully Completed",
         "2022-01-01 00:00:00"
        ],
        [
         "8",
         "202109-5233",
         "SOAR",
         "OA-003355",
         "Enrollment-1392",
         "ES-0015081",
         "Web Development 1",
         "2021-09-08 00:00:00",
         "2021-09-08 00:00:00",
         "2021-12-14 00:00:00",
         "2021-12-14 00:00:00",
         "Successfully Completed",
         "2021-09-01 00:00:00"
        ],
        [
         "9",
         "202109-5236",
         "SOAR",
         "OA-003358",
         "Enrollment-1395",
         "ES-0015092",
         "Web Development 1",
         "2021-09-08 00:00:00",
         "2021-09-08 00:00:00",
         "2021-12-14 00:00:00",
         "2021-12-01 00:00:00",
         "Did Not Complete",
         "2021-09-01 00:00:00"
        ],
        [
         "10",
         "202109-5237",
         "SOAR",
         "OA-003359",
         "Enrollment-1396",
         "ES-0011212",
         "One-on-one Job Readiness",
         "2021-11-23 00:00:00",
         "NA",
         "NA",
         "NA",
         "NA",
         "NA"
        ],
        [
         "11",
         "202109-5237",
         "SOAR",
         "OA-003359",
         "Enrollment-1396",
         "ES-0015086",
         "Web Development 1",
         "2021-09-08 00:00:00",
         "2021-09-08 00:00:00",
         "2021-12-14 00:00:00",
         "2021-12-01 00:00:00",
         "Did Not Complete",
         "2021-09-01 00:00:00"
        ],
        [
         "12",
         "202109-5237",
         "SOAR",
         "OA-003359",
         "Enrollment-1396",
         "ES-0017175",
         "Data Analysis 1",
         "2023-01-04 00:00:00",
         "NA",
         "NA",
         "2023-03-31 00:00:00",
         "Successfully Completed",
         "2023-01-01 00:00:00"
        ],
        [
         "13",
         "202109-5237",
         "SOAR",
         "OA-003359",
         "Enrollment-1396",
         "ES-0017537",
         "Career Readiness Workshop",
         "2023-02-16 00:00:00",
         "NA",
         "NA",
         "NA",
         "NA",
         "NA"
        ],
        [
         "14",
         "202109-5237",
         "SOAR",
         "OA-003359",
         "Enrollment-1396",
         "ES-0018722",
         "Data Analytics 2",
         "2023-05-09 00:00:00",
         "NA",
         "NA",
         "2023-08-07 00:00:00",
         "Successfully Completed",
         "2023-05-01 00:00:00"
        ],
        [
         "15",
         "202109-5237",
         "SOAR",
         "OA-003359",
         "Enrollment-1396",
         "ES-0023302",
         "One-on-one Job Readiness",
         "2024-06-12 00:00:00",
         "2024-06-12 00:00:00",
         "2024-06-12 00:00:00",
         "2024-06-12 00:00:00",
         "NA",
         "NA"
        ],
        [
         "16",
         "202109-5237",
         "SOAR",
         "OA-003359",
         "Enrollment-1396",
         "ES-0023396",
         "One-on-one Job Readiness",
         "2024-05-23 00:00:00",
         "NA",
         "2024-05-23 00:00:00",
         "NA",
         "NA",
         "NA"
        ],
        [
         "17",
         "202109-5238",
         "SOAR",
         "OA-003360",
         "Enrollment-1398",
         "ES-0015085",
         "Web Development 1",
         "2021-09-08 00:00:00",
         "2021-09-08 00:00:00",
         "2021-12-09 00:00:00",
         "2021-12-09 00:00:00",
         "Did Not Complete",
         "2021-09-01 00:00:00"
        ],
        [
         "18",
         "202109-5239",
         "SOAR",
         "OA-003363",
         "Enrollment-1401",
         "ES-0017159",
         "Web Development 1",
         "2021-09-08 00:00:00",
         "NA",
         "NA",
         "2021-09-23 00:00:00",
         "Did Not Complete",
         "2021-09-01 00:00:00"
        ],
        [
         "19",
         "202109-5243",
         "SOAR",
         "OA-003366",
         "Enrollment-1404",
         "ES-0011221",
         "One-on-one Job Readiness",
         "2021-12-03 00:00:00",
         "2021-12-03 00:00:00",
         "NA",
         "NA",
         "NA",
         "NA"
        ],
        [
         "20",
         "202109-5243",
         "SOAR",
         "OA-003366",
         "Enrollment-1404",
         "ES-0013503",
         "Software Development 1",
         "2022-01-05 00:00:00",
         "2022-01-05 00:00:00",
         "2022-04-06 00:00:00",
         "2022-04-06 00:00:00",
         "Successfully Completed",
         "2022-01-01 00:00:00"
        ],
        [
         "21",
         "202109-5243",
         "SOAR",
         "OA-003366",
         "Enrollment-1404",
         "ES-0014300",
         "One-on-one Job Readiness",
         "2022-03-29 00:00:00",
         "NA",
         "NA",
         "NA",
         "NA",
         "NA"
        ],
        [
         "22",
         "202109-5243",
         "SOAR",
         "OA-003366",
         "Enrollment-1404",
         "ES-0015052",
         "Software Development 2",
         "2022-05-04 00:00:00",
         "2022-05-04 00:00:00",
         "2022-07-29 00:00:00",
         "2022-07-29 00:00:00",
         "Successfully Completed",
         "2022-05-01 00:00:00"
        ],
        [
         "23",
         "202109-5243",
         "SOAR",
         "OA-003366",
         "Enrollment-1404",
         "ES-0015076",
         "Web Development 1",
         "2021-09-08 00:00:00",
         "2021-09-08 00:00:00",
         "2021-12-14 00:00:00",
         "2021-12-14 00:00:00",
         "Successfully Completed",
         "2021-09-01 00:00:00"
        ],
        [
         "24",
         "202109-5243",
         "SOAR",
         "OA-003366",
         "Enrollment-1404",
         "ES-0017237",
         "Data Analysis 1",
         "2022-08-24 00:00:00",
         "NA",
         "NA",
         "2022-11-18 00:00:00",
         "Successfully Completed",
         "2022-09-01 00:00:00"
        ],
        [
         "25",
         "202109-5243",
         "SOAR",
         "OA-003366",
         "Enrollment-1404",
         "ES-0017238",
         "Data Analytics 2",
         "2023-01-04 00:00:00",
         "NA",
         "NA",
         "2023-03-31 00:00:00",
         "Successfully Completed",
         "2023-01-01 00:00:00"
        ],
        [
         "26",
         "202109-5243",
         "SOAR",
         "OA-003366",
         "Enrollment-1404",
         "ES-0018733",
         "Web Development 2",
         "2023-05-11 00:00:00",
         "NA",
         "NA",
         "2023-08-07 00:00:00",
         "Successfully Completed",
         "2023-05-01 00:00:00"
        ],
        [
         "27",
         "202109-5245",
         "SOAR",
         "OA-003367",
         "Enrollment-1405",
         "ES-0011174",
         "Career Readiness Workshop",
         "2021-11-08 00:00:00",
         "NA",
         "NA",
         "NA",
         "NA",
         "NA"
        ],
        [
         "28",
         "202109-5245",
         "SOAR",
         "OA-003367",
         "Enrollment-1405",
         "ES-0013507",
         "Software Development 1",
         "2022-01-05 00:00:00",
         "2022-01-05 00:00:00",
         "2022-05-06 00:00:00",
         "2022-05-06 00:00:00",
         "Successfully Completed",
         "2022-01-01 00:00:00"
        ],
        [
         "29",
         "202109-5245",
         "SOAR",
         "OA-003367",
         "Enrollment-1405",
         "ES-0014268",
         "One-on-one Job Readiness",
         "2022-03-22 00:00:00",
         "NA",
         "NA",
         "NA",
         "NA",
         "NA"
        ],
        [
         "30",
         "202109-5245",
         "SOAR",
         "OA-003367",
         "Enrollment-1405",
         "ES-0015065",
         "Web Development 2",
         "2022-05-04 00:00:00",
         "2022-05-04 00:00:00",
         "2022-07-29 00:00:00",
         "2022-07-29 00:00:00",
         "Did Not Complete",
         "2022-05-01 00:00:00"
        ],
        [
         "31",
         "202109-5245",
         "SOAR",
         "OA-003367",
         "Enrollment-1405",
         "ES-0015080",
         "Web Development 1",
         "2021-09-08 00:00:00",
         "2021-09-08 00:00:00",
         "2021-12-14 00:00:00",
         "2021-12-14 00:00:00",
         "Successfully Completed",
         "2021-09-01 00:00:00"
        ],
        [
         "32",
         "202109-5245",
         "SOAR",
         "OA-003367",
         "Enrollment-1405",
         "ES-0023385",
         "One-on-one Job Readiness",
         "2024-01-29 00:00:00",
         "NA",
         "2024-01-29 00:00:00",
         "NA",
         "NA",
         "NA"
        ],
        [
         "33",
         "202109-5272",
         "SOAR",
         "OA-003395",
         "Enrollment-1434",
         "ES-0011175",
         "Career Readiness Workshop",
         "2021-11-08 00:00:00",
         "NA",
         "NA",
         "NA",
         "NA",
         "NA"
        ],
        [
         "34",
         "202109-5272",
         "SOAR",
         "OA-003395",
         "Enrollment-1434",
         "ES-0013526",
         "Web Development 2",
         "2022-01-05 00:00:00",
         "2022-01-05 00:00:00",
         "2022-04-06 00:00:00",
         "2022-04-06 00:00:00",
         "Successfully Completed",
         "2022-01-01 00:00:00"
        ],
        [
         "35",
         "202109-5272",
         "SOAR",
         "OA-003395",
         "Enrollment-1434",
         "ES-0015078",
         "Web Development 1",
         "2021-09-08 00:00:00",
         "2021-09-08 00:00:00",
         "2021-12-14 00:00:00",
         "2021-12-14 00:00:00",
         "Successfully Completed",
         "2021-09-01 00:00:00"
        ],
        [
         "36",
         "202109-5272",
         "SOAR",
         "OA-003395",
         "Enrollment-1434",
         "ES-0017252",
         "Software Development 1",
         "2022-08-24 00:00:00",
         "NA",
         "NA",
         "2022-10-03 00:00:00",
         "Did Not Complete",
         "2022-09-01 00:00:00"
        ],
        [
         "37",
         "202109-5273",
         "SOAR",
         "OA-003396",
         "Enrollment-1435",
         "ES-0015089",
         "Web Development 1",
         "2021-09-08 00:00:00",
         "2021-09-08 00:00:00",
         "2021-12-14 00:00:00",
         "2021-10-27 00:00:00",
         "Did Not Complete",
         "2021-09-01 00:00:00"
        ],
        [
         "38",
         "202109-5274",
         "SOAR",
         "OA-003397",
         "Enrollment-1608",
         "ES-0011204",
         "Career Readiness Workshop",
         "2021-11-18 00:00:00",
         "NA",
         "NA",
         "NA",
         "NA",
         "NA"
        ],
        [
         "39",
         "202109-5274",
         "SOAR",
         "OA-003397",
         "Enrollment-1608",
         "ES-0013483",
         "Data Analysis 1",
         "2022-01-05 00:00:00",
         "2022-01-05 00:00:00",
         "2022-04-06 00:00:00",
         "2022-04-06 00:00:00",
         "Successfully Completed",
         "2022-01-01 00:00:00"
        ],
        [
         "40",
         "202109-5274",
         "SOAR",
         "OA-003397",
         "Enrollment-1608",
         "ES-0014299",
         "One-on-one Job Readiness",
         "2022-03-29 00:00:00",
         "NA",
         "NA",
         "NA",
         "NA",
         "NA"
        ],
        [
         "41",
         "202109-5274",
         "SOAR",
         "OA-003397",
         "Enrollment-1608",
         "ES-0015047",
         "Data Analytics 2",
         "2022-05-04 00:00:00",
         "2022-05-04 00:00:00",
         "2022-07-29 00:00:00",
         "2022-06-08 00:00:00",
         "Did Not Complete",
         "2022-05-01 00:00:00"
        ],
        [
         "42",
         "202109-5274",
         "SOAR",
         "OA-003397",
         "Enrollment-1608",
         "ES-0015084",
         "Web Development 1",
         "2021-09-08 00:00:00",
         "2021-09-08 00:00:00",
         "2021-12-14 00:00:00",
         "2021-12-14 00:00:00",
         "Successfully Completed",
         "2021-09-01 00:00:00"
        ],
        [
         "43",
         "202109-5275",
         "SOAR",
         "OA-003398",
         "Enrollment-1609",
         "ES-0015088",
         "Web Development 1",
         "2021-09-08 00:00:00",
         "2021-09-08 00:00:00",
         "2021-12-14 00:00:00",
         "2021-10-11 00:00:00",
         "Did Not Complete",
         "2021-09-01 00:00:00"
        ],
        [
         "44",
         "202109-5276",
         "SOAR",
         "OA-003399",
         "Enrollment-1611",
         "ES-0015091",
         "Web Development 1",
         "2021-09-08 00:00:00",
         "2021-09-08 00:00:00",
         "2021-12-14 00:00:00",
         "2021-10-28 00:00:00",
         "Did Not Complete",
         "2021-09-01 00:00:00"
        ],
        [
         "45",
         "202109-5277",
         "SOAR",
         "OA-003400",
         "Enrollment-4425",
         "ES-0011213",
         "One-on-one Job Readiness",
         "2021-11-23 00:00:00",
         "NA",
         "NA",
         "NA",
         "NA",
         "NA"
        ],
        [
         "46",
         "202109-5277",
         "SOAR",
         "OA-003400",
         "Enrollment-4425",
         "ES-0013995",
         "Software Development 1",
         "2022-01-05 00:00:00",
         "2022-01-05 00:00:00",
         "2022-04-06 00:00:00",
         "2022-07-29 00:00:00",
         "Successfully Completed",
         "2022-01-01 00:00:00"
        ],
        [
         "47",
         "202109-5277",
         "SOAR",
         "OA-003400",
         "Enrollment-4425",
         "ES-0014191",
         "Career Readiness Workshop",
         "2022-03-07 00:00:00",
         "NA",
         "NA",
         "NA",
         "NA",
         "NA"
        ],
        [
         "48",
         "202109-5277",
         "SOAR",
         "OA-003400",
         "Enrollment-4425",
         "ES-0015050",
         "Software Development 2",
         "2022-05-04 00:00:00",
         "2022-05-04 00:00:00",
         "2022-07-29 00:00:00",
         "2022-07-29 00:00:00",
         "Successfully Completed",
         "2022-05-01 00:00:00"
        ],
        [
         "49",
         "202109-5277",
         "SOAR",
         "OA-003400",
         "Enrollment-4425",
         "ES-0015074",
         "Web Development 1",
         "2021-09-08 00:00:00",
         "2021-09-08 00:00:00",
         "2021-12-14 00:00:00",
         "2021-12-14 00:00:00",
         "Successfully Completed",
         "2021-09-01 00:00:00"
        ]
       ],
       "shape": {
        "columns": 12,
        "rows": 2033
       }
      },
      "text/html": [
       "<div>\n",
       "<style scoped>\n",
       "    .dataframe tbody tr th:only-of-type {\n",
       "        vertical-align: middle;\n",
       "    }\n",
       "\n",
       "    .dataframe tbody tr th {\n",
       "        vertical-align: top;\n",
       "    }\n",
       "\n",
       "    .dataframe thead th {\n",
       "        text-align: right;\n",
       "    }\n",
       "</style>\n",
       "<table border=\"1\" class=\"dataframe\">\n",
       "  <thead>\n",
       "    <tr style=\"text-align: right;\">\n",
       "      <th></th>\n",
       "      <th>Auto Id</th>\n",
       "      <th>KY Region</th>\n",
       "      <th>Assessment ID</th>\n",
       "      <th>EnrollmentId</th>\n",
       "      <th>Enrollment Service Name</th>\n",
       "      <th>Service</th>\n",
       "      <th>Projected Start Date</th>\n",
       "      <th>Actual Start Date</th>\n",
       "      <th>Projected End Date</th>\n",
       "      <th>Actual End Date</th>\n",
       "      <th>Outcome</th>\n",
       "      <th>ATP Cohort</th>\n",
       "    </tr>\n",
       "  </thead>\n",
       "  <tbody>\n",
       "    <tr>\n",
       "      <th>0</th>\n",
       "      <td>202109-5224</td>\n",
       "      <td>SOAR</td>\n",
       "      <td>OA-003348</td>\n",
       "      <td>Enrollment-1386</td>\n",
       "      <td>ES-0011193</td>\n",
       "      <td>Career Readiness Workshop</td>\n",
       "      <td>2021-11-11 00:00:00</td>\n",
       "      <td>NA</td>\n",
       "      <td>NA</td>\n",
       "      <td>NA</td>\n",
       "      <td>NA</td>\n",
       "      <td>NA</td>\n",
       "    </tr>\n",
       "    <tr>\n",
       "      <th>1</th>\n",
       "      <td>202109-5224</td>\n",
       "      <td>SOAR</td>\n",
       "      <td>OA-003348</td>\n",
       "      <td>Enrollment-1386</td>\n",
       "      <td>ES-0013492</td>\n",
       "      <td>Software Development 1</td>\n",
       "      <td>2022-01-05 00:00:00</td>\n",
       "      <td>2022-01-05 00:00:00</td>\n",
       "      <td>2022-04-06 00:00:00</td>\n",
       "      <td>2022-04-06 00:00:00</td>\n",
       "      <td>Successfully Completed</td>\n",
       "      <td>2022-01-01 00:00:00</td>\n",
       "    </tr>\n",
       "    <tr>\n",
       "      <th>2</th>\n",
       "      <td>202109-5224</td>\n",
       "      <td>SOAR</td>\n",
       "      <td>OA-003348</td>\n",
       "      <td>Enrollment-1386</td>\n",
       "      <td>ES-0014187</td>\n",
       "      <td>Career Readiness Workshop</td>\n",
       "      <td>2022-03-07 00:00:00</td>\n",
       "      <td>NA</td>\n",
       "      <td>NA</td>\n",
       "      <td>NA</td>\n",
       "      <td>NA</td>\n",
       "      <td>NA</td>\n",
       "    </tr>\n",
       "    <tr>\n",
       "      <th>3</th>\n",
       "      <td>202109-5224</td>\n",
       "      <td>SOAR</td>\n",
       "      <td>OA-003348</td>\n",
       "      <td>Enrollment-1386</td>\n",
       "      <td>ES-0015022</td>\n",
       "      <td>Software Development 2</td>\n",
       "      <td>2022-05-04 00:00:00</td>\n",
       "      <td>2022-05-04 00:00:00</td>\n",
       "      <td>2022-07-29 00:00:00</td>\n",
       "      <td>2022-07-29 00:00:00</td>\n",
       "      <td>Successfully Completed</td>\n",
       "      <td>2022-05-01 00:00:00</td>\n",
       "    </tr>\n",
       "    <tr>\n",
       "      <th>4</th>\n",
       "      <td>202109-5224</td>\n",
       "      <td>SOAR</td>\n",
       "      <td>OA-003348</td>\n",
       "      <td>Enrollment-1386</td>\n",
       "      <td>ES-0015075</td>\n",
       "      <td>Web Development 1</td>\n",
       "      <td>2021-09-08 00:00:00</td>\n",
       "      <td>2021-09-08 00:00:00</td>\n",
       "      <td>2021-12-14 00:00:00</td>\n",
       "      <td>2021-12-14 00:00:00</td>\n",
       "      <td>Successfully Completed</td>\n",
       "      <td>2021-09-01 00:00:00</td>\n",
       "    </tr>\n",
       "    <tr>\n",
       "      <th>...</th>\n",
       "      <td>...</td>\n",
       "      <td>...</td>\n",
       "      <td>...</td>\n",
       "      <td>...</td>\n",
       "      <td>...</td>\n",
       "      <td>...</td>\n",
       "      <td>...</td>\n",
       "      <td>...</td>\n",
       "      <td>...</td>\n",
       "      <td>...</td>\n",
       "      <td>...</td>\n",
       "      <td>...</td>\n",
       "    </tr>\n",
       "    <tr>\n",
       "      <th>2028</th>\n",
       "      <td>202504-21723</td>\n",
       "      <td>SOAR</td>\n",
       "      <td>OA-022760</td>\n",
       "      <td>Enrollment-14196</td>\n",
       "      <td>ES-0035149</td>\n",
       "      <td>Intro to Programming Core</td>\n",
       "      <td>2025-05-12 00:00:00</td>\n",
       "      <td>2025-05-12 00:00:00</td>\n",
       "      <td>2025-06-27 00:00:00</td>\n",
       "      <td>NA</td>\n",
       "      <td>NA</td>\n",
       "      <td>2025-05-01 00:00:00</td>\n",
       "    </tr>\n",
       "    <tr>\n",
       "      <th>2029</th>\n",
       "      <td>202505-22788</td>\n",
       "      <td>SOAR</td>\n",
       "      <td>OA-023710</td>\n",
       "      <td>Enrollment-14213</td>\n",
       "      <td>ES-0035212</td>\n",
       "      <td>Intro to Programming Core</td>\n",
       "      <td>2025-05-14 00:00:00</td>\n",
       "      <td>2025-05-13 00:00:00</td>\n",
       "      <td>2025-06-17 00:00:00</td>\n",
       "      <td>NA</td>\n",
       "      <td>NA</td>\n",
       "      <td>2025-05-01 00:00:00</td>\n",
       "    </tr>\n",
       "    <tr>\n",
       "      <th>2030</th>\n",
       "      <td>202408-16568</td>\n",
       "      <td>SOAR</td>\n",
       "      <td>OA-017961</td>\n",
       "      <td>Enrollment-14833</td>\n",
       "      <td>ES-0036429</td>\n",
       "      <td>Intro to Programming Core</td>\n",
       "      <td>2025-05-12 00:00:00</td>\n",
       "      <td>NA</td>\n",
       "      <td>NA</td>\n",
       "      <td>NA</td>\n",
       "      <td>Did Not Complete</td>\n",
       "      <td>2025-05-01 00:00:00</td>\n",
       "    </tr>\n",
       "    <tr>\n",
       "      <th>2031</th>\n",
       "      <td>202408-16568</td>\n",
       "      <td>SOAR</td>\n",
       "      <td>OA-017961</td>\n",
       "      <td>Enrollment-14833</td>\n",
       "      <td>ES-0036430</td>\n",
       "      <td>Supportive Services Referral</td>\n",
       "      <td>NA</td>\n",
       "      <td>NA</td>\n",
       "      <td>NA</td>\n",
       "      <td>NA</td>\n",
       "      <td>NA</td>\n",
       "      <td>NA</td>\n",
       "    </tr>\n",
       "    <tr>\n",
       "      <th>2032</th>\n",
       "      <td>202503-21420</td>\n",
       "      <td>SOAR</td>\n",
       "      <td>OA-022426</td>\n",
       "      <td>Enrollment-15195</td>\n",
       "      <td>ES-0038953</td>\n",
       "      <td>Intro to Programming Core</td>\n",
       "      <td>2025-05-12 00:00:00</td>\n",
       "      <td>NA</td>\n",
       "      <td>2025-06-27 00:00:00</td>\n",
       "      <td>NA</td>\n",
       "      <td>NA</td>\n",
       "      <td>2025-05-01 00:00:00</td>\n",
       "    </tr>\n",
       "  </tbody>\n",
       "</table>\n",
       "<p>2033 rows × 12 columns</p>\n",
       "</div>"
      ],
      "text/plain": [
       "           Auto Id KY Region Assessment ID      EnrollmentId  \\\n",
       "0      202109-5224      SOAR     OA-003348   Enrollment-1386   \n",
       "1      202109-5224      SOAR     OA-003348   Enrollment-1386   \n",
       "2      202109-5224      SOAR     OA-003348   Enrollment-1386   \n",
       "3      202109-5224      SOAR     OA-003348   Enrollment-1386   \n",
       "4      202109-5224      SOAR     OA-003348   Enrollment-1386   \n",
       "...            ...       ...           ...               ...   \n",
       "2028  202504-21723      SOAR     OA-022760  Enrollment-14196   \n",
       "2029  202505-22788      SOAR     OA-023710  Enrollment-14213   \n",
       "2030  202408-16568      SOAR     OA-017961  Enrollment-14833   \n",
       "2031  202408-16568      SOAR     OA-017961  Enrollment-14833   \n",
       "2032  202503-21420      SOAR     OA-022426  Enrollment-15195   \n",
       "\n",
       "     Enrollment Service Name                       Service  \\\n",
       "0                 ES-0011193     Career Readiness Workshop   \n",
       "1                 ES-0013492        Software Development 1   \n",
       "2                 ES-0014187     Career Readiness Workshop   \n",
       "3                 ES-0015022        Software Development 2   \n",
       "4                 ES-0015075             Web Development 1   \n",
       "...                      ...                           ...   \n",
       "2028              ES-0035149     Intro to Programming Core   \n",
       "2029              ES-0035212     Intro to Programming Core   \n",
       "2030              ES-0036429     Intro to Programming Core   \n",
       "2031              ES-0036430  Supportive Services Referral   \n",
       "2032              ES-0038953     Intro to Programming Core   \n",
       "\n",
       "     Projected Start Date    Actual Start Date   Projected End Date  \\\n",
       "0     2021-11-11 00:00:00                   NA                   NA   \n",
       "1     2022-01-05 00:00:00  2022-01-05 00:00:00  2022-04-06 00:00:00   \n",
       "2     2022-03-07 00:00:00                   NA                   NA   \n",
       "3     2022-05-04 00:00:00  2022-05-04 00:00:00  2022-07-29 00:00:00   \n",
       "4     2021-09-08 00:00:00  2021-09-08 00:00:00  2021-12-14 00:00:00   \n",
       "...                   ...                  ...                  ...   \n",
       "2028  2025-05-12 00:00:00  2025-05-12 00:00:00  2025-06-27 00:00:00   \n",
       "2029  2025-05-14 00:00:00  2025-05-13 00:00:00  2025-06-17 00:00:00   \n",
       "2030  2025-05-12 00:00:00                   NA                   NA   \n",
       "2031                   NA                   NA                   NA   \n",
       "2032  2025-05-12 00:00:00                   NA  2025-06-27 00:00:00   \n",
       "\n",
       "          Actual End Date                 Outcome           ATP Cohort  \n",
       "0                      NA                      NA                   NA  \n",
       "1     2022-04-06 00:00:00  Successfully Completed  2022-01-01 00:00:00  \n",
       "2                      NA                      NA                   NA  \n",
       "3     2022-07-29 00:00:00  Successfully Completed  2022-05-01 00:00:00  \n",
       "4     2021-12-14 00:00:00  Successfully Completed  2021-09-01 00:00:00  \n",
       "...                   ...                     ...                  ...  \n",
       "2028                   NA                      NA  2025-05-01 00:00:00  \n",
       "2029                   NA                      NA  2025-05-01 00:00:00  \n",
       "2030                   NA        Did Not Complete  2025-05-01 00:00:00  \n",
       "2031                   NA                      NA                   NA  \n",
       "2032                   NA                      NA  2025-05-01 00:00:00  \n",
       "\n",
       "[2033 rows x 12 columns]"
      ]
     },
     "execution_count": 88,
     "metadata": {},
     "output_type": "execute_result"
    }
   ],
   "source": [
    "enrollments = pd.read_excel('Data\\\\Raw\\\\ARC Enrollments.xlsx')\n",
    "enrollments = Enrollments_cleaning(enrollments)\n",
    "enrollments"
   ]
  },
  {
   "cell_type": "markdown",
   "id": "8c9d2634",
   "metadata": {},
   "source": [
    "### 1.1 Most common path by period\n",
    "- Periods are going to be define by ATP Cohort"
   ]
  },
  {
   "cell_type": "code",
   "execution_count": 89,
   "id": "0773f9b7",
   "metadata": {},
   "outputs": [],
   "source": [
    "# Starter pathways are the only path that have to be taken into consideration for each period student pathway choosing\n",
    "# TODO: maybe make them generate automatically \n",
    "Starter_pathways = [\n",
    "    'Software Development 1', \n",
    "    'Web Development 1', \n",
    "    'Data Analysis 1',\n",
    "    'Web Development M1',\n",
    "    'Data Analysis M1', \n",
    "    'Software Development M1',\n",
    "    'Quality Assurance M1', \n",
    "    'User Experience M1',\n",
    "]"
   ]
  },
  {
   "cell_type": "code",
   "execution_count": 90,
   "id": "c4902e7d",
   "metadata": {},
   "outputs": [
    {
     "data": {
      "application/vnd.microsoft.datawrangler.viewer.v0+json": {
       "columns": [
        {
         "name": "Service",
         "rawType": "object",
         "type": "string"
        },
        {
         "name": "count",
         "rawType": "int64",
         "type": "integer"
        }
       ],
       "ref": "4b783bd9-3580-4316-b4ef-e79e0f73a9b2",
       "rows": [
        [
         "Career Readiness Workshop",
         "224"
        ],
        [
         "One-on-one Job Readiness",
         "87"
        ],
        [
         "Remote Jobs Workshop (EDA Grant)",
         "30"
        ],
        [
         "Referral to External Service",
         "20"
        ],
        [
         "Supportive Services Referral",
         "20"
        ],
        [
         "Tech Communications Workshop",
         "20"
        ],
        [
         "Employer Event (Code:You)",
         "14"
        ],
        [
         "Demo Day Participant",
         "12"
        ],
        [
         "Remote Jobs Workshop (non EDA)",
         "8"
        ],
        [
         "Technical Project Management",
         "6"
        ],
        [
         "Resume Review and Optimization",
         "6"
        ],
        [
         "Interview Guidance and Practice",
         "5"
        ],
        [
         "Data Analysis M4",
         "2"
        ],
        [
         "Web Development M4",
         "2"
        ],
        [
         "Revised Resume Review",
         "2"
        ],
        [
         "Software Development M4",
         "1"
        ],
        [
         "Web Development 1",
         "1"
        ]
       ],
       "shape": {
        "columns": 1,
        "rows": 17
       }
      },
      "text/plain": [
       "Service\n",
       "Career Readiness Workshop           224\n",
       "One-on-one Job Readiness             87\n",
       "Remote Jobs Workshop (EDA Grant)     30\n",
       "Referral to External Service         20\n",
       "Supportive Services Referral         20\n",
       "Tech Communications Workshop         20\n",
       "Employer Event (Code:You)            14\n",
       "Demo Day Participant                 12\n",
       "Remote Jobs Workshop (non EDA)        8\n",
       "Technical Project Management          6\n",
       "Resume Review and Optimization        6\n",
       "Interview Guidance and Practice       5\n",
       "Data Analysis M4                      2\n",
       "Web Development M4                    2\n",
       "Revised Resume Review                 2\n",
       "Software Development M4               1\n",
       "Web Development 1                     1\n",
       "Name: count, dtype: int64"
      ]
     },
     "execution_count": 90,
     "metadata": {},
     "output_type": "execute_result"
    }
   ],
   "source": [
    "# What are the NA values in 'ATP Cohort'?\n",
    "enrollments[enrollments['ATP Cohort'] == 'NA'].value_counts('Service')\n",
    "\n",
    "# looks like pathways are not represented in ATP Cohort NA Values (Probably has more to do with support entries)\n",
    "# only 6 of the 460 ATP cohort 'NA' values are pathways"
   ]
  },
  {
   "cell_type": "code",
   "execution_count": 91,
   "id": "ba47a304",
   "metadata": {},
   "outputs": [
    {
     "data": {
      "text/plain": [
       "['All cohorts',\n",
       " Timestamp('2022-01-01 00:00:00'),\n",
       " Timestamp('2022-05-01 00:00:00'),\n",
       " Timestamp('2021-09-01 00:00:00'),\n",
       " Timestamp('2023-01-01 00:00:00'),\n",
       " Timestamp('2023-05-01 00:00:00'),\n",
       " Timestamp('2022-09-01 00:00:00'),\n",
       " Timestamp('2024-05-01 00:00:00'),\n",
       " Timestamp('2024-08-01 00:00:00'),\n",
       " Timestamp('2023-08-01 00:00:00'),\n",
       " Timestamp('2024-01-01 00:00:00'),\n",
       " Timestamp('2025-01-01 00:00:00'),\n",
       " Timestamp('2025-05-01 00:00:00')]"
      ]
     },
     "execution_count": 91,
     "metadata": {},
     "output_type": "execute_result"
    }
   ],
   "source": [
    "cohorts = list(enrollments['ATP Cohort'].unique())\n",
    "cohorts.remove('NA')\n",
    "cohorts.insert(0, 'All cohorts')\n",
    "cohorts"
   ]
  },
  {
   "cell_type": "code",
   "execution_count": 92,
   "id": "beb37448",
   "metadata": {},
   "outputs": [],
   "source": [
    "mask_starter_pathways = enrollments['Service'].isin(Starter_pathways)\n",
    "starter_only_enrollments = enrollments[mask_starter_pathways]"
   ]
  },
  {
   "cell_type": "code",
   "execution_count": 93,
   "id": "5436f5e6",
   "metadata": {},
   "outputs": [
    {
     "data": {
      "text/html": [
       "\n",
       "        <iframe\n",
       "            width=\"100%\"\n",
       "            height=\"650\"\n",
       "            src=\"http://127.0.0.1:8052/\"\n",
       "            frameborder=\"0\"\n",
       "            allowfullscreen\n",
       "            \n",
       "        ></iframe>\n",
       "        "
      ],
      "text/plain": [
       "<IPython.lib.display.IFrame at 0x20cd45feb70>"
      ]
     },
     "metadata": {},
     "output_type": "display_data"
    }
   ],
   "source": [
    "app = Dash(__name__)\n",
    "# Const\n",
    "options = cohorts\n",
    "pathway_color = {\n",
    "    'Software Development 1': 'green', \n",
    "    'Web Development 1': 'blue', \n",
    "    'Data Analysis 1': 'red',\n",
    "    'Web Development M1': 'blue',\n",
    "    'Data Analysis M1': 'red', \n",
    "    'Software Development M1': 'green',\n",
    "    'Quality Assurance M1': 'yellow', \n",
    "    'User Experience M1': 'purple'\n",
    "}\n",
    "\n",
    "# Display\n",
    "app.layout = html.Div([\n",
    "    html.H2('Cohorts', style={'text-align': \"center\"}),\n",
    "    html.P('Select Cohort:'),\n",
    "    dcc.Dropdown(\n",
    "        id=\"dropdown\",\n",
    "        options=options,\n",
    "        value=options[0],\n",
    "        clearable=False,\n",
    "    ),\n",
    "    dcc.Graph(id=\"graph\")\n",
    "    \n",
    "], style={'backgroundColor':'white'})\n",
    "\n",
    "@app.callback(\n",
    "    Output(\"graph\", \"figure\"),\n",
    "    Input(\"dropdown\", \"value\"))\n",
    "\n",
    "# Graph\n",
    "def tt(time):\n",
    "    # TODO: Separate the \n",
    "    if time == 'All cohorts':\n",
    "        df = starter_only_enrollments.value_counts('Service').reset_index()\n",
    "    else:\n",
    "        df = starter_only_enrollments[starter_only_enrollments['ATP Cohort'] == pd.Timestamp(time)].value_counts('Service').reset_index()\n",
    "\n",
    "    df['color'] = df['Service'].map(pathway_color)\n",
    "    fig = px.pie(df, names='Service', values='count', color='Service', color_discrete_map=pathway_color)\n",
    "    return fig\n",
    "\n",
    "app.run(debug=True, port=8052)\n",
    "\n",
    "# TODO: Add number of students per each cohort \n",
    "# TODO: Fix the options on the selection \n",
    "# TODO: make colors better"
   ]
  },
  {
   "cell_type": "markdown",
   "id": "16f9f9a6",
   "metadata": {},
   "source": [
    "### 2. Completion rates"
   ]
  },
  {
   "cell_type": "markdown",
   "id": "af3ada51",
   "metadata": {},
   "source": [
    "### 2.1 completion rate by path"
   ]
  },
  {
   "cell_type": "code",
   "execution_count": 94,
   "id": "1504a061",
   "metadata": {},
   "outputs": [],
   "source": [
    "pathways = [\n",
    "    'Software Development 1', \n",
    "    'Software Development 2', \n",
    "    'Web Development 1', \n",
    "    'Web Development 2', \n",
    "    'Data Analysis 1',\n",
    "    'Data Analytics 2',\n",
    "    'Web Development M1',\n",
    "    'Web Development M2',\n",
    "    'Web Development M3',\n",
    "    'Web Development M4',\n",
    "    'Data Analysis M1', \n",
    "    'Data Analysis M2',\n",
    "    'Data Analysis M3',\n",
    "    'Data Analysis M4', \n",
    "    'Software Development M1',\n",
    "    'Software Development M2',\n",
    "    'Software Development M3',\n",
    "    'Software Development M4',\n",
    "    'Quality Assurance M1', \n",
    "    'Quality Assurance M2',\n",
    "    'Quality Assurance M3', \n",
    "    'Quality Assurance M4', \n",
    "    'User Experience M1', \n",
    "    'User Experience M2',\n",
    "    'User Experience M3', \n",
    "    'User Experience M4',\n",
    "]"
   ]
  },
  {
   "cell_type": "code",
   "execution_count": 95,
   "id": "930b4918",
   "metadata": {},
   "outputs": [
    {
     "data": {
      "application/vnd.microsoft.datawrangler.viewer.v0+json": {
       "columns": [
        {
         "name": "index",
         "rawType": "int64",
         "type": "integer"
        },
        {
         "name": "Module",
         "rawType": "object",
         "type": "string"
        },
        {
         "name": "Did Not Complete",
         "rawType": "float64",
         "type": "float"
        },
        {
         "name": "Successfully Completed",
         "rawType": "float64",
         "type": "float"
        },
        {
         "name": "Partially Completed",
         "rawType": "float64",
         "type": "float"
        },
        {
         "name": "NA",
         "rawType": "float64",
         "type": "float"
        },
        {
         "name": "Pathway",
         "rawType": "object",
         "type": "string"
        }
       ],
       "ref": "57c0c2ac-16b7-4b73-9fac-5eda16cda1fd",
       "rows": [
        [
         "0",
         "Software Development 1",
         "0.5694444444444444",
         "0.4305555555555556",
         "0.0",
         "0.0",
         "Software Development"
        ],
        [
         "1",
         "Software Development 2",
         "0.47058823529411764",
         "0.5294117647058824",
         "0.0",
         "0.0",
         "Software Development"
        ],
        [
         "2",
         "Web Development 1",
         "0.5277777777777778",
         "0.4722222222222222",
         "0.0",
         "0.0",
         "Web Development"
        ],
        [
         "3",
         "Web Development 2",
         "0.4666666666666667",
         "0.5333333333333333",
         "0.0",
         "0.0",
         "Web Development"
        ],
        [
         "4",
         "Data Analysis 1",
         "0.6666666666666666",
         "0.3333333333333333",
         "0.0",
         "0.0",
         "Data Analysis"
        ],
        [
         "5",
         "Data Analytics 2",
         "0.35294117647058826",
         "0.6470588235294118",
         "0.0",
         "0.0",
         "Data Analytics"
        ],
        [
         "6",
         "Web Development M1",
         "0.15625",
         "0.7916666666666666",
         "0.052083333333333336",
         "0.0",
         "Web Development"
        ],
        [
         "7",
         "Web Development M2",
         "0.15384615384615385",
         "0.8076923076923077",
         "0.038461538461538464",
         "0.0",
         "Web Development"
        ],
        [
         "8",
         "Web Development M3",
         "0.09375",
         "0.59375",
         "0.0",
         "0.3125",
         "Web Development"
        ],
        [
         "9",
         "Web Development M4",
         "0.325",
         "0.675",
         "0.0",
         "0.0",
         "Web Development"
        ],
        [
         "10",
         "Data Analysis M1",
         "0.1574074074074074",
         "0.7777777777777778",
         "0.06481481481481481",
         "0.0",
         "Data Analysis"
        ],
        [
         "11",
         "Data Analysis M2",
         "0.27906976744186046",
         "0.6046511627906976",
         "0.09302325581395349",
         "0.023255813953488372",
         "Data Analysis"
        ],
        [
         "12",
         "Data Analysis M3",
         "0.07692307692307693",
         "0.6346153846153846",
         "0.038461538461538464",
         "0.25",
         "Data Analysis"
        ],
        [
         "13",
         "Data Analysis M4",
         "0.3939393939393939",
         "0.5757575757575758",
         "0.030303030303030304",
         "0.0",
         "Data Analysis"
        ],
        [
         "14",
         "Software Development M1",
         "0.18181818181818182",
         "0.8",
         "0.01818181818181818",
         "0.0",
         "Software Development"
        ],
        [
         "15",
         "Software Development M2",
         "0.20930232558139536",
         "0.7441860465116279",
         "0.046511627906976744",
         "0.0",
         "Software Development"
        ],
        [
         "16",
         "Software Development M3",
         "0.15151515151515152",
         "0.7878787878787878",
         "0.06060606060606061",
         "0.0",
         "Software Development"
        ],
        [
         "17",
         "Software Development M4",
         "0.4230769230769231",
         "0.5769230769230769",
         "0.0",
         "0.0",
         "Software Development"
        ],
        [
         "18",
         "Quality Assurance M1",
         "0.0",
         "1.0",
         "0.0",
         "0.0",
         "Quality Assurance"
        ],
        [
         "19",
         "Quality Assurance M2",
         "0.0",
         "1.0",
         "0.0",
         "0.0",
         "Quality Assurance"
        ],
        [
         "20",
         "Quality Assurance M3",
         "0.0",
         "1.0",
         "0.0",
         "0.0",
         "Quality Assurance"
        ],
        [
         "21",
         "Quality Assurance M4",
         "0.0",
         "1.0",
         "0.0",
         "0.0",
         "Quality Assurance"
        ],
        [
         "22",
         "User Experience M1",
         "0.5",
         "0.5",
         "0.0",
         "0.0",
         "User Experience"
        ],
        [
         "23",
         "User Experience M2",
         "0.0",
         "1.0",
         "0.0",
         "0.0",
         "User Experience"
        ],
        [
         "24",
         "User Experience M3",
         "0.0",
         "1.0",
         "0.0",
         "0.0",
         "User Experience"
        ],
        [
         "25",
         "User Experience M4",
         "0.0",
         "1.0",
         "0.0",
         "0.0",
         "User Experience"
        ]
       ],
       "shape": {
        "columns": 6,
        "rows": 26
       }
      },
      "text/html": [
       "<div>\n",
       "<style scoped>\n",
       "    .dataframe tbody tr th:only-of-type {\n",
       "        vertical-align: middle;\n",
       "    }\n",
       "\n",
       "    .dataframe tbody tr th {\n",
       "        vertical-align: top;\n",
       "    }\n",
       "\n",
       "    .dataframe thead th {\n",
       "        text-align: right;\n",
       "    }\n",
       "</style>\n",
       "<table border=\"1\" class=\"dataframe\">\n",
       "  <thead>\n",
       "    <tr style=\"text-align: right;\">\n",
       "      <th></th>\n",
       "      <th>Module</th>\n",
       "      <th>Did Not Complete</th>\n",
       "      <th>Successfully Completed</th>\n",
       "      <th>Partially Completed</th>\n",
       "      <th>NA</th>\n",
       "      <th>Pathway</th>\n",
       "    </tr>\n",
       "  </thead>\n",
       "  <tbody>\n",
       "    <tr>\n",
       "      <th>0</th>\n",
       "      <td>Software Development 1</td>\n",
       "      <td>0.569444</td>\n",
       "      <td>0.430556</td>\n",
       "      <td>0.000000</td>\n",
       "      <td>0.000000</td>\n",
       "      <td>Software Development</td>\n",
       "    </tr>\n",
       "    <tr>\n",
       "      <th>1</th>\n",
       "      <td>Software Development 2</td>\n",
       "      <td>0.470588</td>\n",
       "      <td>0.529412</td>\n",
       "      <td>0.000000</td>\n",
       "      <td>0.000000</td>\n",
       "      <td>Software Development</td>\n",
       "    </tr>\n",
       "    <tr>\n",
       "      <th>2</th>\n",
       "      <td>Web Development 1</td>\n",
       "      <td>0.527778</td>\n",
       "      <td>0.472222</td>\n",
       "      <td>0.000000</td>\n",
       "      <td>0.000000</td>\n",
       "      <td>Web Development</td>\n",
       "    </tr>\n",
       "    <tr>\n",
       "      <th>3</th>\n",
       "      <td>Web Development 2</td>\n",
       "      <td>0.466667</td>\n",
       "      <td>0.533333</td>\n",
       "      <td>0.000000</td>\n",
       "      <td>0.000000</td>\n",
       "      <td>Web Development</td>\n",
       "    </tr>\n",
       "    <tr>\n",
       "      <th>4</th>\n",
       "      <td>Data Analysis 1</td>\n",
       "      <td>0.666667</td>\n",
       "      <td>0.333333</td>\n",
       "      <td>0.000000</td>\n",
       "      <td>0.000000</td>\n",
       "      <td>Data Analysis</td>\n",
       "    </tr>\n",
       "    <tr>\n",
       "      <th>5</th>\n",
       "      <td>Data Analytics 2</td>\n",
       "      <td>0.352941</td>\n",
       "      <td>0.647059</td>\n",
       "      <td>0.000000</td>\n",
       "      <td>0.000000</td>\n",
       "      <td>Data Analytics</td>\n",
       "    </tr>\n",
       "    <tr>\n",
       "      <th>6</th>\n",
       "      <td>Web Development M1</td>\n",
       "      <td>0.156250</td>\n",
       "      <td>0.791667</td>\n",
       "      <td>0.052083</td>\n",
       "      <td>0.000000</td>\n",
       "      <td>Web Development</td>\n",
       "    </tr>\n",
       "    <tr>\n",
       "      <th>7</th>\n",
       "      <td>Web Development M2</td>\n",
       "      <td>0.153846</td>\n",
       "      <td>0.807692</td>\n",
       "      <td>0.038462</td>\n",
       "      <td>0.000000</td>\n",
       "      <td>Web Development</td>\n",
       "    </tr>\n",
       "    <tr>\n",
       "      <th>8</th>\n",
       "      <td>Web Development M3</td>\n",
       "      <td>0.093750</td>\n",
       "      <td>0.593750</td>\n",
       "      <td>0.000000</td>\n",
       "      <td>0.312500</td>\n",
       "      <td>Web Development</td>\n",
       "    </tr>\n",
       "    <tr>\n",
       "      <th>9</th>\n",
       "      <td>Web Development M4</td>\n",
       "      <td>0.325000</td>\n",
       "      <td>0.675000</td>\n",
       "      <td>0.000000</td>\n",
       "      <td>0.000000</td>\n",
       "      <td>Web Development</td>\n",
       "    </tr>\n",
       "    <tr>\n",
       "      <th>10</th>\n",
       "      <td>Data Analysis M1</td>\n",
       "      <td>0.157407</td>\n",
       "      <td>0.777778</td>\n",
       "      <td>0.064815</td>\n",
       "      <td>0.000000</td>\n",
       "      <td>Data Analysis</td>\n",
       "    </tr>\n",
       "    <tr>\n",
       "      <th>11</th>\n",
       "      <td>Data Analysis M2</td>\n",
       "      <td>0.279070</td>\n",
       "      <td>0.604651</td>\n",
       "      <td>0.093023</td>\n",
       "      <td>0.023256</td>\n",
       "      <td>Data Analysis</td>\n",
       "    </tr>\n",
       "    <tr>\n",
       "      <th>12</th>\n",
       "      <td>Data Analysis M3</td>\n",
       "      <td>0.076923</td>\n",
       "      <td>0.634615</td>\n",
       "      <td>0.038462</td>\n",
       "      <td>0.250000</td>\n",
       "      <td>Data Analysis</td>\n",
       "    </tr>\n",
       "    <tr>\n",
       "      <th>13</th>\n",
       "      <td>Data Analysis M4</td>\n",
       "      <td>0.393939</td>\n",
       "      <td>0.575758</td>\n",
       "      <td>0.030303</td>\n",
       "      <td>0.000000</td>\n",
       "      <td>Data Analysis</td>\n",
       "    </tr>\n",
       "    <tr>\n",
       "      <th>14</th>\n",
       "      <td>Software Development M1</td>\n",
       "      <td>0.181818</td>\n",
       "      <td>0.800000</td>\n",
       "      <td>0.018182</td>\n",
       "      <td>0.000000</td>\n",
       "      <td>Software Development</td>\n",
       "    </tr>\n",
       "    <tr>\n",
       "      <th>15</th>\n",
       "      <td>Software Development M2</td>\n",
       "      <td>0.209302</td>\n",
       "      <td>0.744186</td>\n",
       "      <td>0.046512</td>\n",
       "      <td>0.000000</td>\n",
       "      <td>Software Development</td>\n",
       "    </tr>\n",
       "    <tr>\n",
       "      <th>16</th>\n",
       "      <td>Software Development M3</td>\n",
       "      <td>0.151515</td>\n",
       "      <td>0.787879</td>\n",
       "      <td>0.060606</td>\n",
       "      <td>0.000000</td>\n",
       "      <td>Software Development</td>\n",
       "    </tr>\n",
       "    <tr>\n",
       "      <th>17</th>\n",
       "      <td>Software Development M4</td>\n",
       "      <td>0.423077</td>\n",
       "      <td>0.576923</td>\n",
       "      <td>0.000000</td>\n",
       "      <td>0.000000</td>\n",
       "      <td>Software Development</td>\n",
       "    </tr>\n",
       "    <tr>\n",
       "      <th>18</th>\n",
       "      <td>Quality Assurance M1</td>\n",
       "      <td>0.000000</td>\n",
       "      <td>1.000000</td>\n",
       "      <td>0.000000</td>\n",
       "      <td>0.000000</td>\n",
       "      <td>Quality Assurance</td>\n",
       "    </tr>\n",
       "    <tr>\n",
       "      <th>19</th>\n",
       "      <td>Quality Assurance M2</td>\n",
       "      <td>0.000000</td>\n",
       "      <td>1.000000</td>\n",
       "      <td>0.000000</td>\n",
       "      <td>0.000000</td>\n",
       "      <td>Quality Assurance</td>\n",
       "    </tr>\n",
       "    <tr>\n",
       "      <th>20</th>\n",
       "      <td>Quality Assurance M3</td>\n",
       "      <td>0.000000</td>\n",
       "      <td>1.000000</td>\n",
       "      <td>0.000000</td>\n",
       "      <td>0.000000</td>\n",
       "      <td>Quality Assurance</td>\n",
       "    </tr>\n",
       "    <tr>\n",
       "      <th>21</th>\n",
       "      <td>Quality Assurance M4</td>\n",
       "      <td>0.000000</td>\n",
       "      <td>1.000000</td>\n",
       "      <td>0.000000</td>\n",
       "      <td>0.000000</td>\n",
       "      <td>Quality Assurance</td>\n",
       "    </tr>\n",
       "    <tr>\n",
       "      <th>22</th>\n",
       "      <td>User Experience M1</td>\n",
       "      <td>0.500000</td>\n",
       "      <td>0.500000</td>\n",
       "      <td>0.000000</td>\n",
       "      <td>0.000000</td>\n",
       "      <td>User Experience</td>\n",
       "    </tr>\n",
       "    <tr>\n",
       "      <th>23</th>\n",
       "      <td>User Experience M2</td>\n",
       "      <td>0.000000</td>\n",
       "      <td>1.000000</td>\n",
       "      <td>0.000000</td>\n",
       "      <td>0.000000</td>\n",
       "      <td>User Experience</td>\n",
       "    </tr>\n",
       "    <tr>\n",
       "      <th>24</th>\n",
       "      <td>User Experience M3</td>\n",
       "      <td>0.000000</td>\n",
       "      <td>1.000000</td>\n",
       "      <td>0.000000</td>\n",
       "      <td>0.000000</td>\n",
       "      <td>User Experience</td>\n",
       "    </tr>\n",
       "    <tr>\n",
       "      <th>25</th>\n",
       "      <td>User Experience M4</td>\n",
       "      <td>0.000000</td>\n",
       "      <td>1.000000</td>\n",
       "      <td>0.000000</td>\n",
       "      <td>0.000000</td>\n",
       "      <td>User Experience</td>\n",
       "    </tr>\n",
       "  </tbody>\n",
       "</table>\n",
       "</div>"
      ],
      "text/plain": [
       "                     Module  Did Not Complete  Successfully Completed  \\\n",
       "0    Software Development 1          0.569444                0.430556   \n",
       "1    Software Development 2          0.470588                0.529412   \n",
       "2         Web Development 1          0.527778                0.472222   \n",
       "3         Web Development 2          0.466667                0.533333   \n",
       "4           Data Analysis 1          0.666667                0.333333   \n",
       "5          Data Analytics 2          0.352941                0.647059   \n",
       "6        Web Development M1          0.156250                0.791667   \n",
       "7        Web Development M2          0.153846                0.807692   \n",
       "8        Web Development M3          0.093750                0.593750   \n",
       "9        Web Development M4          0.325000                0.675000   \n",
       "10         Data Analysis M1          0.157407                0.777778   \n",
       "11         Data Analysis M2          0.279070                0.604651   \n",
       "12         Data Analysis M3          0.076923                0.634615   \n",
       "13         Data Analysis M4          0.393939                0.575758   \n",
       "14  Software Development M1          0.181818                0.800000   \n",
       "15  Software Development M2          0.209302                0.744186   \n",
       "16  Software Development M3          0.151515                0.787879   \n",
       "17  Software Development M4          0.423077                0.576923   \n",
       "18     Quality Assurance M1          0.000000                1.000000   \n",
       "19     Quality Assurance M2          0.000000                1.000000   \n",
       "20     Quality Assurance M3          0.000000                1.000000   \n",
       "21     Quality Assurance M4          0.000000                1.000000   \n",
       "22       User Experience M1          0.500000                0.500000   \n",
       "23       User Experience M2          0.000000                1.000000   \n",
       "24       User Experience M3          0.000000                1.000000   \n",
       "25       User Experience M4          0.000000                1.000000   \n",
       "\n",
       "    Partially Completed        NA               Pathway  \n",
       "0              0.000000  0.000000  Software Development  \n",
       "1              0.000000  0.000000  Software Development  \n",
       "2              0.000000  0.000000       Web Development  \n",
       "3              0.000000  0.000000       Web Development  \n",
       "4              0.000000  0.000000         Data Analysis  \n",
       "5              0.000000  0.000000        Data Analytics  \n",
       "6              0.052083  0.000000       Web Development  \n",
       "7              0.038462  0.000000       Web Development  \n",
       "8              0.000000  0.312500       Web Development  \n",
       "9              0.000000  0.000000       Web Development  \n",
       "10             0.064815  0.000000         Data Analysis  \n",
       "11             0.093023  0.023256         Data Analysis  \n",
       "12             0.038462  0.250000         Data Analysis  \n",
       "13             0.030303  0.000000         Data Analysis  \n",
       "14             0.018182  0.000000  Software Development  \n",
       "15             0.046512  0.000000  Software Development  \n",
       "16             0.060606  0.000000  Software Development  \n",
       "17             0.000000  0.000000  Software Development  \n",
       "18             0.000000  0.000000     Quality Assurance  \n",
       "19             0.000000  0.000000     Quality Assurance  \n",
       "20             0.000000  0.000000     Quality Assurance  \n",
       "21             0.000000  0.000000     Quality Assurance  \n",
       "22             0.000000  0.000000       User Experience  \n",
       "23             0.000000  0.000000       User Experience  \n",
       "24             0.000000  0.000000       User Experience  \n",
       "25             0.000000  0.000000       User Experience  "
      ]
     },
     "execution_count": 95,
     "metadata": {},
     "output_type": "execute_result"
    }
   ],
   "source": [
    "# Not the best Pandas way to do it:\n",
    "def Get_completion_percentages(df: pd.DataFrame, cohort: str = 'All') -> pd.DataFrame:\n",
    "    if cohort == 'All':\n",
    "        data = df\n",
    "    else:\n",
    "        data = df[df['ATP Cohort'] == pd.Timestamp(cohort)]\n",
    "\n",
    "    completion_dictionary = {}\n",
    "\n",
    "    for path in pathways:\n",
    "        outcome = df[df['Service'] == path]['Outcome'].value_counts(normalize=True).reset_index()\n",
    "        completion_dictionary[path] = {row.Outcome: row.proportion for row in outcome.itertuples(index=True)}\n",
    "    \n",
    "    result_df = pd.DataFrame(completion_dictionary).transpose().fillna(0).rename_axis('Module').reset_index()\n",
    "\n",
    "    result_df['Pathway'] = result_df['Module'].apply(lambda x: x[:x.rfind(' ')]) # intended to be able to sort by pathway\n",
    "    return result_df\n",
    "# TODO: Add test\n",
    "\n",
    "Get_completion_percentages(enrollments)"
   ]
  },
  {
   "cell_type": "code",
   "execution_count": 96,
   "id": "b85b02f0",
   "metadata": {},
   "outputs": [
    {
     "data": {
      "text/html": [
       "\n",
       "        <iframe\n",
       "            width=\"100%\"\n",
       "            height=\"650\"\n",
       "            src=\"http://127.0.0.1:8053/\"\n",
       "            frameborder=\"0\"\n",
       "            allowfullscreen\n",
       "            \n",
       "        ></iframe>\n",
       "        "
      ],
      "text/plain": [
       "<IPython.lib.display.IFrame at 0x20cd470e240>"
      ]
     },
     "metadata": {},
     "output_type": "display_data"
    }
   ],
   "source": [
    "app2 = Dash(__name__)\n",
    "# Const\n",
    "completion_df = Get_completion_percentages(enrollments)\n",
    "options = list(completion_df['Pathway'].unique())\n",
    "\n",
    "pathway_color = {\n",
    "    'Software Development': 'green', \n",
    "    'Web Development': 'blue', \n",
    "    'Data Analysis': 'red',\n",
    "    'Quality Assurance': 'yellow', \n",
    "    'User Experience': 'purple'\n",
    "}\n",
    "\n",
    "# Display\n",
    "app2.layout = html.Div([\n",
    "    html.H2('Pathways Completion', style={'text-align': \"center\"}),\n",
    "    html.P('Select pathway:'),\n",
    "    dcc.Dropdown(\n",
    "        id=\"dropdown\",\n",
    "        options=options,\n",
    "        value=options[0],\n",
    "        clearable=False,\n",
    "    ),\n",
    "    dcc.Graph(id=\"graph\")\n",
    "    \n",
    "], style={'backgroundColor':'white'})\n",
    "\n",
    "@app2.callback(\n",
    "    Output(\"graph\", \"figure\"),\n",
    "    Input(\"dropdown\", \"value\"))\n",
    "\n",
    "# Graph\n",
    "def Display_pathway_completion(p):\n",
    "    df = completion_df[completion_df['Pathway'] == p]\n",
    "    fig = px.bar(df, x='Module', y='Successfully Completed')\n",
    "    return fig\n",
    "\n",
    "app2.run(debug=True, port=8053)"
   ]
  },
  {
   "cell_type": "code",
   "execution_count": 97,
   "id": "0db624db",
   "metadata": {},
   "outputs": [
    {
     "data": {
      "application/vnd.plotly.v1+json": {
       "config": {
        "plotlyServerURL": "https://plot.ly"
       },
       "data": [
        {
         "hovertemplate": "Module=%{x}<br>Successfully Completed=%{y}<extra></extra>",
         "legendgroup": "",
         "marker": {
          "color": "#636efa",
          "pattern": {
           "shape": ""
          }
         },
         "name": "",
         "orientation": "v",
         "showlegend": false,
         "textposition": "auto",
         "type": "bar",
         "x": [
          "Software Development 1",
          "Software Development 2",
          "Web Development 1",
          "Web Development 2",
          "Data Analysis 1",
          "Data Analytics 2",
          "Web Development M1",
          "Web Development M2",
          "Web Development M3",
          "Web Development M4",
          "Data Analysis M1",
          "Data Analysis M2",
          "Data Analysis M3",
          "Data Analysis M4",
          "Software Development M1",
          "Software Development M2",
          "Software Development M3",
          "Software Development M4",
          "Quality Assurance M1",
          "Quality Assurance M2",
          "Quality Assurance M3",
          "Quality Assurance M4",
          "User Experience M1",
          "User Experience M2",
          "User Experience M3",
          "User Experience M4"
         ],
         "xaxis": "x",
         "y": {
          "bdata": "5DiO4ziO2z/x8PDw8PDgP47jOI7jON4/ERERERER4T9VVVVVVVXVP7W0tLS0tOQ/VVVVVVVV6T+KndiJndjpPwAAAAAAAOM/mpmZmZmZ5T85juM4juPoP9aUNWVNWeM/7MRO7MRO5D9tsskmm2ziP5qZmZmZmek/9AV9QV/Q5z822WSTTTbpP2IndmInduI/AAAAAAAA8D8AAAAAAADwPwAAAAAAAPA/AAAAAAAA8D8AAAAAAADgPwAAAAAAAPA/AAAAAAAA8D8AAAAAAADwPw==",
          "dtype": "f8"
         },
         "yaxis": "y"
        }
       ],
       "layout": {
        "barmode": "relative",
        "legend": {
         "tracegroupgap": 0
        },
        "margin": {
         "t": 60
        },
        "template": {
         "data": {
          "bar": [
           {
            "error_x": {
             "color": "#2a3f5f"
            },
            "error_y": {
             "color": "#2a3f5f"
            },
            "marker": {
             "line": {
              "color": "#E5ECF6",
              "width": 0.5
             },
             "pattern": {
              "fillmode": "overlay",
              "size": 10,
              "solidity": 0.2
             }
            },
            "type": "bar"
           }
          ],
          "barpolar": [
           {
            "marker": {
             "line": {
              "color": "#E5ECF6",
              "width": 0.5
             },
             "pattern": {
              "fillmode": "overlay",
              "size": 10,
              "solidity": 0.2
             }
            },
            "type": "barpolar"
           }
          ],
          "carpet": [
           {
            "aaxis": {
             "endlinecolor": "#2a3f5f",
             "gridcolor": "white",
             "linecolor": "white",
             "minorgridcolor": "white",
             "startlinecolor": "#2a3f5f"
            },
            "baxis": {
             "endlinecolor": "#2a3f5f",
             "gridcolor": "white",
             "linecolor": "white",
             "minorgridcolor": "white",
             "startlinecolor": "#2a3f5f"
            },
            "type": "carpet"
           }
          ],
          "choropleth": [
           {
            "colorbar": {
             "outlinewidth": 0,
             "ticks": ""
            },
            "type": "choropleth"
           }
          ],
          "contour": [
           {
            "colorbar": {
             "outlinewidth": 0,
             "ticks": ""
            },
            "colorscale": [
             [
              0,
              "#0d0887"
             ],
             [
              0.1111111111111111,
              "#46039f"
             ],
             [
              0.2222222222222222,
              "#7201a8"
             ],
             [
              0.3333333333333333,
              "#9c179e"
             ],
             [
              0.4444444444444444,
              "#bd3786"
             ],
             [
              0.5555555555555556,
              "#d8576b"
             ],
             [
              0.6666666666666666,
              "#ed7953"
             ],
             [
              0.7777777777777778,
              "#fb9f3a"
             ],
             [
              0.8888888888888888,
              "#fdca26"
             ],
             [
              1,
              "#f0f921"
             ]
            ],
            "type": "contour"
           }
          ],
          "contourcarpet": [
           {
            "colorbar": {
             "outlinewidth": 0,
             "ticks": ""
            },
            "type": "contourcarpet"
           }
          ],
          "heatmap": [
           {
            "colorbar": {
             "outlinewidth": 0,
             "ticks": ""
            },
            "colorscale": [
             [
              0,
              "#0d0887"
             ],
             [
              0.1111111111111111,
              "#46039f"
             ],
             [
              0.2222222222222222,
              "#7201a8"
             ],
             [
              0.3333333333333333,
              "#9c179e"
             ],
             [
              0.4444444444444444,
              "#bd3786"
             ],
             [
              0.5555555555555556,
              "#d8576b"
             ],
             [
              0.6666666666666666,
              "#ed7953"
             ],
             [
              0.7777777777777778,
              "#fb9f3a"
             ],
             [
              0.8888888888888888,
              "#fdca26"
             ],
             [
              1,
              "#f0f921"
             ]
            ],
            "type": "heatmap"
           }
          ],
          "histogram": [
           {
            "marker": {
             "pattern": {
              "fillmode": "overlay",
              "size": 10,
              "solidity": 0.2
             }
            },
            "type": "histogram"
           }
          ],
          "histogram2d": [
           {
            "colorbar": {
             "outlinewidth": 0,
             "ticks": ""
            },
            "colorscale": [
             [
              0,
              "#0d0887"
             ],
             [
              0.1111111111111111,
              "#46039f"
             ],
             [
              0.2222222222222222,
              "#7201a8"
             ],
             [
              0.3333333333333333,
              "#9c179e"
             ],
             [
              0.4444444444444444,
              "#bd3786"
             ],
             [
              0.5555555555555556,
              "#d8576b"
             ],
             [
              0.6666666666666666,
              "#ed7953"
             ],
             [
              0.7777777777777778,
              "#fb9f3a"
             ],
             [
              0.8888888888888888,
              "#fdca26"
             ],
             [
              1,
              "#f0f921"
             ]
            ],
            "type": "histogram2d"
           }
          ],
          "histogram2dcontour": [
           {
            "colorbar": {
             "outlinewidth": 0,
             "ticks": ""
            },
            "colorscale": [
             [
              0,
              "#0d0887"
             ],
             [
              0.1111111111111111,
              "#46039f"
             ],
             [
              0.2222222222222222,
              "#7201a8"
             ],
             [
              0.3333333333333333,
              "#9c179e"
             ],
             [
              0.4444444444444444,
              "#bd3786"
             ],
             [
              0.5555555555555556,
              "#d8576b"
             ],
             [
              0.6666666666666666,
              "#ed7953"
             ],
             [
              0.7777777777777778,
              "#fb9f3a"
             ],
             [
              0.8888888888888888,
              "#fdca26"
             ],
             [
              1,
              "#f0f921"
             ]
            ],
            "type": "histogram2dcontour"
           }
          ],
          "mesh3d": [
           {
            "colorbar": {
             "outlinewidth": 0,
             "ticks": ""
            },
            "type": "mesh3d"
           }
          ],
          "parcoords": [
           {
            "line": {
             "colorbar": {
              "outlinewidth": 0,
              "ticks": ""
             }
            },
            "type": "parcoords"
           }
          ],
          "pie": [
           {
            "automargin": true,
            "type": "pie"
           }
          ],
          "scatter": [
           {
            "fillpattern": {
             "fillmode": "overlay",
             "size": 10,
             "solidity": 0.2
            },
            "type": "scatter"
           }
          ],
          "scatter3d": [
           {
            "line": {
             "colorbar": {
              "outlinewidth": 0,
              "ticks": ""
             }
            },
            "marker": {
             "colorbar": {
              "outlinewidth": 0,
              "ticks": ""
             }
            },
            "type": "scatter3d"
           }
          ],
          "scattercarpet": [
           {
            "marker": {
             "colorbar": {
              "outlinewidth": 0,
              "ticks": ""
             }
            },
            "type": "scattercarpet"
           }
          ],
          "scattergeo": [
           {
            "marker": {
             "colorbar": {
              "outlinewidth": 0,
              "ticks": ""
             }
            },
            "type": "scattergeo"
           }
          ],
          "scattergl": [
           {
            "marker": {
             "colorbar": {
              "outlinewidth": 0,
              "ticks": ""
             }
            },
            "type": "scattergl"
           }
          ],
          "scattermap": [
           {
            "marker": {
             "colorbar": {
              "outlinewidth": 0,
              "ticks": ""
             }
            },
            "type": "scattermap"
           }
          ],
          "scattermapbox": [
           {
            "marker": {
             "colorbar": {
              "outlinewidth": 0,
              "ticks": ""
             }
            },
            "type": "scattermapbox"
           }
          ],
          "scatterpolar": [
           {
            "marker": {
             "colorbar": {
              "outlinewidth": 0,
              "ticks": ""
             }
            },
            "type": "scatterpolar"
           }
          ],
          "scatterpolargl": [
           {
            "marker": {
             "colorbar": {
              "outlinewidth": 0,
              "ticks": ""
             }
            },
            "type": "scatterpolargl"
           }
          ],
          "scatterternary": [
           {
            "marker": {
             "colorbar": {
              "outlinewidth": 0,
              "ticks": ""
             }
            },
            "type": "scatterternary"
           }
          ],
          "surface": [
           {
            "colorbar": {
             "outlinewidth": 0,
             "ticks": ""
            },
            "colorscale": [
             [
              0,
              "#0d0887"
             ],
             [
              0.1111111111111111,
              "#46039f"
             ],
             [
              0.2222222222222222,
              "#7201a8"
             ],
             [
              0.3333333333333333,
              "#9c179e"
             ],
             [
              0.4444444444444444,
              "#bd3786"
             ],
             [
              0.5555555555555556,
              "#d8576b"
             ],
             [
              0.6666666666666666,
              "#ed7953"
             ],
             [
              0.7777777777777778,
              "#fb9f3a"
             ],
             [
              0.8888888888888888,
              "#fdca26"
             ],
             [
              1,
              "#f0f921"
             ]
            ],
            "type": "surface"
           }
          ],
          "table": [
           {
            "cells": {
             "fill": {
              "color": "#EBF0F8"
             },
             "line": {
              "color": "white"
             }
            },
            "header": {
             "fill": {
              "color": "#C8D4E3"
             },
             "line": {
              "color": "white"
             }
            },
            "type": "table"
           }
          ]
         },
         "layout": {
          "annotationdefaults": {
           "arrowcolor": "#2a3f5f",
           "arrowhead": 0,
           "arrowwidth": 1
          },
          "autotypenumbers": "strict",
          "coloraxis": {
           "colorbar": {
            "outlinewidth": 0,
            "ticks": ""
           }
          },
          "colorscale": {
           "diverging": [
            [
             0,
             "#8e0152"
            ],
            [
             0.1,
             "#c51b7d"
            ],
            [
             0.2,
             "#de77ae"
            ],
            [
             0.3,
             "#f1b6da"
            ],
            [
             0.4,
             "#fde0ef"
            ],
            [
             0.5,
             "#f7f7f7"
            ],
            [
             0.6,
             "#e6f5d0"
            ],
            [
             0.7,
             "#b8e186"
            ],
            [
             0.8,
             "#7fbc41"
            ],
            [
             0.9,
             "#4d9221"
            ],
            [
             1,
             "#276419"
            ]
           ],
           "sequential": [
            [
             0,
             "#0d0887"
            ],
            [
             0.1111111111111111,
             "#46039f"
            ],
            [
             0.2222222222222222,
             "#7201a8"
            ],
            [
             0.3333333333333333,
             "#9c179e"
            ],
            [
             0.4444444444444444,
             "#bd3786"
            ],
            [
             0.5555555555555556,
             "#d8576b"
            ],
            [
             0.6666666666666666,
             "#ed7953"
            ],
            [
             0.7777777777777778,
             "#fb9f3a"
            ],
            [
             0.8888888888888888,
             "#fdca26"
            ],
            [
             1,
             "#f0f921"
            ]
           ],
           "sequentialminus": [
            [
             0,
             "#0d0887"
            ],
            [
             0.1111111111111111,
             "#46039f"
            ],
            [
             0.2222222222222222,
             "#7201a8"
            ],
            [
             0.3333333333333333,
             "#9c179e"
            ],
            [
             0.4444444444444444,
             "#bd3786"
            ],
            [
             0.5555555555555556,
             "#d8576b"
            ],
            [
             0.6666666666666666,
             "#ed7953"
            ],
            [
             0.7777777777777778,
             "#fb9f3a"
            ],
            [
             0.8888888888888888,
             "#fdca26"
            ],
            [
             1,
             "#f0f921"
            ]
           ]
          },
          "colorway": [
           "#636efa",
           "#EF553B",
           "#00cc96",
           "#ab63fa",
           "#FFA15A",
           "#19d3f3",
           "#FF6692",
           "#B6E880",
           "#FF97FF",
           "#FECB52"
          ],
          "font": {
           "color": "#2a3f5f"
          },
          "geo": {
           "bgcolor": "white",
           "lakecolor": "white",
           "landcolor": "#E5ECF6",
           "showlakes": true,
           "showland": true,
           "subunitcolor": "white"
          },
          "hoverlabel": {
           "align": "left"
          },
          "hovermode": "closest",
          "mapbox": {
           "style": "light"
          },
          "paper_bgcolor": "white",
          "plot_bgcolor": "#E5ECF6",
          "polar": {
           "angularaxis": {
            "gridcolor": "white",
            "linecolor": "white",
            "ticks": ""
           },
           "bgcolor": "#E5ECF6",
           "radialaxis": {
            "gridcolor": "white",
            "linecolor": "white",
            "ticks": ""
           }
          },
          "scene": {
           "xaxis": {
            "backgroundcolor": "#E5ECF6",
            "gridcolor": "white",
            "gridwidth": 2,
            "linecolor": "white",
            "showbackground": true,
            "ticks": "",
            "zerolinecolor": "white"
           },
           "yaxis": {
            "backgroundcolor": "#E5ECF6",
            "gridcolor": "white",
            "gridwidth": 2,
            "linecolor": "white",
            "showbackground": true,
            "ticks": "",
            "zerolinecolor": "white"
           },
           "zaxis": {
            "backgroundcolor": "#E5ECF6",
            "gridcolor": "white",
            "gridwidth": 2,
            "linecolor": "white",
            "showbackground": true,
            "ticks": "",
            "zerolinecolor": "white"
           }
          },
          "shapedefaults": {
           "line": {
            "color": "#2a3f5f"
           }
          },
          "ternary": {
           "aaxis": {
            "gridcolor": "white",
            "linecolor": "white",
            "ticks": ""
           },
           "baxis": {
            "gridcolor": "white",
            "linecolor": "white",
            "ticks": ""
           },
           "bgcolor": "#E5ECF6",
           "caxis": {
            "gridcolor": "white",
            "linecolor": "white",
            "ticks": ""
           }
          },
          "title": {
           "x": 0.05
          },
          "xaxis": {
           "automargin": true,
           "gridcolor": "white",
           "linecolor": "white",
           "ticks": "",
           "title": {
            "standoff": 15
           },
           "zerolinecolor": "white",
           "zerolinewidth": 2
          },
          "yaxis": {
           "automargin": true,
           "gridcolor": "white",
           "linecolor": "white",
           "ticks": "",
           "title": {
            "standoff": 15
           },
           "zerolinecolor": "white",
           "zerolinewidth": 2
          }
         }
        },
        "xaxis": {
         "anchor": "y",
         "domain": [
          0,
          1
         ],
         "title": {
          "text": "Module"
         }
        },
        "yaxis": {
         "anchor": "x",
         "domain": [
          0,
          1
         ],
         "title": {
          "text": "Successfully Completed"
         }
        }
       }
      }
     },
     "metadata": {},
     "output_type": "display_data"
    }
   ],
   "source": [
    "# Just testing\n",
    "completion = Get_completion_percentages(enrollments)\n",
    "px.bar(completion, x='Module', y='Successfully Completed').show()"
   ]
  }
 ],
 "metadata": {
  "kernelspec": {
   "display_name": "venv",
   "language": "python",
   "name": "python3"
  },
  "language_info": {
   "codemirror_mode": {
    "name": "ipython",
    "version": 3
   },
   "file_extension": ".py",
   "mimetype": "text/x-python",
   "name": "python",
   "nbconvert_exporter": "python",
   "pygments_lexer": "ipython3",
   "version": "3.12.6"
  }
 },
 "nbformat": 4,
 "nbformat_minor": 5
}
